{
 "cells": [
  {
   "cell_type": "code",
   "execution_count": 1,
   "metadata": {},
   "outputs": [
    {
     "name": "stderr",
     "output_type": "stream",
     "text": [
      "C:\\Users\\alexs\\.conda\\envs\\Alex_R\\lib\\site-packages\\sklearn\\utils\\deprecation.py:144: FutureWarning:\n",
      "\n",
      "The sklearn.metrics.scorer module is  deprecated in version 0.22 and will be removed in version 0.24. The corresponding classes / functions should instead be imported from sklearn.metrics. Anything that cannot be imported from sklearn.metrics is now part of the private API.\n",
      "\n",
      "C:\\Users\\alexs\\.conda\\envs\\Alex_R\\lib\\site-packages\\sklearn\\utils\\deprecation.py:144: FutureWarning:\n",
      "\n",
      "The sklearn.feature_selection.base module is  deprecated in version 0.22 and will be removed in version 0.24. The corresponding classes / functions should instead be imported from sklearn.feature_selection. Anything that cannot be imported from sklearn.feature_selection is now part of the private API.\n",
      "\n",
      "Using TensorFlow backend.\n",
      "C:\\Users\\alexs\\.conda\\envs\\Alex_R\\lib\\site-packages\\tensorflow\\python\\framework\\dtypes.py:526: FutureWarning:\n",
      "\n",
      "Passing (type, 1) or '1type' as a synonym of type is deprecated; in a future version of numpy, it will be understood as (type, (1,)) / '(1,)type'.\n",
      "\n",
      "C:\\Users\\alexs\\.conda\\envs\\Alex_R\\lib\\site-packages\\tensorflow\\python\\framework\\dtypes.py:527: FutureWarning:\n",
      "\n",
      "Passing (type, 1) or '1type' as a synonym of type is deprecated; in a future version of numpy, it will be understood as (type, (1,)) / '(1,)type'.\n",
      "\n",
      "C:\\Users\\alexs\\.conda\\envs\\Alex_R\\lib\\site-packages\\tensorflow\\python\\framework\\dtypes.py:528: FutureWarning:\n",
      "\n",
      "Passing (type, 1) or '1type' as a synonym of type is deprecated; in a future version of numpy, it will be understood as (type, (1,)) / '(1,)type'.\n",
      "\n",
      "C:\\Users\\alexs\\.conda\\envs\\Alex_R\\lib\\site-packages\\tensorflow\\python\\framework\\dtypes.py:529: FutureWarning:\n",
      "\n",
      "Passing (type, 1) or '1type' as a synonym of type is deprecated; in a future version of numpy, it will be understood as (type, (1,)) / '(1,)type'.\n",
      "\n",
      "C:\\Users\\alexs\\.conda\\envs\\Alex_R\\lib\\site-packages\\tensorflow\\python\\framework\\dtypes.py:530: FutureWarning:\n",
      "\n",
      "Passing (type, 1) or '1type' as a synonym of type is deprecated; in a future version of numpy, it will be understood as (type, (1,)) / '(1,)type'.\n",
      "\n",
      "C:\\Users\\alexs\\.conda\\envs\\Alex_R\\lib\\site-packages\\tensorflow\\python\\framework\\dtypes.py:535: FutureWarning:\n",
      "\n",
      "Passing (type, 1) or '1type' as a synonym of type is deprecated; in a future version of numpy, it will be understood as (type, (1,)) / '(1,)type'.\n",
      "\n"
     ]
    }
   ],
   "source": [
    "import pandas as pd\n",
    "import numpy as np\n",
    "import seaborn as sns \n",
    "import matplotlib.pyplot as plt \n",
    "import datetime\n",
    "import plotly.express as px\n",
    "import sklearn\n",
    "\n",
    "from sklearn.feature_selection import chi2\n",
    "from sklearn.preprocessing import OneHotEncoder\n",
    "from sklearn.compose import make_column_transformer\n",
    "from sklearn.preprocessing import StandardScaler\n",
    "from warnings import simplefilter\n",
    "from sklearn.model_selection import train_test_split\n",
    "import sklearn.metrics as metrics\n",
    "from sklearn.metrics import confusion_matrix\n",
    "from sklearn.metrics import classification_report\n",
    "from sklearn.metrics import mean_squared_error\n",
    "from sklearn.metrics import roc_curve, auc\n",
    "from math import sqrt\n",
    "from sklearn import model_selection\n",
    "from sklearn.linear_model import LogisticRegression\n",
    "from sklearn.tree import DecisionTreeClassifier\n",
    "from sklearn.neighbors import KNeighborsClassifier\n",
    "from sklearn.ensemble import RandomForestClassifier\n",
    "from sklearn.naive_bayes import GaussianNB\n",
    "from sklearn import svm\n",
    "from sklearn.ensemble import BaggingClassifier\n",
    "from sklearn.ensemble import AdaBoostClassifier\n",
    "\n",
    "from sklearn.model_selection import KFold\n",
    "from sklearn.model_selection import LeaveOneOut\n",
    "from sklearn.model_selection import LeavePOut\n",
    "from sklearn.model_selection import ShuffleSplit\n",
    "from sklearn.model_selection import StratifiedKFold\n",
    "from sklearn.preprocessing import LabelEncoder\n",
    "from sklearn.compose import ColumnTransformer\n",
    "\n",
    "from sklearn.pipeline import make_pipeline\n",
    "from sklearn import preprocessing\n",
    "from sklearn.model_selection import cross_val_score\n",
    "import xgboost as xgb\n",
    "\n",
    "import eli5 # Feature importance evaluation\n",
    "\n",
    "from sklearn.pipeline import Pipeline\n",
    "from sklearn.preprocessing import LabelEncoder, OneHotEncoder\n",
    "from sklearn.impute import SimpleImputer\n",
    "\n",
    "from sklearn.model_selection import cross_val_predict\n",
    "from sklearn.model_selection import cross_validate\n",
    "\n",
    "from sklearn.metrics import make_scorer\n",
    "from xgboost import plot_importance"
   ]
  },
  {
   "cell_type": "code",
   "execution_count": 2,
   "metadata": {},
   "outputs": [],
   "source": [
    "#Definimos el concepto de tn, tp, fn y fp en una matriz de confusión binaria para poder extraerlos en cada iteración del CV:\n",
    "def tn(y_true, y_pred): return confusion_matrix(y_true, y_pred)[0, 0]\n",
    "def fp(y_true, y_pred): return confusion_matrix(y_true, y_pred)[0, 1]\n",
    "def fn(y_true, y_pred): return confusion_matrix(y_true, y_pred)[1, 0]\n",
    "def tp(y_true, y_pred): return confusion_matrix(y_true, y_pred)[1, 1]\n",
    "scoring = {'tp': make_scorer(tp), 'tn': make_scorer(tn),\n",
    "           'fp': make_scorer(fp), 'fn': make_scorer(fn)}"
   ]
  },
  {
   "cell_type": "markdown",
   "metadata": {},
   "source": [
    "# 7. Decision Tree Bagging"
   ]
  },
  {
   "cell_type": "markdown",
   "metadata": {},
   "source": [
    "### 7.1 Definimos dataset"
   ]
  },
  {
   "cell_type": "code",
   "execution_count": 3,
   "metadata": {},
   "outputs": [],
   "source": [
    "#Importamos el dataset final\n",
    "df_final = pd.read_csv(\"df_final.csv\")"
   ]
  },
  {
   "cell_type": "code",
   "execution_count": 4,
   "metadata": {},
   "outputs": [
    {
     "data": {
      "text/plain": [
       "(70349, 23)"
      ]
     },
     "execution_count": 4,
     "metadata": {},
     "output_type": "execute_result"
    }
   ],
   "source": [
    "df_final.shape"
   ]
  },
  {
   "cell_type": "markdown",
   "metadata": {},
   "source": [
    "### 7.2 Reducir atributos"
   ]
  },
  {
   "cell_type": "markdown",
   "metadata": {},
   "source": [
    "En este apartado vamos ver cuales son los atributos mas importantes para el modelo. Con esta información podremos ver si el modelo con menos variables es igual de bueno o no. De esta manera tendremos un atributo mucho mas simple y rapido."
   ]
  },
  {
   "cell_type": "markdown",
   "metadata": {},
   "source": [
    "Empezamos teniendo los 22 atributos iniciales."
   ]
  },
  {
   "cell_type": "code",
   "execution_count": 5,
   "metadata": {},
   "outputs": [
    {
     "name": "stdout",
     "output_type": "stream",
     "text": [
      "Decision Tree Bagging accuracy score: 0.8594 +/- 0.0043 (std) min: 0.8503, max: 0.8652\n",
      "Decision Tree Bagging balanced accuracy score: 0.853 +/- 0.0051 (std) min: 0.8441, max: 0.8601\n",
      "Decision Tree Baggingarea under ROC curve score: 0.9342 +/- 0.0039 (std) min: 0.927, max: 0.9408\n",
      "Decision Tree Bagging cross validation sensitivity score: 0.8047 +/- 0.0111 (std)\n",
      "Decision Tree Bagging cross validation specificity score: 0.9012 +/- 0.0041 (std)\n",
      "Decision Tree Bagging cross validation precision score: 0.8613 +/- 0.0068 (std)\n",
      "Decision Tree Bagging cross validation NPV score: 0.8581 +/- 0.0072 (std)\n",
      "Decision Tree Bagging cross validation FNR score: 0.1953 +/- 0.0111 (std)\n",
      "Decision Tree Bagging cross validation FPR score: 0.0988 +/- 0.0041 (std)\n",
      "Decision Tree Bagging cross validation F1 score: 0.832 +/- 0.0069 (std)\n",
      "[[2157.  236.]\n",
      " [ 356. 1470.]]\n"
     ]
    }
   ],
   "source": [
    "#Definimos que variables son númericas y cuales son categóricas:\n",
    "num_features = [\"lead_time\",\"arrival_date_week_number\", \"arrival_date_day_of_month\",\"stays_in_weekend_nights\",\"stays_in_week_nights\",\"adults\",\"children\",\"babies\",\"is_repeated_guest\",\"previous_cancellations\",\"previous_bookings_not_canceled\",\"agent\",\"adr\",\"required_car_parking_spaces\",\"total_of_special_requests\",\n",
    "               ]\n",
    ",\n",
    "cat_features = [\"arrival_date_month\",\"meal\",\"country\",\"market_segment\",\"distribution_channel\",\"reserved_room_type\",\"customer_type\"]\n",
    "\n",
    "\n",
    "features = num_features + cat_features\n",
    "\n",
    "#Definimos nuestros atributos y nuestra variable respuesta:\n",
    "X = df_final.drop([\"is_canceled\"], axis=1)[features]\n",
    "Y = df_final[\"is_canceled\"]\n",
    "\n",
    "X_train, X_test, y_train, y_test = train_test_split(X, Y, test_size=0.2, random_state=1)\n",
    "X_train, X_val, y_train, y_val = train_test_split(X_train, y_train, test_size=0.25, random_state=1) # 0.25 x 0.8 = 0.2\n",
    "\n",
    "#Prepararamos el preprocesado. Escalaremos las variables numéricas y codificaremos las variables categóricas:\n",
    "num_transformer = StandardScaler()\n",
    "cat_transformer = Pipeline(steps=[(\"onehot\", OneHotEncoder(handle_unknown='ignore'))])\n",
    "\n",
    "preprocessor = ColumnTransformer(transformers=[(\"num\", num_transformer, num_features),\n",
    "                                               (\"cat\", cat_transformer, cat_features)])\n",
    "#Definimos el modelo a usar:\n",
    "bagging_model = BaggingClassifier()\n",
    "\n",
    "#Usaremos 10-fold stratified CV. Al usar pipelines nos aseguramos que los datos se transformen en cada iteración.\n",
    "kfold = KFold(n_splits=10, random_state=100, shuffle = True)\n",
    "\n",
    "model_pipe = Pipeline(steps=[('preprocessor', preprocessor),\n",
    "                              ('model', bagging_model)])\n",
    "cv_results = cross_validate(model_pipe, \n",
    "                                 X_train, y_train, \n",
    "                                 cv=kfold,\n",
    "                                 scoring={'accuracy': 'accuracy','balanced_accuracy': 'balanced_accuracy','roc_auc': 'roc_auc','tp': make_scorer(tp), 'tn': make_scorer(tn),\n",
    "'fp': make_scorer(fp), 'fn': make_scorer(fn)},\n",
    "                                 n_jobs=-1)\n",
    "#Mostramos los resultados:\n",
    "model_results_bagging22 = np.zeros(shape=(1,7))\n",
    "accuracy_array =  cv_results['test_accuracy']\n",
    "balanced_accuracy_array =  cv_results['test_balanced_accuracy']\n",
    "roc_auc_array = cv_results['test_roc_auc']\n",
    "\n",
    "\n",
    "min_score_acc = round(min(accuracy_array), 4)\n",
    "max_score_acc = round(max(accuracy_array), 4)\n",
    "mean_score_acc = round(np.mean(accuracy_array), 4)\n",
    "std_dev_acc = round(np.std(accuracy_array), 4)\n",
    "\n",
    "min_score_bal_acc = round(min(balanced_accuracy_array), 4)\n",
    "max_score_bal_acc = round(max(balanced_accuracy_array), 4)\n",
    "mean_score_bal_acc = round(np.mean(balanced_accuracy_array), 4)\n",
    "std_dev_bal_acc = round(np.std(balanced_accuracy_array), 4)\n",
    "\n",
    "min_score_roc_auc = round(min(roc_auc_array), 4)\n",
    "max_score_roc_auc = round(max(roc_auc_array), 4)\n",
    "mean_score_roc_auc = round(np.mean(roc_auc_array), 4)\n",
    "std_dev_roc_auc = round(np.std(roc_auc_array), 4)\n",
    "\n",
    "sensitivity = np.zeros(shape=(1,10))\n",
    "specificity = np.zeros(shape=(1,10))\n",
    "precision = np.zeros(shape=(1,10))\n",
    "NPV = np.zeros(shape=(1,10))\n",
    "FNR = np.zeros(shape=(1,10))\n",
    "FPR = np.zeros(shape=(1,10))\n",
    "F1 = np.zeros(shape=(1,10))\n",
    "\n",
    "#Construimos la matriz de confusión:\n",
    "cm_bagging22 = np.zeros(shape=(2,2))\n",
    "\n",
    "tp_array = cv_results['test_tp']\n",
    "tn_array = cv_results['test_tn']\n",
    "fp_array = cv_results['test_fp']\n",
    "fn_array = cv_results['test_fn']\n",
    "    \n",
    "tn_mean = (tn_array.mean()).astype(np.int64)\n",
    "fp_mean = (fp_array.mean()).astype(np.int64)\n",
    "fn_mean = (fn_array.mean()).astype(np.int64)\n",
    "tp_mean = (tp_array.mean()).astype(np.int64)\n",
    "\n",
    "cm_bagging22[0] = [tn_mean, fp_mean]\n",
    "cm_bagging22[1] = [fn_mean, tp_mean]\n",
    "\n",
    "j=0\n",
    "while j < 10:\n",
    "    sensitivity[0,j] = tp_array[j]/(tp_array[j]+fn_array[j])\n",
    "    specificity[0,j] = tn_array[j]/(tn_array[j]+fp_array[j])\n",
    "    precision[0,j] = tp_array[j]/(tp_array[j]+fp_array[j])\n",
    "    NPV[0,j] = tn_array[j]/(tn_array[j]+fn_array[j])\n",
    "    FNR[0,j] = 1-tp_array[j]/(tp_array[j]+fn_array[j])\n",
    "    FPR[0,j] = 1-tn_array[j]/(tn_array[j]+fp_array[j])\n",
    "    F1[0,j] = 2*tp_array[j]/(2*tp_array[j]+fp_array[j]+fn_array[j])\n",
    "    j=j+1\n",
    "    \n",
    "        \n",
    "sd_sensitivity = round(np.std(sensitivity), 4)\n",
    "sd_specificity = round(np.std(specificity), 4)\n",
    "sd_precision = round(np.std(precision), 4)\n",
    "sd_NPV = round(np.std(NPV), 4)\n",
    "sd_FNR = round(np.std(FNR), 4)\n",
    "sd_FPR = round(np.std(FPR), 4)\n",
    "sd_F1 = round(np.std(F1), 4)\n",
    "    \n",
    "sensitivity_mean = round(sensitivity.mean(),4)\n",
    "specificity_mean = round(specificity.mean(),4)\n",
    "precision_mean = round(precision.mean(),4)\n",
    "NPV_mean = round(NPV.mean(),4)\n",
    "FNR_mean = round(FNR.mean(),4)\n",
    "FPR_mean = round(FPR.mean(),4)\n",
    "F1_mean = round(F1.mean(),4)\n",
    "\n",
    "\n",
    "model_results_bagging22 = np.array([mean_score_acc,mean_score_bal_acc,mean_score_roc_auc,tn_mean,fp_mean,fn_mean,tp_mean])\n",
    "\n",
    "print(f\"Decision Tree Bagging accuracy score: {mean_score_acc} +/- {std_dev_acc} (std) min: {min_score_acc}, max: {max_score_acc}\")\n",
    "print(f\"Decision Tree Bagging balanced accuracy score: {mean_score_bal_acc} +/- {std_dev_bal_acc} (std) min: {min_score_bal_acc}, max: {max_score_bal_acc}\")\n",
    "print(f\"Decision Tree Baggingarea under ROC curve score: {mean_score_roc_auc} +/- {std_dev_roc_auc} (std) min: {min_score_roc_auc}, max: {max_score_roc_auc}\")\n",
    "print(f\"Decision Tree Bagging cross validation sensitivity score: {sensitivity_mean} +/- {sd_sensitivity} (std)\")\n",
    "print(f\"Decision Tree Bagging cross validation specificity score: {specificity_mean} +/- {sd_specificity} (std)\")\n",
    "print(f\"Decision Tree Bagging cross validation precision score: {precision_mean} +/- {sd_precision} (std)\")\n",
    "print(f\"Decision Tree Bagging cross validation NPV score: {NPV_mean} +/- {sd_NPV} (std)\")\n",
    "print(f\"Decision Tree Bagging cross validation FNR score: {FNR_mean} +/- {sd_FNR} (std)\")\n",
    "print(f\"Decision Tree Bagging cross validation FPR score: {FPR_mean} +/- {sd_FPR} (std)\")\n",
    "print(f\"Decision Tree Bagging cross validation F1 score: {F1_mean} +/- {sd_F1} (std)\")\n",
    "print(cm_bagging22)"
   ]
  },
  {
   "cell_type": "code",
   "execution_count": null,
   "metadata": {},
   "outputs": [],
   "source": []
  },
  {
   "cell_type": "markdown",
   "metadata": {},
   "source": [
    "A continuación calcularemos la importancia de cada uno de los atributos usados. En el caso de las variables categóricas su importancia se nos dará desglosada en cada uno de sus posibles valores:"
   ]
  },
  {
   "cell_type": "code",
   "execution_count": 6,
   "metadata": {},
   "outputs": [
    {
     "name": "stdout",
     "output_type": "stream",
     "text": [
      "                           VarName  Importance\n",
      "0                        lead_time    0.142634\n",
      "1         arrival_date_week_number    0.047426\n",
      "2        arrival_date_day_of_month    0.051540\n",
      "3          stays_in_weekend_nights    0.020007\n",
      "4             stays_in_week_nights    0.030325\n",
      "..                             ...         ...\n",
      "199           reserved_room_type_G    0.000193\n",
      "200         customer_type_Contract    0.001040\n",
      "201            customer_type_Group    0.000116\n",
      "202        customer_type_Transient    0.016965\n",
      "203  customer_type_Transient-Party    0.024417\n",
      "\n",
      "[204 rows x 2 columns]\n"
     ]
    }
   ],
   "source": [
    "#Ajustamos el modelo para poder acceder a los valores:\n",
    "model_pipe.fit(X_train,y_train)\n",
    "\n",
    "#Necesitamos los nombres de los atributos codificados. Los obtenemos de One Hot Encoding:\n",
    "onehot_columns = list(model_pipe.named_steps['preprocessor'].\n",
    "                      named_transformers_['cat'].\n",
    "                      named_steps['onehot'].\n",
    "                      get_feature_names(input_features=cat_features))\n",
    "\n",
    "#Añadimos los atributos numéricos para tener la lista de atributos completa\n",
    "feat_imp_list = num_features + onehot_columns\n",
    "\n",
    "#Calculamos la importancia haciendo la media de cada arbol\n",
    "feature_importances = np.mean([\n",
    "    tree.feature_importances_ for tree in model_pipe['model'].estimators_\n",
    "], axis=0)\n",
    "\n",
    "# variable importance: \n",
    "imp = {\"VarName\":feat_imp_list\n",
    "       , \"Importance\":feature_importances}\n",
    "\n",
    "print(pd.DataFrame(imp))\n",
    "pd.DataFrame(imp).head(50)\n",
    "imp_df_raw = pd.DataFrame(imp)"
   ]
  },
  {
   "cell_type": "code",
   "execution_count": null,
   "metadata": {},
   "outputs": [],
   "source": []
  },
  {
   "cell_type": "markdown",
   "metadata": {},
   "source": [
    "Hemos mostrado el dataframe anterior porque hemos pensado que podría ser interesante ver que categoría de las variables categóricas tenia más peso. No obstante, realmente nos interesa saber el resultado agregado, por lo que lo calcularemos a partir de los datos anteriores:"
   ]
  },
  {
   "cell_type": "code",
   "execution_count": 7,
   "metadata": {},
   "outputs": [],
   "source": [
    "#Calcularemos la importancia de cada features sumando las importancias de cada una de las categorias posibles del atributo.\n",
    "search_values = [\"lead_time\",\"arrival_date_week_number\", \"arrival_date_day_of_month\",\"stays_in_weekend_nights\",\"stays_in_week_nights\",\"adults\",\"children\",\"babies\",\"is_repeated_guest\",\"previous_cancellations\",\"previous_bookings_not_canceled\",\"agent\",\"adr\",\"required_car_parking_spaces\",\"total_of_special_requests\",\n",
    "               ]\n",
    "\n",
    "imp_df_num = imp_df_raw[imp_df_raw.VarName.str.contains('|'.join(search_values ))]\n",
    "\n",
    "\n",
    "arrival_date_month = imp_df_raw[imp_df_raw['VarName'].str.contains(\"arrival_date_month\")]\n",
    "meal = imp_df_raw[imp_df_raw['VarName'].str.contains(\"meal\")]\n",
    "country = imp_df_raw[imp_df_raw['VarName'].str.contains(\"country\")]\n",
    "market_segment = imp_df_raw[imp_df_raw['VarName'].str.contains(\"market_segment\")]\n",
    "distribution_channel = imp_df_raw[imp_df_raw['VarName'].str.contains(\"distribution_channel\")]\n",
    "reserved_room_type = imp_df_raw[imp_df_raw['VarName'].str.contains(\"reserved_room_type\")]\n",
    "customer_type = imp_df_raw[imp_df_raw['VarName'].str.contains(\"customer\")]\n",
    "\n",
    "array = np.zeros(shape=(7,1))\n",
    "\n",
    "array[0] = arrival_date_month.Importance.sum()\n",
    "array[1] = meal.Importance.sum()\n",
    "array[2] = country.Importance.sum()\n",
    "array[3] = market_segment.Importance.sum()\n",
    "array[4] = distribution_channel.Importance.sum()\n",
    "array[5] = reserved_room_type.Importance.sum()\n",
    "array[6] = customer_type.Importance.sum()\n",
    "\n",
    "dict = {'VarName': ['arrival_date_month',\n",
    " 'meal',\n",
    " 'country',\n",
    " 'market_segment',\n",
    " 'distribution_channel',\n",
    " 'reserved_room_type',\n",
    " 'customer_type']\n",
    "                 , 'Importance': array[:,0]}\n",
    "\n",
    "imp_dict = pd.DataFrame(dict)\n",
    "\n",
    "imp_df_final = imp_df_num.append(imp_dict,ignore_index = True)"
   ]
  },
  {
   "cell_type": "code",
   "execution_count": 8,
   "metadata": {},
   "outputs": [
    {
     "data": {
      "text/plain": [
       "<matplotlib.axes._subplots.AxesSubplot at 0x1adb7d01148>"
      ]
     },
     "execution_count": 8,
     "metadata": {},
     "output_type": "execute_result"
    },
    {
     "data": {
      "image/png": "[encoded data removed]",
      "text/plain": [
       "<Figure size 432x288 with 1 Axes>"
      ]
     },
     "metadata": {
      "needs_background": "light"
     },
     "output_type": "display_data"
    }
   ],
   "source": [
    "pd.DataFrame(imp_df_final).sort_values(by = 'Importance', ascending=False).head(30).plot.bar(x = 'VarName')"
   ]
  },
  {
   "cell_type": "code",
   "execution_count": null,
   "metadata": {},
   "outputs": [],
   "source": []
  },
  {
   "cell_type": "code",
   "execution_count": null,
   "metadata": {},
   "outputs": [],
   "source": []
  },
  {
   "cell_type": "markdown",
   "metadata": {},
   "source": [
    "Eliminamos los 10 atributos menos importantes, quedandonos asi con un total de 12 variables"
   ]
  },
  {
   "cell_type": "code",
   "execution_count": 9,
   "metadata": {},
   "outputs": [
    {
     "name": "stdout",
     "output_type": "stream",
     "text": [
      "Decision Tree Bagging accuracy score: 0.8565 +/- 0.004 (std) min: 0.8503, max: 0.8633\n",
      "Decision Tree Bagging balanced accuracy score: 0.8497 +/- 0.0049 (std) min: 0.8407, max: 0.8586\n",
      "Decision Tree Baggingarea under ROC curve score: 0.9298 +/- 0.004 (std) min: 0.922, max: 0.9369\n",
      "Decision Tree Bagging cross validation sensitivity score: 0.799 +/- 0.0122 (std)\n",
      "Decision Tree Bagging cross validation specificity score: 0.9005 +/- 0.0046 (std)\n",
      "Decision Tree Bagging cross validation precision score: 0.8596 +/- 0.0072 (std)\n",
      "Decision Tree Bagging cross validation NPV score: 0.8545 +/- 0.008 (std)\n",
      "Decision Tree Bagging cross validation FNR score: 0.201 +/- 0.0122 (std)\n",
      "Decision Tree Bagging cross validation FPR score: 0.0995 +/- 0.0046 (std)\n",
      "Decision Tree Bagging cross validation F1 score: 0.8281 +/- 0.0067 (std)\n",
      "[[2155.  238.]\n",
      " [ 367. 1459.]]\n"
     ]
    }
   ],
   "source": [
    "#Definimos que variables son númericas y cuales son categóricas:\n",
    "num_features = [\"lead_time\",\"arrival_date_week_number\", \"arrival_date_day_of_month\",\"stays_in_week_nights\",\"previous_cancellations\",\"agent\",\"adr\",\"total_of_special_requests\",\n",
    "               ]\n",
    ",\n",
    "cat_features = [\"arrival_date_month\",\"country\",\"market_segment\",\"customer_type\"]\n",
    "\n",
    "\n",
    "features = num_features + cat_features\n",
    "\n",
    "#Definimos nuestros atributos y nuestra variable respuesta:\n",
    "X = df_final.drop([\"is_canceled\"], axis=1)[features]\n",
    "Y = df_final[\"is_canceled\"]\n",
    "\n",
    "X_train, X_test, y_train, y_test = train_test_split(X, Y, test_size=0.2, random_state=1)\n",
    "X_train, X_val, y_train, y_val = train_test_split(X_train, y_train, test_size=0.25, random_state=1) # 0.25 x 0.8 = 0.2\n",
    "\n",
    "#Prepararamos el preprocesado. Escalaremos las variables numéricas y codificaremos las variables categóricas:\n",
    "num_transformer = StandardScaler()\n",
    "cat_transformer = Pipeline(steps=[(\"onehot\", OneHotEncoder(handle_unknown='ignore'))])\n",
    "\n",
    "preprocessor = ColumnTransformer(transformers=[(\"num\", num_transformer, num_features),\n",
    "                                               (\"cat\", cat_transformer, cat_features)])\n",
    "#Definimos el modelo a usar:\n",
    "bagging_model = BaggingClassifier()\n",
    "\n",
    "#Usaremos 10-fold stratified CV. Al usar pipelines nos aseguramos que los datos se transformen en cada iteración.\n",
    "kfold = KFold(n_splits=10, random_state=100, shuffle = True)\n",
    "\n",
    "model_pipe = Pipeline(steps=[('preprocessor', preprocessor),\n",
    "                              ('model', bagging_model)])\n",
    "cv_results = cross_validate(model_pipe, \n",
    "                                 X_train, y_train, \n",
    "                                 cv=kfold,\n",
    "                                 scoring={'accuracy': 'accuracy','balanced_accuracy': 'balanced_accuracy','roc_auc': 'roc_auc','tp': make_scorer(tp), 'tn': make_scorer(tn),\n",
    "'fp': make_scorer(fp), 'fn': make_scorer(fn)},\n",
    "                                 n_jobs=-1)\n",
    "#Mostramos los resultados:\n",
    "model_results_bagging12 = np.zeros(shape=(1,7))\n",
    "accuracy_array =  cv_results['test_accuracy']\n",
    "balanced_accuracy_array =  cv_results['test_balanced_accuracy']\n",
    "roc_auc_array = cv_results['test_roc_auc']\n",
    "\n",
    "\n",
    "min_score_acc = round(min(accuracy_array), 4)\n",
    "max_score_acc = round(max(accuracy_array), 4)\n",
    "mean_score_acc = round(np.mean(accuracy_array), 4)\n",
    "std_dev_acc = round(np.std(accuracy_array), 4)\n",
    "\n",
    "min_score_bal_acc = round(min(balanced_accuracy_array), 4)\n",
    "max_score_bal_acc = round(max(balanced_accuracy_array), 4)\n",
    "mean_score_bal_acc = round(np.mean(balanced_accuracy_array), 4)\n",
    "std_dev_bal_acc = round(np.std(balanced_accuracy_array), 4)\n",
    "\n",
    "min_score_roc_auc = round(min(roc_auc_array), 4)\n",
    "max_score_roc_auc = round(max(roc_auc_array), 4)\n",
    "mean_score_roc_auc = round(np.mean(roc_auc_array), 4)\n",
    "std_dev_roc_auc = round(np.std(roc_auc_array), 4)\n",
    "\n",
    "sensitivity = np.zeros(shape=(1,10))\n",
    "specificity = np.zeros(shape=(1,10))\n",
    "precision = np.zeros(shape=(1,10))\n",
    "NPV = np.zeros(shape=(1,10))\n",
    "FNR = np.zeros(shape=(1,10))\n",
    "FPR = np.zeros(shape=(1,10))\n",
    "F1 = np.zeros(shape=(1,10))\n",
    "\n",
    "#Construimos la matriz de confusión:\n",
    "cm_bagging12 = np.zeros(shape=(2,2))\n",
    "\n",
    "tp_array = cv_results['test_tp']\n",
    "tn_array = cv_results['test_tn']\n",
    "fp_array = cv_results['test_fp']\n",
    "fn_array = cv_results['test_fn']\n",
    "    \n",
    "tn_mean = (tn_array.mean()).astype(np.int64)\n",
    "fp_mean = (fp_array.mean()).astype(np.int64)\n",
    "fn_mean = (fn_array.mean()).astype(np.int64)\n",
    "tp_mean = (tp_array.mean()).astype(np.int64)\n",
    "\n",
    "cm_bagging12[0] = [tn_mean, fp_mean]\n",
    "cm_bagging12[1] = [fn_mean, tp_mean]\n",
    "\n",
    "j=0\n",
    "while j < 10:\n",
    "    sensitivity[0,j] = tp_array[j]/(tp_array[j]+fn_array[j])\n",
    "    specificity[0,j] = tn_array[j]/(tn_array[j]+fp_array[j])\n",
    "    precision[0,j] = tp_array[j]/(tp_array[j]+fp_array[j])\n",
    "    NPV[0,j] = tn_array[j]/(tn_array[j]+fn_array[j])\n",
    "    FNR[0,j] = 1-tp_array[j]/(tp_array[j]+fn_array[j])\n",
    "    FPR[0,j] = 1-tn_array[j]/(tn_array[j]+fp_array[j])\n",
    "    F1[0,j] = 2*tp_array[j]/(2*tp_array[j]+fp_array[j]+fn_array[j])\n",
    "    j=j+1\n",
    "    \n",
    "        \n",
    "sd_sensitivity = round(np.std(sensitivity), 4)\n",
    "sd_specificity = round(np.std(specificity), 4)\n",
    "sd_precision = round(np.std(precision), 4)\n",
    "sd_NPV = round(np.std(NPV), 4)\n",
    "sd_FNR = round(np.std(FNR), 4)\n",
    "sd_FPR = round(np.std(FPR), 4)\n",
    "sd_F1 = round(np.std(F1), 4)\n",
    "    \n",
    "sensitivity_mean = round(sensitivity.mean(),4)\n",
    "specificity_mean = round(specificity.mean(),4)\n",
    "precision_mean = round(precision.mean(),4)\n",
    "NPV_mean = round(NPV.mean(),4)\n",
    "FNR_mean = round(FNR.mean(),4)\n",
    "FPR_mean = round(FPR.mean(),4)\n",
    "F1_mean = round(F1.mean(),4)\n",
    "\n",
    "\n",
    "model_results_bagging12 = np.array([mean_score_acc,mean_score_bal_acc,mean_score_roc_auc,tn_mean,fp_mean,fn_mean,tp_mean])\n",
    "\n",
    "print(f\"Decision Tree Bagging accuracy score: {mean_score_acc} +/- {std_dev_acc} (std) min: {min_score_acc}, max: {max_score_acc}\")\n",
    "print(f\"Decision Tree Bagging balanced accuracy score: {mean_score_bal_acc} +/- {std_dev_bal_acc} (std) min: {min_score_bal_acc}, max: {max_score_bal_acc}\")\n",
    "print(f\"Decision Tree Baggingarea under ROC curve score: {mean_score_roc_auc} +/- {std_dev_roc_auc} (std) min: {min_score_roc_auc}, max: {max_score_roc_auc}\")\n",
    "print(f\"Decision Tree Bagging cross validation sensitivity score: {sensitivity_mean} +/- {sd_sensitivity} (std)\")\n",
    "print(f\"Decision Tree Bagging cross validation specificity score: {specificity_mean} +/- {sd_specificity} (std)\")\n",
    "print(f\"Decision Tree Bagging cross validation precision score: {precision_mean} +/- {sd_precision} (std)\")\n",
    "print(f\"Decision Tree Bagging cross validation NPV score: {NPV_mean} +/- {sd_NPV} (std)\")\n",
    "print(f\"Decision Tree Bagging cross validation FNR score: {FNR_mean} +/- {sd_FNR} (std)\")\n",
    "print(f\"Decision Tree Bagging cross validation FPR score: {FPR_mean} +/- {sd_FPR} (std)\")\n",
    "print(f\"Decision Tree Bagging cross validation F1 score: {F1_mean} +/- {sd_F1} (std)\")\n",
    "print(cm_bagging12)"
   ]
  },
  {
   "cell_type": "code",
   "execution_count": null,
   "metadata": {},
   "outputs": [],
   "source": []
  },
  {
   "cell_type": "markdown",
   "metadata": {},
   "source": [
    "A continuación calcularemos la importancia de cada uno de los atributos usados. En el caso de las variables categóricas su importancia se nos dará desglosada en cada uno de sus posibles valores:"
   ]
  },
  {
   "cell_type": "code",
   "execution_count": 10,
   "metadata": {},
   "outputs": [
    {
     "name": "stdout",
     "output_type": "stream",
     "text": [
      "                           VarName  Importance\n",
      "0                        lead_time    0.158562\n",
      "1         arrival_date_week_number    0.055134\n",
      "2        arrival_date_day_of_month    0.062953\n",
      "3             stays_in_week_nights    0.038037\n",
      "4           previous_cancellations    0.032431\n",
      "..                             ...         ...\n",
      "177       market_segment_Online TA    0.056073\n",
      "178         customer_type_Contract    0.001234\n",
      "179            customer_type_Group    0.000169\n",
      "180        customer_type_Transient    0.017209\n",
      "181  customer_type_Transient-Party    0.025490\n",
      "\n",
      "[182 rows x 2 columns]\n"
     ]
    }
   ],
   "source": [
    "#Ajustamos el modelo para poder acceder a los valores:\n",
    "model_pipe.fit(X_train,y_train)\n",
    "\n",
    "#Necesitamos los nombres de los atributos codificados. Los obtenemos de One Hot Encoding:\n",
    "onehot_columns = list(model_pipe.named_steps['preprocessor'].\n",
    "                      named_transformers_['cat'].\n",
    "                      named_steps['onehot'].\n",
    "                      get_feature_names(input_features=cat_features))\n",
    "\n",
    "#Añadimos los atributos numéricos para tener la lista de atributos completa\n",
    "feat_imp_list = num_features + onehot_columns\n",
    "\n",
    "#Calculamos la importancia haciendo la media de cada arbol\n",
    "feature_importances = np.mean([\n",
    "    tree.feature_importances_ for tree in model_pipe['model'].estimators_\n",
    "], axis=0)\n",
    "\n",
    "# variable importance: \n",
    "imp = {\"VarName\":feat_imp_list\n",
    "       , \"Importance\":feature_importances}\n",
    "\n",
    "print(pd.DataFrame(imp))\n",
    "pd.DataFrame(imp).head(50)\n",
    "imp_df_raw = pd.DataFrame(imp)"
   ]
  },
  {
   "cell_type": "code",
   "execution_count": null,
   "metadata": {},
   "outputs": [],
   "source": []
  },
  {
   "cell_type": "markdown",
   "metadata": {},
   "source": [
    "Hemos mostrado el dataframe anterior porque hemos pensado que podría ser interesante ver que categoría de las variables categóricas tenia más peso. No obstante, realmente nos interesa saber el resultado agregado, por lo que lo calcularemos a partir de los datos anteriores:"
   ]
  },
  {
   "cell_type": "code",
   "execution_count": 11,
   "metadata": {},
   "outputs": [],
   "source": [
    "#Calcularemos la importancia de cada features sumando las importancias de cada una de las categorias posibles del atributo.\n",
    "search_values = num_features\n",
    "\n",
    "imp_df_num = imp_df_raw[imp_df_raw.VarName.str.contains('|'.join(search_values ))]\n",
    "\n",
    "\n",
    "arrival_date_month = imp_df_raw[imp_df_raw['VarName'].str.contains(\"arrival_date_month\")]\n",
    "\n",
    "country = imp_df_raw[imp_df_raw['VarName'].str.contains(\"country\")]\n",
    "market_segment = imp_df_raw[imp_df_raw['VarName'].str.contains(\"market_segment\")]\n",
    "\n",
    "customer_type = imp_df_raw[imp_df_raw['VarName'].str.contains(\"customer\")]\n",
    "\n",
    "array = np.zeros(shape=(4,1))\n",
    "\n",
    "array[0] = arrival_date_month.Importance.sum()\n",
    "\n",
    "array[1] = country.Importance.sum()\n",
    "array[2] = market_segment.Importance.sum()\n",
    "\n",
    "array[3] = customer_type.Importance.sum()\n",
    "\n",
    "\n",
    "dict = {'VarName': ['arrival_date_month',\n",
    "\n",
    " 'country',\n",
    " 'market_segment',\n",
    "\n",
    " 'customer_type']\n",
    "                 , 'Importance': array[:,0]}\n",
    "\n",
    "imp_dict = pd.DataFrame(dict)\n",
    "\n",
    "imp_df_final = imp_df_num.append(imp_dict,ignore_index = True)"
   ]
  },
  {
   "cell_type": "code",
   "execution_count": 12,
   "metadata": {},
   "outputs": [
    {
     "data": {
      "text/plain": [
       "<matplotlib.axes._subplots.AxesSubplot at 0x1adb818e248>"
      ]
     },
     "execution_count": 12,
     "metadata": {},
     "output_type": "execute_result"
    },
    {
     "data": {
      "image/png": "[encoded data removed]",
      "text/plain": [
       "<Figure size 432x288 with 1 Axes>"
      ]
     },
     "metadata": {
      "needs_background": "light"
     },
     "output_type": "display_data"
    }
   ],
   "source": [
    "pd.DataFrame(imp_df_final).sort_values(by = 'Importance', ascending=False).head(30).plot.bar(x = 'VarName')"
   ]
  },
  {
   "cell_type": "code",
   "execution_count": null,
   "metadata": {},
   "outputs": [],
   "source": []
  },
  {
   "cell_type": "markdown",
   "metadata": {},
   "source": [
    "Ahora, eliminamos los 8 atributos menos importantes, quedandonos asi con un total de solo 4 variables"
   ]
  },
  {
   "cell_type": "code",
   "execution_count": 13,
   "metadata": {},
   "outputs": [
    {
     "name": "stdout",
     "output_type": "stream",
     "text": [
      "Decision Tree Bagging accuracy score: 0.8087 +/- 0.0043 (std) min: 0.8012, max: 0.8143\n",
      "Decision Tree Bagging balanced accuracy score: 0.7992 +/- 0.0056 (std) min: 0.7881, max: 0.8052\n",
      "Decision Tree Baggingarea under ROC curve score: 0.8806 +/- 0.0053 (std) min: 0.8723, max: 0.8888\n",
      "Decision Tree Bagging cross validation sensitivity score: 0.729 +/- 0.0126 (std)\n",
      "Decision Tree Bagging cross validation specificity score: 0.8695 +/- 0.0054 (std)\n",
      "Decision Tree Bagging cross validation precision score: 0.81 +/- 0.0082 (std)\n",
      "Decision Tree Bagging cross validation NPV score: 0.8079 +/- 0.0062 (std)\n",
      "Decision Tree Bagging cross validation FNR score: 0.271 +/- 0.0126 (std)\n",
      "Decision Tree Bagging cross validation FPR score: 0.1305 +/- 0.0054 (std)\n",
      "Decision Tree Bagging cross validation F1 score: 0.7673 +/- 0.0087 (std)\n",
      "[[2081.  312.]\n",
      " [ 495. 1332.]]\n"
     ]
    }
   ],
   "source": [
    "#Definimos que variables son númericas y cuales son categóricas:\n",
    "num_features = [\"lead_time\", \"adr\",\"total_of_special_requests\"]\n",
    ",\n",
    "cat_features = [\"country\"]\n",
    "\n",
    "\n",
    "features = num_features + cat_features\n",
    "\n",
    "#Definimos nuestros atributos y nuestra variable respuesta:\n",
    "X = df_final.drop([\"is_canceled\"], axis=1)[features]\n",
    "Y = df_final[\"is_canceled\"]\n",
    "\n",
    "X_train, X_test, y_train, y_test = train_test_split(X, Y, test_size=0.2, random_state=1)\n",
    "X_train, X_val, y_train, y_val = train_test_split(X_train, y_train, test_size=0.25, random_state=1) # 0.25 x 0.8 = 0.2\n",
    "\n",
    "#Prepararamos el preprocesado. Escalaremos las variables numéricas y codificaremos las variables categóricas:\n",
    "num_transformer = StandardScaler()\n",
    "cat_transformer = Pipeline(steps=[(\"onehot\", OneHotEncoder(handle_unknown='ignore'))])\n",
    "\n",
    "preprocessor = ColumnTransformer(transformers=[(\"num\", num_transformer, num_features),\n",
    "                                               (\"cat\", cat_transformer, cat_features)])\n",
    "#Definimos el modelo a usar:\n",
    "bagging_model = BaggingClassifier()\n",
    "\n",
    "#Usaremos 10-fold stratified CV. Al usar pipelines nos aseguramos que los datos se transformen en cada iteración.\n",
    "kfold = KFold(n_splits=10, random_state=100, shuffle = True)\n",
    "\n",
    "model_pipe = Pipeline(steps=[('preprocessor', preprocessor),\n",
    "                              ('model', bagging_model)])\n",
    "cv_results = cross_validate(model_pipe, \n",
    "                                 X_train, y_train, \n",
    "                                 cv=kfold,\n",
    "                                 scoring={'accuracy': 'accuracy','balanced_accuracy': 'balanced_accuracy','roc_auc': 'roc_auc','tp': make_scorer(tp), 'tn': make_scorer(tn),\n",
    "'fp': make_scorer(fp), 'fn': make_scorer(fn)},\n",
    "                                 n_jobs=-1)\n",
    "#Mostramos los resultados:\n",
    "model_results_bagging4 = np.zeros(shape=(1,7))\n",
    "accuracy_array =  cv_results['test_accuracy']\n",
    "balanced_accuracy_array =  cv_results['test_balanced_accuracy']\n",
    "roc_auc_array = cv_results['test_roc_auc']\n",
    "\n",
    "\n",
    "min_score_acc = round(min(accuracy_array), 4)\n",
    "max_score_acc = round(max(accuracy_array), 4)\n",
    "mean_score_acc = round(np.mean(accuracy_array), 4)\n",
    "std_dev_acc = round(np.std(accuracy_array), 4)\n",
    "\n",
    "min_score_bal_acc = round(min(balanced_accuracy_array), 4)\n",
    "max_score_bal_acc = round(max(balanced_accuracy_array), 4)\n",
    "mean_score_bal_acc = round(np.mean(balanced_accuracy_array), 4)\n",
    "std_dev_bal_acc = round(np.std(balanced_accuracy_array), 4)\n",
    "\n",
    "min_score_roc_auc = round(min(roc_auc_array), 4)\n",
    "max_score_roc_auc = round(max(roc_auc_array), 4)\n",
    "mean_score_roc_auc = round(np.mean(roc_auc_array), 4)\n",
    "std_dev_roc_auc = round(np.std(roc_auc_array), 4)\n",
    "\n",
    "sensitivity = np.zeros(shape=(1,10))\n",
    "specificity = np.zeros(shape=(1,10))\n",
    "precision = np.zeros(shape=(1,10))\n",
    "NPV = np.zeros(shape=(1,10))\n",
    "FNR = np.zeros(shape=(1,10))\n",
    "FPR = np.zeros(shape=(1,10))\n",
    "F1 = np.zeros(shape=(1,10))\n",
    "\n",
    "#Construimos la matriz de confusión:\n",
    "cm_bagging4 = np.zeros(shape=(2,2))\n",
    "\n",
    "tp_array = cv_results['test_tp']\n",
    "tn_array = cv_results['test_tn']\n",
    "fp_array = cv_results['test_fp']\n",
    "fn_array = cv_results['test_fn']\n",
    "    \n",
    "tn_mean = (tn_array.mean()).astype(np.int64)\n",
    "fp_mean = (fp_array.mean()).astype(np.int64)\n",
    "fn_mean = (fn_array.mean()).astype(np.int64)\n",
    "tp_mean = (tp_array.mean()).astype(np.int64)\n",
    "\n",
    "cm_bagging4[0] = [tn_mean, fp_mean]\n",
    "cm_bagging4[1] = [fn_mean, tp_mean]\n",
    "\n",
    "j=0\n",
    "while j < 10:\n",
    "    sensitivity[0,j] = tp_array[j]/(tp_array[j]+fn_array[j])\n",
    "    specificity[0,j] = tn_array[j]/(tn_array[j]+fp_array[j])\n",
    "    precision[0,j] = tp_array[j]/(tp_array[j]+fp_array[j])\n",
    "    NPV[0,j] = tn_array[j]/(tn_array[j]+fn_array[j])\n",
    "    FNR[0,j] = 1-tp_array[j]/(tp_array[j]+fn_array[j])\n",
    "    FPR[0,j] = 1-tn_array[j]/(tn_array[j]+fp_array[j])\n",
    "    F1[0,j] = 2*tp_array[j]/(2*tp_array[j]+fp_array[j]+fn_array[j])\n",
    "    j=j+1\n",
    "    \n",
    "        \n",
    "sd_sensitivity = round(np.std(sensitivity), 4)\n",
    "sd_specificity = round(np.std(specificity), 4)\n",
    "sd_precision = round(np.std(precision), 4)\n",
    "sd_NPV = round(np.std(NPV), 4)\n",
    "sd_FNR = round(np.std(FNR), 4)\n",
    "sd_FPR = round(np.std(FPR), 4)\n",
    "sd_F1 = round(np.std(F1), 4)\n",
    "    \n",
    "sensitivity_mean = round(sensitivity.mean(),4)\n",
    "specificity_mean = round(specificity.mean(),4)\n",
    "precision_mean = round(precision.mean(),4)\n",
    "NPV_mean = round(NPV.mean(),4)\n",
    "FNR_mean = round(FNR.mean(),4)\n",
    "FPR_mean = round(FPR.mean(),4)\n",
    "F1_mean = round(F1.mean(),4)\n",
    "\n",
    "\n",
    "model_results_bagging4 = np.array([mean_score_acc,mean_score_bal_acc,mean_score_roc_auc,tn_mean,fp_mean,fn_mean,tp_mean])\n",
    "\n",
    "print(f\"Decision Tree Bagging accuracy score: {mean_score_acc} +/- {std_dev_acc} (std) min: {min_score_acc}, max: {max_score_acc}\")\n",
    "print(f\"Decision Tree Bagging balanced accuracy score: {mean_score_bal_acc} +/- {std_dev_bal_acc} (std) min: {min_score_bal_acc}, max: {max_score_bal_acc}\")\n",
    "print(f\"Decision Tree Baggingarea under ROC curve score: {mean_score_roc_auc} +/- {std_dev_roc_auc} (std) min: {min_score_roc_auc}, max: {max_score_roc_auc}\")\n",
    "print(f\"Decision Tree Bagging cross validation sensitivity score: {sensitivity_mean} +/- {sd_sensitivity} (std)\")\n",
    "print(f\"Decision Tree Bagging cross validation specificity score: {specificity_mean} +/- {sd_specificity} (std)\")\n",
    "print(f\"Decision Tree Bagging cross validation precision score: {precision_mean} +/- {sd_precision} (std)\")\n",
    "print(f\"Decision Tree Bagging cross validation NPV score: {NPV_mean} +/- {sd_NPV} (std)\")\n",
    "print(f\"Decision Tree Bagging cross validation FNR score: {FNR_mean} +/- {sd_FNR} (std)\")\n",
    "print(f\"Decision Tree Bagging cross validation FPR score: {FPR_mean} +/- {sd_FPR} (std)\")\n",
    "print(f\"Decision Tree Bagging cross validation F1 score: {F1_mean} +/- {sd_F1} (std)\")\n",
    "print(cm_bagging4)"
   ]
  },
  {
   "cell_type": "code",
   "execution_count": null,
   "metadata": {},
   "outputs": [],
   "source": []
  },
  {
   "cell_type": "markdown",
   "metadata": {},
   "source": [
    "A continuación calcularemos la importancia de cada uno de los atributos usados. En el caso de las variables categóricas su importancia se nos dará desglosada en cada uno de sus posibles valores:"
   ]
  },
  {
   "cell_type": "code",
   "execution_count": 14,
   "metadata": {},
   "outputs": [
    {
     "name": "stdout",
     "output_type": "stream",
     "text": [
      "                       VarName  Importance\n",
      "0                    lead_time    0.325333\n",
      "1                          adr    0.304627\n",
      "2    total_of_special_requests    0.071179\n",
      "3                  country_ABW    0.000000\n",
      "4                  country_AGO    0.004474\n",
      "..                         ...         ...\n",
      "149                country_VEN    0.000412\n",
      "150                country_VGB    0.000000\n",
      "151                country_VNM    0.000067\n",
      "152                country_ZAF    0.000623\n",
      "153                country_ZWE    0.000000\n",
      "\n",
      "[154 rows x 2 columns]\n"
     ]
    }
   ],
   "source": [
    "#Ajustamos el modelo para poder acceder a los valores:\n",
    "model_pipe.fit(X_train,y_train)\n",
    "\n",
    "#Necesitamos los nombres de los atributos codificados. Los obtenemos de One Hot Encoding:\n",
    "onehot_columns = list(model_pipe.named_steps['preprocessor'].\n",
    "                      named_transformers_['cat'].\n",
    "                      named_steps['onehot'].\n",
    "                      get_feature_names(input_features=cat_features))\n",
    "\n",
    "#Añadimos los atributos numéricos para tener la lista de atributos completa\n",
    "feat_imp_list = num_features + onehot_columns\n",
    "\n",
    "#Calculamos la importancia haciendo la media de cada arbol\n",
    "feature_importances = np.mean([\n",
    "    tree.feature_importances_ for tree in model_pipe['model'].estimators_\n",
    "], axis=0)\n",
    "\n",
    "# variable importance: \n",
    "imp = {\"VarName\":feat_imp_list\n",
    "       , \"Importance\":feature_importances}\n",
    "\n",
    "print(pd.DataFrame(imp))\n",
    "pd.DataFrame(imp).head(50)\n",
    "imp_df_raw = pd.DataFrame(imp)"
   ]
  },
  {
   "cell_type": "code",
   "execution_count": null,
   "metadata": {},
   "outputs": [],
   "source": []
  },
  {
   "cell_type": "markdown",
   "metadata": {},
   "source": [
    "Hemos mostrado el dataframe anterior porque hemos pensado que podría ser interesante ver que categoría de las variables categóricas tenia más peso. No obstante, realmente nos interesa saber el resultado agregado, por lo que lo calcularemos a partir de los datos anteriores:"
   ]
  },
  {
   "cell_type": "code",
   "execution_count": 15,
   "metadata": {},
   "outputs": [],
   "source": [
    "#Calcularemos la importancia de cada features sumando las importancias de cada una de las categorias posibles del atributo.\n",
    "search_values = num_features\n",
    "\n",
    "imp_df_num = imp_df_raw[imp_df_raw.VarName.str.contains('|'.join(search_values ))]\n",
    "\n",
    "\n",
    "\n",
    "\n",
    "country = imp_df_raw[imp_df_raw['VarName'].str.contains(\"country\")]\n",
    "\n",
    "\n",
    "array = np.zeros(shape=(1,1))\n",
    "\n",
    "\n",
    "\n",
    "array[0] = country.Importance.sum()\n",
    "\n",
    "\n",
    "\n",
    "dict = {'VarName': ['country']\n",
    "                 , 'Importance': array[:,0]}\n",
    "\n",
    "imp_dict = pd.DataFrame(dict)\n",
    "\n",
    "imp_df_final = imp_df_num.append(imp_dict,ignore_index = True)"
   ]
  },
  {
   "cell_type": "code",
   "execution_count": 16,
   "metadata": {},
   "outputs": [
    {
     "data": {
      "text/plain": [
       "<matplotlib.axes._subplots.AxesSubplot at 0x1adb8227708>"
      ]
     },
     "execution_count": 16,
     "metadata": {},
     "output_type": "execute_result"
    },
    {
     "data": {
      "image/png": "[encoded data removed]",
      "text/plain": [
       "<Figure size 432x288 with 1 Axes>"
      ]
     },
     "metadata": {
      "needs_background": "light"
     },
     "output_type": "display_data"
    }
   ],
   "source": [
    "pd.DataFrame(imp_df_final).sort_values(by = 'Importance', ascending=False).head(30).plot.bar(x = 'VarName')"
   ]
  },
  {
   "cell_type": "code",
   "execution_count": null,
   "metadata": {},
   "outputs": [],
   "source": []
  },
  {
   "cell_type": "code",
   "execution_count": 17,
   "metadata": {},
   "outputs": [
    {
     "data": {
      "text/html": [
       "<div>\n",
       "<style scoped>\n",
       "    .dataframe tbody tr th:only-of-type {\n",
       "        vertical-align: middle;\n",
       "    }\n",
       "\n",
       "    .dataframe tbody tr th {\n",
       "        vertical-align: top;\n",
       "    }\n",
       "\n",
       "    .dataframe thead th {\n",
       "        text-align: right;\n",
       "    }\n",
       "</style>\n",
       "<table border=\"1\" class=\"dataframe\">\n",
       "  <thead>\n",
       "    <tr style=\"text-align: right;\">\n",
       "      <th></th>\n",
       "      <th>Model</th>\n",
       "      <th>Accuracy</th>\n",
       "      <th>Balanced accuracy</th>\n",
       "      <th>ROC AUC</th>\n",
       "      <th>TN</th>\n",
       "      <th>FP</th>\n",
       "      <th>FN</th>\n",
       "      <th>TP</th>\n",
       "    </tr>\n",
       "  </thead>\n",
       "  <tbody>\n",
       "    <tr>\n",
       "      <th>0</th>\n",
       "      <td>Bagging 22 var</td>\n",
       "      <td>0.8594</td>\n",
       "      <td>0.8530</td>\n",
       "      <td>0.9342</td>\n",
       "      <td>2157.0</td>\n",
       "      <td>236.0</td>\n",
       "      <td>356.0</td>\n",
       "      <td>1470.0</td>\n",
       "    </tr>\n",
       "    <tr>\n",
       "      <th>1</th>\n",
       "      <td>Bagging 12 var</td>\n",
       "      <td>0.8565</td>\n",
       "      <td>0.8497</td>\n",
       "      <td>0.9298</td>\n",
       "      <td>2155.0</td>\n",
       "      <td>238.0</td>\n",
       "      <td>367.0</td>\n",
       "      <td>1459.0</td>\n",
       "    </tr>\n",
       "    <tr>\n",
       "      <th>2</th>\n",
       "      <td>Bagging 4 var</td>\n",
       "      <td>0.8087</td>\n",
       "      <td>0.7992</td>\n",
       "      <td>0.8806</td>\n",
       "      <td>2081.0</td>\n",
       "      <td>312.0</td>\n",
       "      <td>495.0</td>\n",
       "      <td>1332.0</td>\n",
       "    </tr>\n",
       "  </tbody>\n",
       "</table>\n",
       "</div>"
      ],
      "text/plain": [
       "            Model  Accuracy  Balanced accuracy  ROC AUC      TN     FP     FN  \\\n",
       "0  Bagging 22 var    0.8594             0.8530   0.9342  2157.0  236.0  356.0   \n",
       "1  Bagging 12 var    0.8565             0.8497   0.9298  2155.0  238.0  367.0   \n",
       "2   Bagging 4 var    0.8087             0.7992   0.8806  2081.0  312.0  495.0   \n",
       "\n",
       "       TP  \n",
       "0  1470.0  \n",
       "1  1459.0  \n",
       "2  1332.0  "
      ]
     },
     "execution_count": 17,
     "metadata": {},
     "output_type": "execute_result"
    }
   ],
   "source": [
    "#Juntamos los resultados obtenidos con cada modelo:\n",
    "bagging_parameters = np.zeros(shape=(3,7))\n",
    "bagging_parameters[0] = model_results_bagging22\n",
    "bagging_parameters[1] = model_results_bagging12\n",
    "bagging_parameters[2] = model_results_bagging4\n",
    "\n",
    "#Creamos un diccionario para pasar los resultados a un dataframe:\n",
    "bagging_parameters_dict = {'Model': ['Bagging 22 var', 'Bagging 12 var', 'Bagging 4 var']\n",
    "                 , 'Accuracy': bagging_parameters[:,0],'Balanced accuracy': bagging_parameters[:,1],'ROC AUC': bagging_parameters[:,2],'TN': bagging_parameters[:,3],'FP': bagging_parameters[:,4],'FN': bagging_parameters[:,5],'TP': bagging_parameters[:,6]}\n",
    "\n",
    "bagging_parameters_df = pd.DataFrame.from_dict(bagging_parameters_dict)\n",
    "bagging_parameters_df"
   ]
  },
  {
   "cell_type": "code",
   "execution_count": 18,
   "metadata": {},
   "outputs": [
    {
     "data": {
      "text/plain": [
       "Text(0.5, 1.0, 'Area under ROC curve VS # of variables')"
      ]
     },
     "execution_count": 18,
     "metadata": {},
     "output_type": "execute_result"
    },
    {
     "data": {
      "image/png": "[encoded data removed]",
      "text/plain": [
       "<Figure size 1152x432 with 2 Axes>"
      ]
     },
     "metadata": {
      "needs_background": "light"
     },
     "output_type": "display_data"
    }
   ],
   "source": [
    "fig, (ax1, ax2) = plt.subplots(nrows=1, ncols=2,figsize=(16,6))\n",
    "a = bagging_parameters_df.plot(kind='line',x='Model',y='Accuracy',ax=ax1, rot = 90, color = 'blue',linestyle ='--', marker='D')\n",
    "bagging_parameters_df.plot(kind='line',x='Model',y='Balanced accuracy', color='green', ax=ax1, rot = 90,linestyle ='--', marker='D')\n",
    "a.set_title('Accuracy VS # of variables', fontsize = 16)\n",
    "a.set_xlabel('Model', fontsize = 14)\n",
    "a.set_ylabel('Accuracy', fontsize = 14)\n",
    "\n",
    "b = bagging_parameters_df.plot(kind='line',x='Model',y='ROC AUC', rot = 90, color = 'DarkGreen',linestyle ='--', marker='D',ax=ax2)\n",
    "b.set_xlabel('Model', fontsize = 14)\n",
    "b.set_ylabel('AUC', fontsize = 14)\n",
    "plt.title('Area under ROC curve VS # of variables', fontsize = 16)"
   ]
  },
  {
   "cell_type": "code",
   "execution_count": null,
   "metadata": {},
   "outputs": [],
   "source": []
  },
  {
   "cell_type": "markdown",
   "metadata": {},
   "source": [
    "### 7.3 Ajustar hiperparametros"
   ]
  },
  {
   "cell_type": "code",
   "execution_count": 19,
   "metadata": {},
   "outputs": [],
   "source": [
    "#Nos hemos quedado con el modelo de 12 variables\n",
    "\n",
    "num_features = [\"lead_time\",\"arrival_date_week_number\", \"arrival_date_day_of_month\",\"stays_in_week_nights\",\"previous_cancellations\",\"agent\",\"adr\",\"total_of_special_requests\"]\n",
    "cat_features = [\"arrival_date_month\",\"country\",\"market_segment\",\"customer_type\"]\n",
    "\n",
    "features = num_features + cat_features\n",
    "\n",
    "#Definimos nuestros atributos y nuestra variable respuesta:\n",
    "X = df_final.drop([\"is_canceled\"], axis=1)[features]\n",
    "Y = df_final[\"is_canceled\"]\n",
    "\n",
    "\n",
    "#Codificamos las variables categóricas:\n",
    "ct = make_column_transformer(\n",
    "    (OneHotEncoder(),cat_features), remainder = 'passthrough')\n",
    "\n",
    "#Convertimos X en un array:\n",
    "X = ct.fit_transform(X).toarray()\n",
    "\n",
    "X_train, X_test, y_train, y_test = train_test_split(X, Y, test_size=0.2, random_state=1)\n",
    "\n",
    "X_train, X_val, y_train, y_val = train_test_split(X_train, y_train, test_size=0.25, random_state=1) # 0.25 x 0.8 = 0.2"
   ]
  },
  {
   "cell_type": "code",
   "execution_count": 20,
   "metadata": {},
   "outputs": [
    {
     "data": {
      "text/plain": [
       "(42209, 196)"
      ]
     },
     "execution_count": 20,
     "metadata": {},
     "output_type": "execute_result"
    }
   ],
   "source": [
    "X_train.shape"
   ]
  },
  {
   "cell_type": "code",
   "execution_count": null,
   "metadata": {},
   "outputs": [],
   "source": []
  },
  {
   "cell_type": "markdown",
   "metadata": {},
   "source": [
    "#### 7.3.1 n_estimators"
   ]
  },
  {
   "cell_type": "code",
   "execution_count": 21,
   "metadata": {},
   "outputs": [
    {
     "data": {
      "image/png": "[encoded data removed]",
      "text/plain": [
       "<Figure size 432x288 with 1 Axes>"
      ]
     },
     "metadata": {
      "needs_background": "light"
     },
     "output_type": "display_data"
    }
   ],
   "source": [
    "estimadores = [5,10,20,50,75,100,150,200]\n",
    "train_results = []\n",
    "test_results = []\n",
    "for estimador in estimadores:\n",
    "    dt = BaggingClassifier(n_estimators=estimador)\n",
    "    dt.fit(X_train, y_train)\n",
    "    score=dt.score(X_train, y_train)\n",
    "    # Add auc score to previous train results\n",
    "    train_results.append(score)\n",
    "    scoret = dt.score(X_val, y_val)\n",
    "    # Add auc score to previous test results\n",
    "    test_results.append(scoret)\n",
    "from matplotlib.legend_handler import HandlerLine2D\n",
    "line1, = plt.plot(estimadores, train_results, \"b\", label=\"Train Accuracy\")\n",
    "line2, = plt.plot(estimadores, test_results, \"r\", label=\"Val Accuracy\")\n",
    "plt.legend(handler_map={line1: HandlerLine2D(numpoints=2)})\n",
    "plt.ylabel(\"Accuracy score\")\n",
    "plt.xlabel(\"n_estimators\")\n",
    "plt.show()"
   ]
  },
  {
   "cell_type": "code",
   "execution_count": 22,
   "metadata": {},
   "outputs": [
    {
     "name": "stdout",
     "output_type": "stream",
     "text": [
      "iteracion 5 realizada\n",
      "iteracion 10 realizada\n",
      "iteracion 20 realizada\n",
      "iteracion 50 realizada\n",
      "iteracion 75 realizada\n"
     ]
    },
    {
     "data": {
      "image/png": "[encoded data removed]",
      "text/plain": [
       "<Figure size 432x288 with 1 Axes>"
      ]
     },
     "metadata": {
      "needs_background": "light"
     },
     "output_type": "display_data"
    }
   ],
   "source": [
    "estimadores = [5,10,20,50,75]\n",
    "train_results = []\n",
    "test_results = []\n",
    "for estimador in estimadores:\n",
    "    dt = BaggingClassifier(n_estimators=estimador)\n",
    "    dt.fit(X_train, y_train)\n",
    "    train_pred = dt.predict(X_train)\n",
    "    false_positive_rate, true_positive_rate, thresholds = roc_curve(y_train, train_pred)\n",
    "    roc_auc = auc(false_positive_rate, true_positive_rate)\n",
    "    # Add auc score to previous train results\n",
    "    train_results.append(roc_auc)\n",
    "    y_pred = dt.predict(X_val)\n",
    "    false_positive_rate, true_positive_rate, thresholds = roc_curve(y_val, y_pred)\n",
    "    roc_auc = auc(false_positive_rate, true_positive_rate)\n",
    "    # Add auc score to previous test results\n",
    "    test_results.append(roc_auc)\n",
    "    print(\"iteracion\", estimador, \"realizada\")\n",
    "from matplotlib.legend_handler import HandlerLine2D\n",
    "line1, = plt.plot(estimadores, train_results, \"b\", label=\"Train AUC\")\n",
    "line2, = plt.plot(estimadores, test_results, \"r\", label=\"Val AUC\")\n",
    "plt.legend(handler_map={line1: HandlerLine2D(numpoints=2)})\n",
    "plt.ylabel(\"AUC score\")\n",
    "plt.xlabel(\"n_estimators\")\n",
    "plt.show()"
   ]
  },
  {
   "cell_type": "markdown",
   "metadata": {},
   "source": [
    "Nos quedamos con el valor el valor n_estimadors=20."
   ]
  },
  {
   "cell_type": "code",
   "execution_count": null,
   "metadata": {},
   "outputs": [],
   "source": []
  },
  {
   "cell_type": "markdown",
   "metadata": {},
   "source": [
    "#### 7.3.2 max_samples"
   ]
  },
  {
   "cell_type": "code",
   "execution_count": 23,
   "metadata": {},
   "outputs": [
    {
     "name": "stdout",
     "output_type": "stream",
     "text": [
      "iteration 0.1 hecha\n",
      "iteration 0.2 hecha\n",
      "iteration 0.3 hecha\n",
      "iteration 0.4 hecha\n",
      "iteration 0.5 hecha\n",
      "iteration 0.6 hecha\n",
      "iteration 0.7 hecha\n",
      "iteration 0.8 hecha\n",
      "iteration 0.9 hecha\n",
      "iteration 1.0 hecha\n"
     ]
    },
    {
     "data": {
      "image/png": "[encoded data removed]",
      "text/plain": [
       "<Figure size 432x288 with 1 Axes>"
      ]
     },
     "metadata": {
      "needs_background": "light"
     },
     "output_type": "display_data"
    }
   ],
   "source": [
    "max_samples = [0.1, 0.2, 0.3,0.4,0.5, 0.6, 0.7, 0.8, 0.9, 1.0]\n",
    "train_results = []\n",
    "test_results = []\n",
    "for max_sample in max_samples:\n",
    "    dt = BaggingClassifier(n_estimators=25, max_samples= max_sample)\n",
    "    dt.fit(X_train, y_train)\n",
    "    score=dt.score(X_train, y_train)\n",
    "    # Add auc score to previous train results\n",
    "    train_results.append(score)\n",
    "    scoret = dt.score(X_val, y_val)\n",
    "    # Add auc score to previous test results\n",
    "    test_results.append(scoret)\n",
    "    print(\"iteration\", max_sample, \"hecha\")\n",
    "from matplotlib.legend_handler import HandlerLine2D\n",
    "line1, = plt.plot(max_samples, train_results, \"b\", label=\"Train Accuracy\")\n",
    "line2, = plt.plot(max_samples, test_results, \"r\", label=\"Val Accuracy\")\n",
    "plt.legend(handler_map={line1: HandlerLine2D(numpoints=2)})\n",
    "plt.ylabel(\"Accuracy score\")\n",
    "plt.xlabel(\"max_samples\")\n",
    "plt.show()"
   ]
  },
  {
   "cell_type": "code",
   "execution_count": 24,
   "metadata": {},
   "outputs": [
    {
     "name": "stdout",
     "output_type": "stream",
     "text": [
      "iteracion 75 realizada\n",
      "iteracion 75 realizada\n",
      "iteracion 75 realizada\n",
      "iteracion 75 realizada\n",
      "iteracion 75 realizada\n",
      "iteracion 75 realizada\n",
      "iteracion 75 realizada\n",
      "iteracion 75 realizada\n",
      "iteracion 75 realizada\n",
      "iteracion 75 realizada\n"
     ]
    },
    {
     "data": {
      "image/png": "[encoded data removed]",
      "text/plain": [
       "<Figure size 432x288 with 1 Axes>"
      ]
     },
     "metadata": {
      "needs_background": "light"
     },
     "output_type": "display_data"
    }
   ],
   "source": [
    "max_samples = [0.1, 0.2, 0.3,0.4,0.5, 0.6, 0.7, 0.8, 0.9, 1.0]\n",
    "train_results = []\n",
    "test_results = []\n",
    "for max_sample in max_samples:\n",
    "    dt = BaggingClassifier(n_estimators=25, max_samples= max_sample)\n",
    "    dt.fit(X_train, y_train)\n",
    "    train_pred = dt.predict(X_train)\n",
    "    false_positive_rate, true_positive_rate, thresholds = roc_curve(y_train, train_pred)\n",
    "    roc_auc = auc(false_positive_rate, true_positive_rate)\n",
    "    # Add auc score to previous train results\n",
    "    train_results.append(roc_auc)\n",
    "    y_pred = dt.predict(X_val)\n",
    "    false_positive_rate, true_positive_rate, thresholds = roc_curve(y_val, y_pred)\n",
    "    roc_auc = auc(false_positive_rate, true_positive_rate)\n",
    "    # Add auc score to previous test results\n",
    "    test_results.append(roc_auc)\n",
    "    print(\"iteracion\", estimador, \"realizada\")\n",
    "from matplotlib.legend_handler import HandlerLine2D\n",
    "line1, = plt.plot(max_samples, train_results, \"b\", label=\"Train AUC\")\n",
    "line2, = plt.plot(max_samples, test_results, \"r\", label=\"Val AUC\")\n",
    "plt.legend(handler_map={line1: HandlerLine2D(numpoints=2)})\n",
    "plt.ylabel(\"AUC score\")\n",
    "plt.xlabel(\"max_samples\")\n",
    "plt.show()"
   ]
  },
  {
   "cell_type": "markdown",
   "metadata": {},
   "source": [
    "Nos quedamos con el valor que de max_samples que estaba asignado por defecto, el 1. Ya que este valor es el mejor observando las accuracy y el area bajo de la curva ROC."
   ]
  },
  {
   "cell_type": "markdown",
   "metadata": {},
   "source": [
    "### 7.4 Modelo final"
   ]
  },
  {
   "cell_type": "code",
   "execution_count": 25,
   "metadata": {},
   "outputs": [
    {
     "data": {
      "text/plain": [
       "BaggingClassifier(base_estimator=None, bootstrap=True, bootstrap_features=False,\n",
       "                  max_features=1.0, max_samples=1.0, n_estimators=25,\n",
       "                  n_jobs=None, oob_score=False, random_state=None, verbose=0,\n",
       "                  warm_start=False)"
      ]
     },
     "execution_count": 25,
     "metadata": {},
     "output_type": "execute_result"
    }
   ],
   "source": [
    "bagging_final_model = BaggingClassifier(n_estimators=25)\n",
    "bagging_final_model"
   ]
  },
  {
   "cell_type": "code",
   "execution_count": 26,
   "metadata": {},
   "outputs": [],
   "source": [
    "X_train, X_test, y_train, y_test = train_test_split(X, Y, test_size=0.2, random_state=1)\n",
    "\n",
    "X_train, X_val, y_train, y_val = train_test_split(X_train, y_train, test_size=0.25, random_state=1) # 0.25 x 0.8 = 0.2"
   ]
  },
  {
   "cell_type": "code",
   "execution_count": 27,
   "metadata": {},
   "outputs": [
    {
     "data": {
      "text/plain": [
       "BaggingClassifier(base_estimator=None, bootstrap=True, bootstrap_features=False,\n",
       "                  max_features=1.0, max_samples=1.0, n_estimators=25,\n",
       "                  n_jobs=None, oob_score=False, random_state=None, verbose=0,\n",
       "                  warm_start=False)"
      ]
     },
     "execution_count": 27,
     "metadata": {},
     "output_type": "execute_result"
    }
   ],
   "source": [
    "bagging_final_model.fit(X_train, y_train)"
   ]
  },
  {
   "cell_type": "code",
   "execution_count": 28,
   "metadata": {},
   "outputs": [],
   "source": [
    "#Calculamos los valores que obtenemos de nuestros datos de test\n",
    "y_pred=bagging_final_model.predict(X_test)"
   ]
  },
  {
   "cell_type": "code",
   "execution_count": 29,
   "metadata": {},
   "outputs": [
    {
     "data": {
      "image/png": "[encoded data removed]",
      "text/plain": [
       "<Figure size 432x288 with 2 Axes>"
      ]
     },
     "metadata": {
      "needs_background": "light"
     },
     "output_type": "display_data"
    }
   ],
   "source": [
    "sklearn.metrics.plot_confusion_matrix(bagging_final_model, X_test, y_test, values_format=\"d\", cmap=plt.cm.Blues)  # doctest: +SKIP\n",
    "plt.show()"
   ]
  },
  {
   "cell_type": "code",
   "execution_count": 31,
   "metadata": {},
   "outputs": [],
   "source": [
    "accuracy= sklearn.metrics.accuracy_score(y_test, y_pred)\n",
    "accuracy_balanced= sklearn.metrics.balanced_accuracy_score(y_test, y_pred)\n",
    "probs = bagging_final_model.predict_proba(X_test)\n",
    "preds = probs[:,1]\n",
    "fpr, tpr, threshold = metrics.roc_curve(y_test, preds)\n",
    "roc= metrics.auc(fpr, tpr)\n",
    "f1= sklearn.metrics.f1_score(y_test, y_pred)"
   ]
  },
  {
   "cell_type": "code",
   "execution_count": 32,
   "metadata": {},
   "outputs": [
    {
     "data": {
      "text/html": [
       "<div>\n",
       "<style scoped>\n",
       "    .dataframe tbody tr th:only-of-type {\n",
       "        vertical-align: middle;\n",
       "    }\n",
       "\n",
       "    .dataframe tbody tr th {\n",
       "        vertical-align: top;\n",
       "    }\n",
       "\n",
       "    .dataframe thead th {\n",
       "        text-align: right;\n",
       "    }\n",
       "</style>\n",
       "<table border=\"1\" class=\"dataframe\">\n",
       "  <thead>\n",
       "    <tr style=\"text-align: right;\">\n",
       "      <th></th>\n",
       "      <th>Model</th>\n",
       "      <th>Accuracy</th>\n",
       "      <th>Balanced accuracy</th>\n",
       "      <th>ROC AUC</th>\n",
       "      <th>F1 Score</th>\n",
       "    </tr>\n",
       "  </thead>\n",
       "  <tbody>\n",
       "    <tr>\n",
       "      <th>0</th>\n",
       "      <td>Decision tree Bagging</td>\n",
       "      <td>0.859701</td>\n",
       "      <td>0.855119</td>\n",
       "      <td>0.938985</td>\n",
       "      <td>0.833922</td>\n",
       "    </tr>\n",
       "  </tbody>\n",
       "</table>\n",
       "</div>"
      ],
      "text/plain": [
       "                   Model  Accuracy  Balanced accuracy   ROC AUC  F1 Score\n",
       "0  Decision tree Bagging  0.859701           0.855119  0.938985  0.833922"
      ]
     },
     "execution_count": 32,
     "metadata": {},
     "output_type": "execute_result"
    }
   ],
   "source": [
    "results_dict = {'Model': ['Decision tree Bagging']\n",
    "                 , 'Accuracy': accuracy,'Balanced accuracy': accuracy_balanced,'ROC AUC': roc, 'F1 Score': f1}\n",
    "\n",
    "model_results_df = pd.DataFrame.from_dict(results_dict)\n",
    "model_results_df"
   ]
  },
  {
   "cell_type": "code",
   "execution_count": 33,
   "metadata": {},
   "outputs": [],
   "source": [
    "model_results_df.to_csv('df_bagging_final.csv', index=False)"
   ]
  },
  {
   "cell_type": "code",
   "execution_count": 34,
   "metadata": {},
   "outputs": [
    {
     "data": {
      "image/png": "[encoded data removed]",
      "text/plain": [
       "<Figure size 432x288 with 1 Axes>"
      ]
     },
     "metadata": {
      "needs_background": "light"
     },
     "output_type": "display_data"
    }
   ],
   "source": [
    "probs = bagging_final_model.predict_proba(X_test)\n",
    "preds = probs[:,1]\n",
    "fpr, tpr, threshold = metrics.roc_curve(y_test, preds)\n",
    "roc= metrics.auc(fpr, tpr)\n",
    "\n",
    "# method I: plt\n",
    "import matplotlib.pyplot as plt\n",
    "plt.title('Receiver Operating Characteristic')\n",
    "plt.plot(fpr, tpr, 'b', label = 'AUC = %0.2f' % roc)\n",
    "plt.legend(loc = 'lower right')\n",
    "plt.plot([0, 1], [0, 1],'r--')\n",
    "plt.xlim([0, 1])\n",
    "plt.ylim([0, 1])\n",
    "plt.ylabel('True Positive Rate')\n",
    "plt.xlabel('False Positive Rate')\n",
    "plt.show()"
   ]
  },
  {
   "cell_type": "code",
   "execution_count": null,
   "metadata": {},
   "outputs": [],
   "source": []
  },
  {
   "cell_type": "code",
   "execution_count": 35,
   "metadata": {},
   "outputs": [],
   "source": [
    "from sklearn.metrics import classification_report\n",
    "h=classification_report(y_test, y_pred)"
   ]
  },
  {
   "cell_type": "code",
   "execution_count": 36,
   "metadata": {},
   "outputs": [
    {
     "name": "stdout",
     "output_type": "stream",
     "text": [
      "              precision    recall  f1-score   support\n",
      "\n",
      "           0       0.87      0.89      0.88      8051\n",
      "           1       0.84      0.82      0.83      6019\n",
      "\n",
      "    accuracy                           0.86     14070\n",
      "   macro avg       0.86      0.86      0.86     14070\n",
      "weighted avg       0.86      0.86      0.86     14070\n",
      "\n"
     ]
    }
   ],
   "source": [
    "print(h)"
   ]
  },
  {
   "cell_type": "code",
   "execution_count": 38,
   "metadata": {},
   "outputs": [
    {
     "data": {
      "text/html": [
       "<div>\n",
       "<style scoped>\n",
       "    .dataframe tbody tr th:only-of-type {\n",
       "        vertical-align: middle;\n",
       "    }\n",
       "\n",
       "    .dataframe tbody tr th {\n",
       "        vertical-align: top;\n",
       "    }\n",
       "\n",
       "    .dataframe thead th {\n",
       "        text-align: right;\n",
       "    }\n",
       "</style>\n",
       "<table border=\"1\" class=\"dataframe\">\n",
       "  <thead>\n",
       "    <tr style=\"text-align: right;\">\n",
       "      <th></th>\n",
       "      <th>Model</th>\n",
       "      <th>Accuracy</th>\n",
       "      <th>Balanced accuracy</th>\n",
       "      <th>ROC AUC</th>\n",
       "      <th>F1 Score</th>\n",
       "      <th>sensitivity</th>\n",
       "      <th>specificity</th>\n",
       "    </tr>\n",
       "  </thead>\n",
       "  <tbody>\n",
       "    <tr>\n",
       "      <th>0</th>\n",
       "      <td>Decision Tree Bagging</td>\n",
       "      <td>0.859701</td>\n",
       "      <td>0.855119</td>\n",
       "      <td>0.938985</td>\n",
       "      <td>0.833922</td>\n",
       "      <td>0.82</td>\n",
       "      <td>0.89</td>\n",
       "    </tr>\n",
       "  </tbody>\n",
       "</table>\n",
       "</div>"
      ],
      "text/plain": [
       "                   Model  Accuracy  Balanced accuracy   ROC AUC  F1 Score  \\\n",
       "0  Decision Tree Bagging  0.859701           0.855119  0.938985  0.833922   \n",
       "\n",
       "   sensitivity  specificity  \n",
       "0         0.82         0.89  "
      ]
     },
     "execution_count": 38,
     "metadata": {},
     "output_type": "execute_result"
    }
   ],
   "source": [
    "results_dict = {'Model': ['Decision Tree Bagging']\n",
    "                 , 'Accuracy': accuracy,'Balanced accuracy': accuracy_balanced,'ROC AUC': roc, 'F1 Score': f1, 'sensitivity':0.82, 'specificity':0.89}\n",
    "\n",
    "model_results_df = pd.DataFrame.from_dict(results_dict)\n",
    "model_results_df"
   ]
  },
  {
   "cell_type": "code",
   "execution_count": 39,
   "metadata": {},
   "outputs": [],
   "source": [
    "model_results_df.to_csv('df_bagging_final.csv', index=False)"
   ]
  },
  {
   "cell_type": "code",
   "execution_count": null,
   "metadata": {},
   "outputs": [],
   "source": []
  }
 ],
 "metadata": {
  "kernelspec": {
   "display_name": "Python 3",
   "language": "python",
   "name": "python3"
  },
  "language_info": {
   "codemirror_mode": {
    "name": "ipython",
    "version": 3
   },
   "file_extension": ".py",
   "mimetype": "text/x-python",
   "name": "python",
   "nbconvert_exporter": "python",
   "pygments_lexer": "ipython3",
   "version": "3.7.4"
  }
 },
 "nbformat": 4,
 "nbformat_minor": 2
}
