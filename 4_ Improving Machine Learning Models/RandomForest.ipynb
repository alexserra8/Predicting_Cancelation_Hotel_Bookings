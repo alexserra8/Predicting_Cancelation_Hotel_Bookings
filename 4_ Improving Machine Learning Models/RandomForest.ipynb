{
 "cells": [
  {
   "cell_type": "code",
   "execution_count": 1,
   "metadata": {},
   "outputs": [
    {
     "name": "stderr",
     "output_type": "stream",
     "text": [
      "C:\\Users\\alexs\\.conda\\envs\\Alex_R\\lib\\site-packages\\sklearn\\utils\\deprecation.py:144: FutureWarning:\n",
      "\n",
      "The sklearn.metrics.scorer module is  deprecated in version 0.22 and will be removed in version 0.24. The corresponding classes / functions should instead be imported from sklearn.metrics. Anything that cannot be imported from sklearn.metrics is now part of the private API.\n",
      "\n",
      "C:\\Users\\alexs\\.conda\\envs\\Alex_R\\lib\\site-packages\\sklearn\\utils\\deprecation.py:144: FutureWarning:\n",
      "\n",
      "The sklearn.feature_selection.base module is  deprecated in version 0.22 and will be removed in version 0.24. The corresponding classes / functions should instead be imported from sklearn.feature_selection. Anything that cannot be imported from sklearn.feature_selection is now part of the private API.\n",
      "\n",
      "Using TensorFlow backend.\n",
      "C:\\Users\\alexs\\.conda\\envs\\Alex_R\\lib\\site-packages\\tensorflow\\python\\framework\\dtypes.py:526: FutureWarning:\n",
      "\n",
      "Passing (type, 1) or '1type' as a synonym of type is deprecated; in a future version of numpy, it will be understood as (type, (1,)) / '(1,)type'.\n",
      "\n",
      "C:\\Users\\alexs\\.conda\\envs\\Alex_R\\lib\\site-packages\\tensorflow\\python\\framework\\dtypes.py:527: FutureWarning:\n",
      "\n",
      "Passing (type, 1) or '1type' as a synonym of type is deprecated; in a future version of numpy, it will be understood as (type, (1,)) / '(1,)type'.\n",
      "\n",
      "C:\\Users\\alexs\\.conda\\envs\\Alex_R\\lib\\site-packages\\tensorflow\\python\\framework\\dtypes.py:528: FutureWarning:\n",
      "\n",
      "Passing (type, 1) or '1type' as a synonym of type is deprecated; in a future version of numpy, it will be understood as (type, (1,)) / '(1,)type'.\n",
      "\n",
      "C:\\Users\\alexs\\.conda\\envs\\Alex_R\\lib\\site-packages\\tensorflow\\python\\framework\\dtypes.py:529: FutureWarning:\n",
      "\n",
      "Passing (type, 1) or '1type' as a synonym of type is deprecated; in a future version of numpy, it will be understood as (type, (1,)) / '(1,)type'.\n",
      "\n",
      "C:\\Users\\alexs\\.conda\\envs\\Alex_R\\lib\\site-packages\\tensorflow\\python\\framework\\dtypes.py:530: FutureWarning:\n",
      "\n",
      "Passing (type, 1) or '1type' as a synonym of type is deprecated; in a future version of numpy, it will be understood as (type, (1,)) / '(1,)type'.\n",
      "\n",
      "C:\\Users\\alexs\\.conda\\envs\\Alex_R\\lib\\site-packages\\tensorflow\\python\\framework\\dtypes.py:535: FutureWarning:\n",
      "\n",
      "Passing (type, 1) or '1type' as a synonym of type is deprecated; in a future version of numpy, it will be understood as (type, (1,)) / '(1,)type'.\n",
      "\n"
     ]
    }
   ],
   "source": [
    "import pandas as pd\n",
    "import numpy as np\n",
    "import seaborn as sns \n",
    "import matplotlib.pyplot as plt \n",
    "import datetime\n",
    "import plotly.express as px\n",
    "import sklearn\n",
    "\n",
    "from sklearn.feature_selection import chi2\n",
    "from sklearn.preprocessing import OneHotEncoder\n",
    "from sklearn.compose import make_column_transformer\n",
    "from sklearn.preprocessing import StandardScaler\n",
    "from warnings import simplefilter\n",
    "from sklearn.model_selection import train_test_split\n",
    "from sklearn.metrics import confusion_matrix\n",
    "from sklearn.metrics import classification_report\n",
    "from sklearn.metrics import mean_squared_error\n",
    "from sklearn.metrics import roc_curve, auc\n",
    "from math import sqrt\n",
    "from sklearn import model_selection\n",
    "from sklearn.linear_model import LogisticRegression\n",
    "from sklearn.tree import DecisionTreeClassifier\n",
    "from sklearn.neighbors import KNeighborsClassifier\n",
    "from sklearn.ensemble import RandomForestClassifier\n",
    "from sklearn.naive_bayes import GaussianNB\n",
    "from sklearn import svm\n",
    "from sklearn.ensemble import BaggingClassifier\n",
    "from sklearn.ensemble import AdaBoostClassifier\n",
    "\n",
    "from sklearn.model_selection import KFold\n",
    "from sklearn.model_selection import LeaveOneOut\n",
    "from sklearn.model_selection import LeavePOut\n",
    "from sklearn.model_selection import ShuffleSplit\n",
    "from sklearn.model_selection import StratifiedKFold\n",
    "from sklearn.preprocessing import LabelEncoder\n",
    "from sklearn.compose import ColumnTransformer\n",
    "\n",
    "from sklearn.pipeline import make_pipeline\n",
    "from sklearn import preprocessing\n",
    "from sklearn.model_selection import cross_val_score\n",
    "import xgboost as xgb\n",
    "\n",
    "import eli5 # Feature importance evaluation\n",
    "\n",
    "from sklearn.pipeline import Pipeline\n",
    "from sklearn.preprocessing import LabelEncoder, OneHotEncoder\n",
    "from sklearn.impute import SimpleImputer\n",
    "\n",
    "from sklearn.model_selection import cross_val_predict\n",
    "from sklearn.model_selection import cross_validate\n",
    "\n",
    "from sklearn.metrics import make_scorer\n",
    "from xgboost import plot_importance"
   ]
  },
  {
   "cell_type": "code",
   "execution_count": 2,
   "metadata": {},
   "outputs": [],
   "source": [
    "#Definimos el concepto de tn, tp, fn y fp en una matriz de confusión binaria para poder extraerlos en cada iteración del CV:\n",
    "def tn(y_true, y_pred): return confusion_matrix(y_true, y_pred)[0, 0]\n",
    "def fp(y_true, y_pred): return confusion_matrix(y_true, y_pred)[0, 1]\n",
    "def fn(y_true, y_pred): return confusion_matrix(y_true, y_pred)[1, 0]\n",
    "def tp(y_true, y_pred): return confusion_matrix(y_true, y_pred)[1, 1]\n",
    "scoring = {'tp': make_scorer(tp), 'tn': make_scorer(tn),\n",
    "           'fp': make_scorer(fp), 'fn': make_scorer(fn)}"
   ]
  },
  {
   "cell_type": "markdown",
   "metadata": {},
   "source": [
    "# 8. Random Forest"
   ]
  },
  {
   "cell_type": "markdown",
   "metadata": {},
   "source": [
    "### 8.1 Definimos dataset"
   ]
  },
  {
   "cell_type": "code",
   "execution_count": 3,
   "metadata": {},
   "outputs": [],
   "source": [
    "#Importamos el dataset final\n",
    "df_final = pd.read_csv(\"df_final.csv\")"
   ]
  },
  {
   "cell_type": "code",
   "execution_count": 4,
   "metadata": {},
   "outputs": [
    {
     "data": {
      "text/plain": [
       "(70349, 23)"
      ]
     },
     "execution_count": 4,
     "metadata": {},
     "output_type": "execute_result"
    }
   ],
   "source": [
    "df_final.shape"
   ]
  },
  {
   "cell_type": "markdown",
   "metadata": {},
   "source": [
    "### 9.2 Reducir atributos"
   ]
  },
  {
   "cell_type": "markdown",
   "metadata": {},
   "source": [
    "En este apartado vamos ver cuales son los atributos mas importantes para el modelo. Con esta información podremos ver si el modelo con menos variables es igual de bueno o no. De esta manera tendremos un atributo mucho mas simple y rapido."
   ]
  },
  {
   "cell_type": "markdown",
   "metadata": {},
   "source": [
    "Empezamos teniendo los 22 atributos iniciales."
   ]
  },
  {
   "cell_type": "code",
   "execution_count": 5,
   "metadata": {},
   "outputs": [
    {
     "name": "stdout",
     "output_type": "stream",
     "text": [
      "Decision Tree accuracy score: 0.8719 +/- 0.004 (std) min: 0.8659, max: 0.8766\n",
      "Decision Tree balanced accuracy score: 0.8646 +/- 0.005 (std) min: 0.8562, max: 0.8714\n",
      "Decision Tree area under ROC curve score: 0.9466 +/- 0.003 (std) min: 0.941, max: 0.9506\n",
      "Decision Tree cross validation sensitivity score: 0.8109 +/- 0.0107 (std)\n",
      "Decision Tree cross validation specificity score: 0.9184 +/- 0.0057 (std)\n",
      "Decision Tree cross validation precision score: 0.8834 +/- 0.0087 (std)\n",
      "Decision Tree cross validation NPV score: 0.8643 +/- 0.0058 (std)\n",
      "Decision Tree cross validation FNR score: 0.1891 +/- 0.0107 (std)\n",
      "Decision Tree cross validation FPR score: 0.0816 +/- 0.0057 (std)\n",
      "Decision Tree cross validation F1 score: 0.8456 +/- 0.0071 (std)\n",
      "[[2198.  195.]\n",
      " [ 345. 1481.]]\n"
     ]
    }
   ],
   "source": [
    "#Definimos que variables son númericas y cuales son categóricas:\n",
    "num_features = [\"lead_time\",\"arrival_date_week_number\", \"arrival_date_day_of_month\",\"stays_in_weekend_nights\",\"stays_in_week_nights\",\"adults\",\"children\",\"babies\",\"is_repeated_guest\",\"previous_cancellations\",\"previous_bookings_not_canceled\",\"agent\",\"adr\",\"required_car_parking_spaces\",\"total_of_special_requests\",\n",
    "               ]\n",
    ",\n",
    "cat_features = [\"arrival_date_month\",\"meal\",\"country\",\"market_segment\",\"distribution_channel\",\"reserved_room_type\",\"customer_type\"]\n",
    "\n",
    "\n",
    "features = num_features + cat_features\n",
    "\n",
    "#Definimos nuestros atributos y nuestra variable respuesta:\n",
    "X = df_final.drop([\"is_canceled\"], axis=1)[features]\n",
    "Y = df_final[\"is_canceled\"]\n",
    "\n",
    "X_train, X_test, y_train, y_test = train_test_split(X, Y, test_size=0.2, random_state=1)\n",
    "X_train, X_val, y_train, y_val = train_test_split(X_train, y_train, test_size=0.25, random_state=1) # 0.25 x 0.8 = 0.2\n",
    "\n",
    "#Prepararamos el preprocesado. Escalaremos las variables numéricas y codificaremos las variables categóricas:\n",
    "num_transformer = StandardScaler()\n",
    "cat_transformer = Pipeline(steps=[(\"onehot\", OneHotEncoder(handle_unknown='ignore'))])\n",
    "\n",
    "preprocessor = ColumnTransformer(transformers=[(\"num\", num_transformer, num_features),\n",
    "                                               (\"cat\", cat_transformer, cat_features)])\n",
    "#Definimos el modelo a usar:\n",
    "rf_model = RandomForestClassifier()\n",
    "\n",
    "#Usaremos 10-fold stratified CV. Al usar pipelines nos aseguramos que los datos se transformen en cada iteración.\n",
    "kfold = KFold(n_splits=10, random_state=100, shuffle = True)\n",
    "\n",
    "model_pipe = Pipeline(steps=[('preprocessor', preprocessor),\n",
    "                              ('model', rf_model)])\n",
    "cv_results = cross_validate(model_pipe, \n",
    "                                 X_train, y_train, \n",
    "                                 cv=kfold,\n",
    "                                 scoring={'accuracy': 'accuracy','balanced_accuracy': 'balanced_accuracy','roc_auc': 'roc_auc','tp': make_scorer(tp), 'tn': make_scorer(tn),\n",
    "'fp': make_scorer(fp), 'fn': make_scorer(fn)},\n",
    "                                 n_jobs=-1)\n",
    "#Mostramos los resultados:\n",
    "model_results_rf22 = np.zeros(shape=(1,7))\n",
    "accuracy_array =  cv_results['test_accuracy']\n",
    "balanced_accuracy_array =  cv_results['test_balanced_accuracy']\n",
    "roc_auc_array = cv_results['test_roc_auc']\n",
    "\n",
    "\n",
    "min_score_acc = round(min(accuracy_array), 4)\n",
    "max_score_acc = round(max(accuracy_array), 4)\n",
    "mean_score_acc = round(np.mean(accuracy_array), 4)\n",
    "std_dev_acc = round(np.std(accuracy_array), 4)\n",
    "\n",
    "min_score_bal_acc = round(min(balanced_accuracy_array), 4)\n",
    "max_score_bal_acc = round(max(balanced_accuracy_array), 4)\n",
    "mean_score_bal_acc = round(np.mean(balanced_accuracy_array), 4)\n",
    "std_dev_bal_acc = round(np.std(balanced_accuracy_array), 4)\n",
    "\n",
    "min_score_roc_auc = round(min(roc_auc_array), 4)\n",
    "max_score_roc_auc = round(max(roc_auc_array), 4)\n",
    "mean_score_roc_auc = round(np.mean(roc_auc_array), 4)\n",
    "std_dev_roc_auc = round(np.std(roc_auc_array), 4)\n",
    "\n",
    "sensitivity = np.zeros(shape=(1,10))\n",
    "specificity = np.zeros(shape=(1,10))\n",
    "precision = np.zeros(shape=(1,10))\n",
    "NPV = np.zeros(shape=(1,10))\n",
    "FNR = np.zeros(shape=(1,10))\n",
    "FPR = np.zeros(shape=(1,10))\n",
    "F1 = np.zeros(shape=(1,10))\n",
    "\n",
    "#Construimos la matriz de confusión:\n",
    "cm_rf22 = np.zeros(shape=(2,2))\n",
    "\n",
    "tp_array = cv_results['test_tp']\n",
    "tn_array = cv_results['test_tn']\n",
    "fp_array = cv_results['test_fp']\n",
    "fn_array = cv_results['test_fn']\n",
    "    \n",
    "tn_mean = (tn_array.mean()).astype(np.int64)\n",
    "fp_mean = (fp_array.mean()).astype(np.int64)\n",
    "fn_mean = (fn_array.mean()).astype(np.int64)\n",
    "tp_mean = (tp_array.mean()).astype(np.int64)\n",
    "\n",
    "cm_rf22[0] = [tn_mean, fp_mean]\n",
    "cm_rf22[1] = [fn_mean, tp_mean]\n",
    "\n",
    "j=0\n",
    "while j < 10:\n",
    "    sensitivity[0,j] = tp_array[j]/(tp_array[j]+fn_array[j])\n",
    "    specificity[0,j] = tn_array[j]/(tn_array[j]+fp_array[j])\n",
    "    precision[0,j] = tp_array[j]/(tp_array[j]+fp_array[j])\n",
    "    NPV[0,j] = tn_array[j]/(tn_array[j]+fn_array[j])\n",
    "    FNR[0,j] = 1-tp_array[j]/(tp_array[j]+fn_array[j])\n",
    "    FPR[0,j] = 1-tn_array[j]/(tn_array[j]+fp_array[j])\n",
    "    F1[0,j] = 2*tp_array[j]/(2*tp_array[j]+fp_array[j]+fn_array[j])\n",
    "    j=j+1\n",
    "    \n",
    "        \n",
    "sd_sensitivity = round(np.std(sensitivity), 4)\n",
    "sd_specificity = round(np.std(specificity), 4)\n",
    "sd_precision = round(np.std(precision), 4)\n",
    "sd_NPV = round(np.std(NPV), 4)\n",
    "sd_FNR = round(np.std(FNR), 4)\n",
    "sd_FPR = round(np.std(FPR), 4)\n",
    "sd_F1 = round(np.std(F1), 4)\n",
    "    \n",
    "sensitivity_mean = round(sensitivity.mean(),4)\n",
    "specificity_mean = round(specificity.mean(),4)\n",
    "precision_mean = round(precision.mean(),4)\n",
    "NPV_mean = round(NPV.mean(),4)\n",
    "FNR_mean = round(FNR.mean(),4)\n",
    "FPR_mean = round(FPR.mean(),4)\n",
    "F1_mean = round(F1.mean(),4)\n",
    "\n",
    "\n",
    "model_results_rf22 = np.array([mean_score_acc,mean_score_bal_acc,mean_score_roc_auc,tn_mean,fp_mean,fn_mean,tp_mean])\n",
    "\n",
    "print(f\"Random Forest accuracy score: {mean_score_acc} +/- {std_dev_acc} (std) min: {min_score_acc}, max: {max_score_acc}\")\n",
    "print(f\"Random Forest balanced accuracy score: {mean_score_bal_acc} +/- {std_dev_bal_acc} (std) min: {min_score_bal_acc}, max: {max_score_bal_acc}\")\n",
    "print(f\"Random Forest area under ROC curve score: {mean_score_roc_auc} +/- {std_dev_roc_auc} (std) min: {min_score_roc_auc}, max: {max_score_roc_auc}\")\n",
    "print(f\"Random Forest cross validation sensitivity score: {sensitivity_mean} +/- {sd_sensitivity} (std)\")\n",
    "print(f\"Random Forest cross validation specificity score: {specificity_mean} +/- {sd_specificity} (std)\")\n",
    "print(f\"Random Forest cross validation precision score: {precision_mean} +/- {sd_precision} (std)\")\n",
    "print(f\"Random Forest cross validation NPV score: {NPV_mean} +/- {sd_NPV} (std)\")\n",
    "print(f\"Random Forest cross validation FNR score: {FNR_mean} +/- {sd_FNR} (std)\")\n",
    "print(f\"Random Forest cross validation FPR score: {FPR_mean} +/- {sd_FPR} (std)\")\n",
    "print(f\"Random Forest cross validation F1 score: {F1_mean} +/- {sd_F1} (std)\")\n",
    "print(cm_rf22)"
   ]
  },
  {
   "cell_type": "markdown",
   "metadata": {},
   "source": [
    "A continuación calcularemos la importancia de cada uno de los atributos usados. En el caso de las variables categóricas su importancia se nos dará desglosada en cada uno de sus posibles valores:"
   ]
  },
  {
   "cell_type": "code",
   "execution_count": 6,
   "metadata": {},
   "outputs": [
    {
     "data": {
      "text/html": [
       "<div>\n",
       "<style scoped>\n",
       "    .dataframe tbody tr th:only-of-type {\n",
       "        vertical-align: middle;\n",
       "    }\n",
       "\n",
       "    .dataframe tbody tr th {\n",
       "        vertical-align: top;\n",
       "    }\n",
       "\n",
       "    .dataframe thead th {\n",
       "        text-align: right;\n",
       "    }\n",
       "</style>\n",
       "<table border=\"1\" class=\"dataframe\">\n",
       "  <thead>\n",
       "    <tr style=\"text-align: right;\">\n",
       "      <th></th>\n",
       "      <th>feature</th>\n",
       "      <th>weight</th>\n",
       "      <th>std</th>\n",
       "    </tr>\n",
       "  </thead>\n",
       "  <tbody>\n",
       "    <tr>\n",
       "      <th>0</th>\n",
       "      <td>lead_time</td>\n",
       "      <td>0.126145</td>\n",
       "      <td>0.019305</td>\n",
       "    </tr>\n",
       "    <tr>\n",
       "      <th>1</th>\n",
       "      <td>country_PRT</td>\n",
       "      <td>0.093135</td>\n",
       "      <td>0.044897</td>\n",
       "    </tr>\n",
       "    <tr>\n",
       "      <th>2</th>\n",
       "      <td>adr</td>\n",
       "      <td>0.087257</td>\n",
       "      <td>0.011924</td>\n",
       "    </tr>\n",
       "    <tr>\n",
       "      <th>3</th>\n",
       "      <td>total_of_special_requests</td>\n",
       "      <td>0.081472</td>\n",
       "      <td>0.023010</td>\n",
       "    </tr>\n",
       "    <tr>\n",
       "      <th>4</th>\n",
       "      <td>arrival_date_day_of_month</td>\n",
       "      <td>0.060245</td>\n",
       "      <td>0.004054</td>\n",
       "    </tr>\n",
       "    <tr>\n",
       "      <th>5</th>\n",
       "      <td>agent</td>\n",
       "      <td>0.057444</td>\n",
       "      <td>0.019398</td>\n",
       "    </tr>\n",
       "    <tr>\n",
       "      <th>6</th>\n",
       "      <td>arrival_date_week_number</td>\n",
       "      <td>0.053319</td>\n",
       "      <td>0.004316</td>\n",
       "    </tr>\n",
       "    <tr>\n",
       "      <th>7</th>\n",
       "      <td>stays_in_week_nights</td>\n",
       "      <td>0.040921</td>\n",
       "      <td>0.004183</td>\n",
       "    </tr>\n",
       "    <tr>\n",
       "      <th>8</th>\n",
       "      <td>previous_cancellations</td>\n",
       "      <td>0.036342</td>\n",
       "      <td>0.028520</td>\n",
       "    </tr>\n",
       "    <tr>\n",
       "      <th>9</th>\n",
       "      <td>customer_type_Transient-Party</td>\n",
       "      <td>0.029018</td>\n",
       "      <td>0.018375</td>\n",
       "    </tr>\n",
       "    <tr>\n",
       "      <th>10</th>\n",
       "      <td>stays_in_weekend_nights</td>\n",
       "      <td>0.027011</td>\n",
       "      <td>0.003432</td>\n",
       "    </tr>\n",
       "    <tr>\n",
       "      <th>11</th>\n",
       "      <td>customer_type_Transient</td>\n",
       "      <td>0.024471</td>\n",
       "      <td>0.016735</td>\n",
       "    </tr>\n",
       "    <tr>\n",
       "      <th>12</th>\n",
       "      <td>market_segment_Online TA</td>\n",
       "      <td>0.018077</td>\n",
       "      <td>0.014705</td>\n",
       "    </tr>\n",
       "    <tr>\n",
       "      <th>13</th>\n",
       "      <td>adults</td>\n",
       "      <td>0.016165</td>\n",
       "      <td>0.002382</td>\n",
       "    </tr>\n",
       "    <tr>\n",
       "      <th>14</th>\n",
       "      <td>market_segment_Groups</td>\n",
       "      <td>0.015885</td>\n",
       "      <td>0.017529</td>\n",
       "    </tr>\n",
       "    <tr>\n",
       "      <th>15</th>\n",
       "      <td>country_FRA</td>\n",
       "      <td>0.015185</td>\n",
       "      <td>0.009676</td>\n",
       "    </tr>\n",
       "    <tr>\n",
       "      <th>16</th>\n",
       "      <td>country_DEU</td>\n",
       "      <td>0.010747</td>\n",
       "      <td>0.006512</td>\n",
       "    </tr>\n",
       "    <tr>\n",
       "      <th>17</th>\n",
       "      <td>market_segment_Offline TA/TO</td>\n",
       "      <td>0.010507</td>\n",
       "      <td>0.008689</td>\n",
       "    </tr>\n",
       "    <tr>\n",
       "      <th>18</th>\n",
       "      <td>meal_BB</td>\n",
       "      <td>0.008479</td>\n",
       "      <td>0.003810</td>\n",
       "    </tr>\n",
       "    <tr>\n",
       "      <th>19</th>\n",
       "      <td>required_car_parking_spaces</td>\n",
       "      <td>0.008275</td>\n",
       "      <td>0.002801</td>\n",
       "    </tr>\n",
       "    <tr>\n",
       "      <th>20</th>\n",
       "      <td>country_ESP</td>\n",
       "      <td>0.007392</td>\n",
       "      <td>0.004354</td>\n",
       "    </tr>\n",
       "    <tr>\n",
       "      <th>21</th>\n",
       "      <td>reserved_room_type_A</td>\n",
       "      <td>0.006856</td>\n",
       "      <td>0.002478</td>\n",
       "    </tr>\n",
       "    <tr>\n",
       "      <th>22</th>\n",
       "      <td>arrival_date_month_July</td>\n",
       "      <td>0.006518</td>\n",
       "      <td>0.001650</td>\n",
       "    </tr>\n",
       "    <tr>\n",
       "      <th>23</th>\n",
       "      <td>arrival_date_month_August</td>\n",
       "      <td>0.006397</td>\n",
       "      <td>0.001390</td>\n",
       "    </tr>\n",
       "    <tr>\n",
       "      <th>24</th>\n",
       "      <td>country_GBR</td>\n",
       "      <td>0.006362</td>\n",
       "      <td>0.002577</td>\n",
       "    </tr>\n",
       "  </tbody>\n",
       "</table>\n",
       "</div>"
      ],
      "text/plain": [
       "                          feature    weight       std\n",
       "0                       lead_time  0.126145  0.019305\n",
       "1                     country_PRT  0.093135  0.044897\n",
       "2                             adr  0.087257  0.011924\n",
       "3       total_of_special_requests  0.081472  0.023010\n",
       "4       arrival_date_day_of_month  0.060245  0.004054\n",
       "5                           agent  0.057444  0.019398\n",
       "6        arrival_date_week_number  0.053319  0.004316\n",
       "7            stays_in_week_nights  0.040921  0.004183\n",
       "8          previous_cancellations  0.036342  0.028520\n",
       "9   customer_type_Transient-Party  0.029018  0.018375\n",
       "10        stays_in_weekend_nights  0.027011  0.003432\n",
       "11        customer_type_Transient  0.024471  0.016735\n",
       "12       market_segment_Online TA  0.018077  0.014705\n",
       "13                         adults  0.016165  0.002382\n",
       "14          market_segment_Groups  0.015885  0.017529\n",
       "15                    country_FRA  0.015185  0.009676\n",
       "16                    country_DEU  0.010747  0.006512\n",
       "17   market_segment_Offline TA/TO  0.010507  0.008689\n",
       "18                        meal_BB  0.008479  0.003810\n",
       "19    required_car_parking_spaces  0.008275  0.002801\n",
       "20                    country_ESP  0.007392  0.004354\n",
       "21           reserved_room_type_A  0.006856  0.002478\n",
       "22        arrival_date_month_July  0.006518  0.001650\n",
       "23      arrival_date_month_August  0.006397  0.001390\n",
       "24                    country_GBR  0.006362  0.002577"
      ]
     },
     "execution_count": 6,
     "metadata": {},
     "output_type": "execute_result"
    }
   ],
   "source": [
    "#Ajustamos el modelo para poder acceder a los valores:\n",
    "model_pipe.fit(X_train,y_train)\n",
    "\n",
    "#Necesitamos los nombres de los atributos codificados. Los obtenemos de One Hot Encoding:\n",
    "onehot_columns = list(model_pipe.named_steps['preprocessor'].\n",
    "                      named_transformers_['cat'].\n",
    "                      named_steps['onehot'].\n",
    "                      get_feature_names(input_features=cat_features))\n",
    "\n",
    "#Añadimos los atributos numéricos para tener la lista de atributos completa\n",
    "feat_imp_list = num_features + onehot_columns\n",
    "\n",
    "#Mostramos el número de atributos más importantes que nos interese:\n",
    "imp_df_raw = eli5.formatters.as_dataframe.explain_weights_df(\n",
    "    model_pipe.named_steps['model'],\n",
    "    feature_names=feat_imp_list)\n",
    "imp_df_raw.head(25)"
   ]
  },
  {
   "cell_type": "markdown",
   "metadata": {},
   "source": [
    "Hemos mostrado el dataframe anterior porque hemos pensado que podría ser interesante ver que categoría de las variables categóricas tenia más peso. No obstante, realmente nos interesa saber el resultado agregado, por lo que lo calcularemos a partir de los datos anteriores:"
   ]
  },
  {
   "cell_type": "code",
   "execution_count": 7,
   "metadata": {},
   "outputs": [
    {
     "data": {
      "text/html": [
       "<div>\n",
       "<style scoped>\n",
       "    .dataframe tbody tr th:only-of-type {\n",
       "        vertical-align: middle;\n",
       "    }\n",
       "\n",
       "    .dataframe tbody tr th {\n",
       "        vertical-align: top;\n",
       "    }\n",
       "\n",
       "    .dataframe thead th {\n",
       "        text-align: right;\n",
       "    }\n",
       "</style>\n",
       "<table border=\"1\" class=\"dataframe\">\n",
       "  <thead>\n",
       "    <tr style=\"text-align: right;\">\n",
       "      <th></th>\n",
       "      <th>feature</th>\n",
       "      <th>weight</th>\n",
       "    </tr>\n",
       "  </thead>\n",
       "  <tbody>\n",
       "    <tr>\n",
       "      <th>0</th>\n",
       "      <td>lead_time</td>\n",
       "      <td>0.126145</td>\n",
       "    </tr>\n",
       "    <tr>\n",
       "      <th>1</th>\n",
       "      <td>adr</td>\n",
       "      <td>0.087257</td>\n",
       "    </tr>\n",
       "    <tr>\n",
       "      <th>2</th>\n",
       "      <td>total_of_special_requests</td>\n",
       "      <td>0.081472</td>\n",
       "    </tr>\n",
       "    <tr>\n",
       "      <th>3</th>\n",
       "      <td>arrival_date_day_of_month</td>\n",
       "      <td>0.060245</td>\n",
       "    </tr>\n",
       "    <tr>\n",
       "      <th>4</th>\n",
       "      <td>agent</td>\n",
       "      <td>0.057444</td>\n",
       "    </tr>\n",
       "    <tr>\n",
       "      <th>5</th>\n",
       "      <td>arrival_date_week_number</td>\n",
       "      <td>0.053319</td>\n",
       "    </tr>\n",
       "    <tr>\n",
       "      <th>6</th>\n",
       "      <td>stays_in_week_nights</td>\n",
       "      <td>0.040921</td>\n",
       "    </tr>\n",
       "    <tr>\n",
       "      <th>7</th>\n",
       "      <td>previous_cancellations</td>\n",
       "      <td>0.036342</td>\n",
       "    </tr>\n",
       "    <tr>\n",
       "      <th>8</th>\n",
       "      <td>stays_in_weekend_nights</td>\n",
       "      <td>0.027011</td>\n",
       "    </tr>\n",
       "    <tr>\n",
       "      <th>9</th>\n",
       "      <td>adults</td>\n",
       "      <td>0.016165</td>\n",
       "    </tr>\n",
       "    <tr>\n",
       "      <th>10</th>\n",
       "      <td>required_car_parking_spaces</td>\n",
       "      <td>0.008275</td>\n",
       "    </tr>\n",
       "    <tr>\n",
       "      <th>11</th>\n",
       "      <td>children</td>\n",
       "      <td>0.006346</td>\n",
       "    </tr>\n",
       "    <tr>\n",
       "      <th>12</th>\n",
       "      <td>previous_bookings_not_canceled</td>\n",
       "      <td>0.001069</td>\n",
       "    </tr>\n",
       "    <tr>\n",
       "      <th>13</th>\n",
       "      <td>is_repeated_guest</td>\n",
       "      <td>0.000831</td>\n",
       "    </tr>\n",
       "    <tr>\n",
       "      <th>14</th>\n",
       "      <td>babies</td>\n",
       "      <td>0.000734</td>\n",
       "    </tr>\n",
       "    <tr>\n",
       "      <th>15</th>\n",
       "      <td>arrival_date_month</td>\n",
       "      <td>0.054880</td>\n",
       "    </tr>\n",
       "    <tr>\n",
       "      <th>16</th>\n",
       "      <td>meal</td>\n",
       "      <td>0.019445</td>\n",
       "    </tr>\n",
       "    <tr>\n",
       "      <th>17</th>\n",
       "      <td>country</td>\n",
       "      <td>0.188926</td>\n",
       "    </tr>\n",
       "    <tr>\n",
       "      <th>18</th>\n",
       "      <td>market_segment</td>\n",
       "      <td>0.048855</td>\n",
       "    </tr>\n",
       "    <tr>\n",
       "      <th>19</th>\n",
       "      <td>distribution_channel</td>\n",
       "      <td>0.009587</td>\n",
       "    </tr>\n",
       "    <tr>\n",
       "      <th>20</th>\n",
       "      <td>reserved_room_type</td>\n",
       "      <td>0.018641</td>\n",
       "    </tr>\n",
       "    <tr>\n",
       "      <th>21</th>\n",
       "      <td>customer_type</td>\n",
       "      <td>0.056091</td>\n",
       "    </tr>\n",
       "  </tbody>\n",
       "</table>\n",
       "</div>"
      ],
      "text/plain": [
       "                           feature    weight\n",
       "0                        lead_time  0.126145\n",
       "1                              adr  0.087257\n",
       "2        total_of_special_requests  0.081472\n",
       "3        arrival_date_day_of_month  0.060245\n",
       "4                            agent  0.057444\n",
       "5         arrival_date_week_number  0.053319\n",
       "6             stays_in_week_nights  0.040921\n",
       "7           previous_cancellations  0.036342\n",
       "8          stays_in_weekend_nights  0.027011\n",
       "9                           adults  0.016165\n",
       "10     required_car_parking_spaces  0.008275\n",
       "11                        children  0.006346\n",
       "12  previous_bookings_not_canceled  0.001069\n",
       "13               is_repeated_guest  0.000831\n",
       "14                          babies  0.000734\n",
       "15              arrival_date_month  0.054880\n",
       "16                            meal  0.019445\n",
       "17                         country  0.188926\n",
       "18                  market_segment  0.048855\n",
       "19            distribution_channel  0.009587\n",
       "20              reserved_room_type  0.018641\n",
       "21                   customer_type  0.056091"
      ]
     },
     "execution_count": 7,
     "metadata": {},
     "output_type": "execute_result"
    }
   ],
   "source": [
    "#Construimos un primer dataframe con las variables numéricas:\n",
    "search_values = num_features\n",
    "imp_df_num = imp_df_raw[imp_df_raw.feature.str.contains('|'.join(search_values ))].copy()\n",
    "imp_df_num.drop(['std'],axis = 1, inplace = True)\n",
    "\n",
    "#Juntamos todas las categorías de las variables categóricas:\n",
    "\n",
    "arrival_date_month = imp_df_raw[imp_df_raw['feature'].str.contains(\"arrival_date_month\")]\n",
    "meal = imp_df_raw[imp_df_raw['feature'].str.contains(\"meal\")]\n",
    "country = imp_df_raw[imp_df_raw['feature'].str.contains(\"country\")]\n",
    "market_segment = imp_df_raw[imp_df_raw['feature'].str.contains(\"market_segment\")]\n",
    "distribution_channel = imp_df_raw[imp_df_raw['feature'].str.contains(\"distribution_channel\")]\n",
    "reserved_room_type = imp_df_raw[imp_df_raw['feature'].str.contains(\"reserved_room_type\")]\n",
    "customer_type = imp_df_raw[imp_df_raw['feature'].str.contains(\"customer\")]\n",
    "\n",
    "#Creamos un array con las sumas:\n",
    "array = np.zeros(shape=(7,1))\n",
    "\n",
    "array[0] = arrival_date_month.weight.sum()\n",
    "array[1] = meal.weight.sum()\n",
    "array[2] = country.weight.sum()\n",
    "array[3] = market_segment.weight.sum()\n",
    "array[4] = distribution_channel.weight.sum()\n",
    "array[5] = reserved_room_type.weight.sum()\n",
    "array[6] = customer_type.weight.sum()\n",
    "\n",
    "#Construimos un diccionario para crear un dataframe con las variables categóricasfácilmente:\n",
    "dict = {'feature': [\n",
    " 'arrival_date_month',\n",
    " 'meal',\n",
    " 'country',\n",
    " 'market_segment',\n",
    " 'distribution_channel',\n",
    " 'reserved_room_type',\n",
    " 'customer_type']\n",
    "                 , 'weight': array[:,0]}\n",
    "\n",
    "imp_dict = pd.DataFrame(dict)\n",
    "\n",
    "#Unimos los dos dataframes:\n",
    "imp_df_final = imp_df_num.append(imp_dict,ignore_index = True)\n",
    "imp_df_final.head(22)"
   ]
  },
  {
   "cell_type": "code",
   "execution_count": 8,
   "metadata": {},
   "outputs": [
    {
     "data": {
      "text/plain": [
       "<matplotlib.axes._subplots.AxesSubplot at 0x1c8743e5dc8>"
      ]
     },
     "execution_count": 8,
     "metadata": {},
     "output_type": "execute_result"
    },
    {
     "data": {
      "image/png": "[encoded data removed]",
      "text/plain": [
       "<Figure size 432x288 with 1 Axes>"
      ]
     },
     "metadata": {
      "needs_background": "light"
     },
     "output_type": "display_data"
    }
   ],
   "source": [
    "imp_df_final.sort_values(by = 'weight', ascending=False).head(22).plot.bar(x = 'feature')"
   ]
  },
  {
   "cell_type": "code",
   "execution_count": null,
   "metadata": {},
   "outputs": [],
   "source": []
  },
  {
   "cell_type": "markdown",
   "metadata": {},
   "source": [
    "Ahora vamos a probar eliminado las 10 variables menos importanes a ver si el modelo se sigue comportando igual."
   ]
  },
  {
   "cell_type": "code",
   "execution_count": 9,
   "metadata": {},
   "outputs": [
    {
     "name": "stdout",
     "output_type": "stream",
     "text": [
      "Random Forest accuracy score: 0.8688 +/- 0.0031 (std) min: 0.8643, max: 0.8732\n",
      "Random Forest balanced accuracy score: 0.8621 +/- 0.0041 (std) min: 0.8554, max: 0.8682\n",
      "Random Forest area under ROC curve score: 0.9441 +/- 0.0034 (std) min: 0.9374, max: 0.9498\n",
      "Random Forest cross validation sensitivity score: 0.8121 +/- 0.0099 (std)\n",
      "Random Forest cross validation specificity score: 0.9121 +/- 0.0047 (std)\n",
      "Random Forest cross validation precision score: 0.8757 +/- 0.0079 (std)\n",
      "Random Forest cross validation NPV score: 0.8642 +/- 0.0062 (std)\n",
      "Random Forest cross validation FNR score: 0.1879 +/- 0.0099 (std)\n",
      "Random Forest cross validation FPR score: 0.0879 +/- 0.0047 (std)\n",
      "Random Forest cross validation F1 score: 0.8426 +/- 0.006 (std)\n",
      "[[2183.  210.]\n",
      " [ 343. 1483.]]\n"
     ]
    }
   ],
   "source": [
    "#Definimos que variables son númericas y cuales son categóricas:\n",
    "num_features = [\"lead_time\",\"arrival_date_week_number\", \"arrival_date_day_of_month\",\"stays_in_week_nights\",\"previous_cancellations\",\"agent\",\"adr\",\"total_of_special_requests\",\n",
    "               ]\n",
    ",\n",
    "cat_features = [\"arrival_date_month\",\"country\",\"market_segment\",\"customer_type\"]\n",
    "\n",
    "\n",
    "features = num_features + cat_features\n",
    "\n",
    "#Definimos nuestros atributos y nuestra variable respuesta:\n",
    "X = df_final.drop([\"is_canceled\"], axis=1)[features]\n",
    "Y = df_final[\"is_canceled\"]\n",
    "\n",
    "X_train, X_test, y_train, y_test = train_test_split(X, Y, test_size=0.2, random_state=1)\n",
    "X_train, X_val, y_train, y_val = train_test_split(X_train, y_train, test_size=0.25, random_state=1) # 0.25 x 0.8 = 0.2\n",
    "\n",
    "#Prepararamos el preprocesado. Escalaremos las variables numéricas y codificaremos las variables categóricas:\n",
    "num_transformer = StandardScaler()\n",
    "cat_transformer = Pipeline(steps=[(\"onehot\", OneHotEncoder(handle_unknown='ignore'))])\n",
    "\n",
    "preprocessor = ColumnTransformer(transformers=[(\"num\", num_transformer, num_features),\n",
    "                                               (\"cat\", cat_transformer, cat_features)])\n",
    "#Definimos el modelo a usar:\n",
    "rf_model = RandomForestClassifier()\n",
    "\n",
    "#Usaremos 10-fold stratified CV. Al usar pipelines nos aseguramos que los datos se transformen en cada iteración.\n",
    "kfold = KFold(n_splits=10, random_state=100, shuffle = True)\n",
    "\n",
    "model_pipe = Pipeline(steps=[('preprocessor', preprocessor),\n",
    "                              ('model', rf_model)])\n",
    "cv_results = cross_validate(model_pipe, \n",
    "                                 X_train, y_train, \n",
    "                                 cv=kfold,\n",
    "                                 scoring={'accuracy': 'accuracy','balanced_accuracy': 'balanced_accuracy','roc_auc': 'roc_auc','tp': make_scorer(tp), 'tn': make_scorer(tn),\n",
    "'fp': make_scorer(fp), 'fn': make_scorer(fn)},\n",
    "                                 n_jobs=-1)\n",
    "#Mostramos los resultados:\n",
    "model_results_rf12 = np.zeros(shape=(1,7))\n",
    "accuracy_array =  cv_results['test_accuracy']\n",
    "balanced_accuracy_array =  cv_results['test_balanced_accuracy']\n",
    "roc_auc_array = cv_results['test_roc_auc']\n",
    "\n",
    "\n",
    "min_score_acc = round(min(accuracy_array), 4)\n",
    "max_score_acc = round(max(accuracy_array), 4)\n",
    "mean_score_acc = round(np.mean(accuracy_array), 4)\n",
    "std_dev_acc = round(np.std(accuracy_array), 4)\n",
    "\n",
    "min_score_bal_acc = round(min(balanced_accuracy_array), 4)\n",
    "max_score_bal_acc = round(max(balanced_accuracy_array), 4)\n",
    "mean_score_bal_acc = round(np.mean(balanced_accuracy_array), 4)\n",
    "std_dev_bal_acc = round(np.std(balanced_accuracy_array), 4)\n",
    "\n",
    "min_score_roc_auc = round(min(roc_auc_array), 4)\n",
    "max_score_roc_auc = round(max(roc_auc_array), 4)\n",
    "mean_score_roc_auc = round(np.mean(roc_auc_array), 4)\n",
    "std_dev_roc_auc = round(np.std(roc_auc_array), 4)\n",
    "\n",
    "sensitivity = np.zeros(shape=(1,10))\n",
    "specificity = np.zeros(shape=(1,10))\n",
    "precision = np.zeros(shape=(1,10))\n",
    "NPV = np.zeros(shape=(1,10))\n",
    "FNR = np.zeros(shape=(1,10))\n",
    "FPR = np.zeros(shape=(1,10))\n",
    "F1 = np.zeros(shape=(1,10))\n",
    "\n",
    "#Construimos la matriz de confusión:\n",
    "cm_rf12 = np.zeros(shape=(2,2))\n",
    "\n",
    "tp_array = cv_results['test_tp']\n",
    "tn_array = cv_results['test_tn']\n",
    "fp_array = cv_results['test_fp']\n",
    "fn_array = cv_results['test_fn']\n",
    "    \n",
    "tn_mean = (tn_array.mean()).astype(np.int64)\n",
    "fp_mean = (fp_array.mean()).astype(np.int64)\n",
    "fn_mean = (fn_array.mean()).astype(np.int64)\n",
    "tp_mean = (tp_array.mean()).astype(np.int64)\n",
    "\n",
    "cm_rf12[0] = [tn_mean, fp_mean]\n",
    "cm_rf12[1] = [fn_mean, tp_mean]\n",
    "\n",
    "j=0\n",
    "while j < 10:\n",
    "    sensitivity[0,j] = tp_array[j]/(tp_array[j]+fn_array[j])\n",
    "    specificity[0,j] = tn_array[j]/(tn_array[j]+fp_array[j])\n",
    "    precision[0,j] = tp_array[j]/(tp_array[j]+fp_array[j])\n",
    "    NPV[0,j] = tn_array[j]/(tn_array[j]+fn_array[j])\n",
    "    FNR[0,j] = 1-tp_array[j]/(tp_array[j]+fn_array[j])\n",
    "    FPR[0,j] = 1-tn_array[j]/(tn_array[j]+fp_array[j])\n",
    "    F1[0,j] = 2*tp_array[j]/(2*tp_array[j]+fp_array[j]+fn_array[j])\n",
    "    j=j+1\n",
    "    \n",
    "        \n",
    "sd_sensitivity = round(np.std(sensitivity), 4)\n",
    "sd_specificity = round(np.std(specificity), 4)\n",
    "sd_precision = round(np.std(precision), 4)\n",
    "sd_NPV = round(np.std(NPV), 4)\n",
    "sd_FNR = round(np.std(FNR), 4)\n",
    "sd_FPR = round(np.std(FPR), 4)\n",
    "sd_F1 = round(np.std(F1), 4)\n",
    "    \n",
    "sensitivity_mean = round(sensitivity.mean(),4)\n",
    "specificity_mean = round(specificity.mean(),4)\n",
    "precision_mean = round(precision.mean(),4)\n",
    "NPV_mean = round(NPV.mean(),4)\n",
    "FNR_mean = round(FNR.mean(),4)\n",
    "FPR_mean = round(FPR.mean(),4)\n",
    "F1_mean = round(F1.mean(),4)\n",
    "\n",
    "\n",
    "model_results_rf12 = np.array([mean_score_acc,mean_score_bal_acc,mean_score_roc_auc,tn_mean,fp_mean,fn_mean,tp_mean])\n",
    "\n",
    "print(f\"Random Forest accuracy score: {mean_score_acc} +/- {std_dev_acc} (std) min: {min_score_acc}, max: {max_score_acc}\")\n",
    "print(f\"Random Forest balanced accuracy score: {mean_score_bal_acc} +/- {std_dev_bal_acc} (std) min: {min_score_bal_acc}, max: {max_score_bal_acc}\")\n",
    "print(f\"Random Forest area under ROC curve score: {mean_score_roc_auc} +/- {std_dev_roc_auc} (std) min: {min_score_roc_auc}, max: {max_score_roc_auc}\")\n",
    "print(f\"Random Forest cross validation sensitivity score: {sensitivity_mean} +/- {sd_sensitivity} (std)\")\n",
    "print(f\"Random Forest cross validation specificity score: {specificity_mean} +/- {sd_specificity} (std)\")\n",
    "print(f\"Random Forest cross validation precision score: {precision_mean} +/- {sd_precision} (std)\")\n",
    "print(f\"Random Forest cross validation NPV score: {NPV_mean} +/- {sd_NPV} (std)\")\n",
    "print(f\"Random Forest cross validation FNR score: {FNR_mean} +/- {sd_FNR} (std)\")\n",
    "print(f\"Random Forest cross validation FPR score: {FPR_mean} +/- {sd_FPR} (std)\")\n",
    "print(f\"Random Forest cross validation F1 score: {F1_mean} +/- {sd_F1} (std)\")\n",
    "print(cm_rf12)"
   ]
  },
  {
   "cell_type": "markdown",
   "metadata": {},
   "source": [
    "A continuación calcularemos la importancia de cada uno de los atributos usados. En el caso de las variables categóricas su importancia se nos dará desglosada en cada uno de sus posibles valores:"
   ]
  },
  {
   "cell_type": "code",
   "execution_count": 10,
   "metadata": {},
   "outputs": [
    {
     "data": {
      "text/html": [
       "<div>\n",
       "<style scoped>\n",
       "    .dataframe tbody tr th:only-of-type {\n",
       "        vertical-align: middle;\n",
       "    }\n",
       "\n",
       "    .dataframe tbody tr th {\n",
       "        vertical-align: top;\n",
       "    }\n",
       "\n",
       "    .dataframe thead th {\n",
       "        text-align: right;\n",
       "    }\n",
       "</style>\n",
       "<table border=\"1\" class=\"dataframe\">\n",
       "  <thead>\n",
       "    <tr style=\"text-align: right;\">\n",
       "      <th></th>\n",
       "      <th>feature</th>\n",
       "      <th>weight</th>\n",
       "      <th>std</th>\n",
       "    </tr>\n",
       "  </thead>\n",
       "  <tbody>\n",
       "    <tr>\n",
       "      <th>0</th>\n",
       "      <td>lead_time</td>\n",
       "      <td>0.154550</td>\n",
       "      <td>0.021716</td>\n",
       "    </tr>\n",
       "    <tr>\n",
       "      <th>1</th>\n",
       "      <td>adr</td>\n",
       "      <td>0.112099</td>\n",
       "      <td>0.010633</td>\n",
       "    </tr>\n",
       "    <tr>\n",
       "      <th>2</th>\n",
       "      <td>country_PRT</td>\n",
       "      <td>0.091661</td>\n",
       "      <td>0.047792</td>\n",
       "    </tr>\n",
       "    <tr>\n",
       "      <th>3</th>\n",
       "      <td>total_of_special_requests</td>\n",
       "      <td>0.089423</td>\n",
       "      <td>0.023950</td>\n",
       "    </tr>\n",
       "    <tr>\n",
       "      <th>4</th>\n",
       "      <td>arrival_date_day_of_month</td>\n",
       "      <td>0.076870</td>\n",
       "      <td>0.004062</td>\n",
       "    </tr>\n",
       "    <tr>\n",
       "      <th>5</th>\n",
       "      <td>agent</td>\n",
       "      <td>0.067889</td>\n",
       "      <td>0.022770</td>\n",
       "    </tr>\n",
       "    <tr>\n",
       "      <th>6</th>\n",
       "      <td>arrival_date_week_number</td>\n",
       "      <td>0.058657</td>\n",
       "      <td>0.005565</td>\n",
       "    </tr>\n",
       "    <tr>\n",
       "      <th>7</th>\n",
       "      <td>stays_in_week_nights</td>\n",
       "      <td>0.049754</td>\n",
       "      <td>0.003627</td>\n",
       "    </tr>\n",
       "    <tr>\n",
       "      <th>8</th>\n",
       "      <td>previous_cancellations</td>\n",
       "      <td>0.037516</td>\n",
       "      <td>0.024179</td>\n",
       "    </tr>\n",
       "    <tr>\n",
       "      <th>9</th>\n",
       "      <td>customer_type_Transient</td>\n",
       "      <td>0.028478</td>\n",
       "      <td>0.020001</td>\n",
       "    </tr>\n",
       "    <tr>\n",
       "      <th>10</th>\n",
       "      <td>customer_type_Transient-Party</td>\n",
       "      <td>0.022643</td>\n",
       "      <td>0.018399</td>\n",
       "    </tr>\n",
       "    <tr>\n",
       "      <th>11</th>\n",
       "      <td>market_segment_Online TA</td>\n",
       "      <td>0.021257</td>\n",
       "      <td>0.019377</td>\n",
       "    </tr>\n",
       "    <tr>\n",
       "      <th>12</th>\n",
       "      <td>market_segment_Groups</td>\n",
       "      <td>0.017586</td>\n",
       "      <td>0.019843</td>\n",
       "    </tr>\n",
       "    <tr>\n",
       "      <th>13</th>\n",
       "      <td>country_FRA</td>\n",
       "      <td>0.014811</td>\n",
       "      <td>0.010394</td>\n",
       "    </tr>\n",
       "    <tr>\n",
       "      <th>14</th>\n",
       "      <td>country_DEU</td>\n",
       "      <td>0.011926</td>\n",
       "      <td>0.008618</td>\n",
       "    </tr>\n",
       "    <tr>\n",
       "      <th>15</th>\n",
       "      <td>market_segment_Offline TA/TO</td>\n",
       "      <td>0.010631</td>\n",
       "      <td>0.007840</td>\n",
       "    </tr>\n",
       "    <tr>\n",
       "      <th>16</th>\n",
       "      <td>market_segment_Direct</td>\n",
       "      <td>0.008957</td>\n",
       "      <td>0.005286</td>\n",
       "    </tr>\n",
       "    <tr>\n",
       "      <th>17</th>\n",
       "      <td>country_ESP</td>\n",
       "      <td>0.006726</td>\n",
       "      <td>0.004378</td>\n",
       "    </tr>\n",
       "    <tr>\n",
       "      <th>18</th>\n",
       "      <td>country_GBR</td>\n",
       "      <td>0.006227</td>\n",
       "      <td>0.003099</td>\n",
       "    </tr>\n",
       "    <tr>\n",
       "      <th>19</th>\n",
       "      <td>arrival_date_month_August</td>\n",
       "      <td>0.005891</td>\n",
       "      <td>0.001682</td>\n",
       "    </tr>\n",
       "    <tr>\n",
       "      <th>20</th>\n",
       "      <td>arrival_date_month_July</td>\n",
       "      <td>0.005701</td>\n",
       "      <td>0.001665</td>\n",
       "    </tr>\n",
       "    <tr>\n",
       "      <th>21</th>\n",
       "      <td>country_ITA</td>\n",
       "      <td>0.004897</td>\n",
       "      <td>0.001830</td>\n",
       "    </tr>\n",
       "    <tr>\n",
       "      <th>22</th>\n",
       "      <td>arrival_date_month_June</td>\n",
       "      <td>0.004605</td>\n",
       "      <td>0.001301</td>\n",
       "    </tr>\n",
       "    <tr>\n",
       "      <th>23</th>\n",
       "      <td>arrival_date_month_April</td>\n",
       "      <td>0.004432</td>\n",
       "      <td>0.001206</td>\n",
       "    </tr>\n",
       "    <tr>\n",
       "      <th>24</th>\n",
       "      <td>arrival_date_month_May</td>\n",
       "      <td>0.004404</td>\n",
       "      <td>0.001171</td>\n",
       "    </tr>\n",
       "  </tbody>\n",
       "</table>\n",
       "</div>"
      ],
      "text/plain": [
       "                          feature    weight       std\n",
       "0                       lead_time  0.154550  0.021716\n",
       "1                             adr  0.112099  0.010633\n",
       "2                     country_PRT  0.091661  0.047792\n",
       "3       total_of_special_requests  0.089423  0.023950\n",
       "4       arrival_date_day_of_month  0.076870  0.004062\n",
       "5                           agent  0.067889  0.022770\n",
       "6        arrival_date_week_number  0.058657  0.005565\n",
       "7            stays_in_week_nights  0.049754  0.003627\n",
       "8          previous_cancellations  0.037516  0.024179\n",
       "9         customer_type_Transient  0.028478  0.020001\n",
       "10  customer_type_Transient-Party  0.022643  0.018399\n",
       "11       market_segment_Online TA  0.021257  0.019377\n",
       "12          market_segment_Groups  0.017586  0.019843\n",
       "13                    country_FRA  0.014811  0.010394\n",
       "14                    country_DEU  0.011926  0.008618\n",
       "15   market_segment_Offline TA/TO  0.010631  0.007840\n",
       "16          market_segment_Direct  0.008957  0.005286\n",
       "17                    country_ESP  0.006726  0.004378\n",
       "18                    country_GBR  0.006227  0.003099\n",
       "19      arrival_date_month_August  0.005891  0.001682\n",
       "20        arrival_date_month_July  0.005701  0.001665\n",
       "21                    country_ITA  0.004897  0.001830\n",
       "22        arrival_date_month_June  0.004605  0.001301\n",
       "23       arrival_date_month_April  0.004432  0.001206\n",
       "24         arrival_date_month_May  0.004404  0.001171"
      ]
     },
     "execution_count": 10,
     "metadata": {},
     "output_type": "execute_result"
    }
   ],
   "source": [
    "#Ajustamos el modelo para poder acceder a los valores:\n",
    "model_pipe.fit(X_train,y_train)\n",
    "\n",
    "#Necesitamos los nombres de los atributos codificados. Los obtenemos de One Hot Encoding:\n",
    "onehot_columns = list(model_pipe.named_steps['preprocessor'].\n",
    "                      named_transformers_['cat'].\n",
    "                      named_steps['onehot'].\n",
    "                      get_feature_names(input_features=cat_features))\n",
    "\n",
    "#Añadimos los atributos numéricos para tener la lista de atributos completa\n",
    "feat_imp_list = num_features + onehot_columns\n",
    "\n",
    "#Mostramos el número de atributos más importantes que nos interese:\n",
    "imp_df_raw = eli5.formatters.as_dataframe.explain_weights_df(\n",
    "    model_pipe.named_steps['model'],\n",
    "    feature_names=feat_imp_list)\n",
    "imp_df_raw.head(25)"
   ]
  },
  {
   "cell_type": "markdown",
   "metadata": {},
   "source": [
    "Hemos mostrado el dataframe anterior porque hemos pensado que podría ser interesante ver que categoría de las variables categóricas tenia más peso. No obstante, realmente nos interesa saber el resultado agregado, por lo que lo calcularemos a partir de los datos anteriores:"
   ]
  },
  {
   "cell_type": "code",
   "execution_count": 11,
   "metadata": {},
   "outputs": [
    {
     "data": {
      "text/html": [
       "<div>\n",
       "<style scoped>\n",
       "    .dataframe tbody tr th:only-of-type {\n",
       "        vertical-align: middle;\n",
       "    }\n",
       "\n",
       "    .dataframe tbody tr th {\n",
       "        vertical-align: top;\n",
       "    }\n",
       "\n",
       "    .dataframe thead th {\n",
       "        text-align: right;\n",
       "    }\n",
       "</style>\n",
       "<table border=\"1\" class=\"dataframe\">\n",
       "  <thead>\n",
       "    <tr style=\"text-align: right;\">\n",
       "      <th></th>\n",
       "      <th>feature</th>\n",
       "      <th>weight</th>\n",
       "    </tr>\n",
       "  </thead>\n",
       "  <tbody>\n",
       "    <tr>\n",
       "      <th>0</th>\n",
       "      <td>lead_time</td>\n",
       "      <td>0.154550</td>\n",
       "    </tr>\n",
       "    <tr>\n",
       "      <th>1</th>\n",
       "      <td>adr</td>\n",
       "      <td>0.112099</td>\n",
       "    </tr>\n",
       "    <tr>\n",
       "      <th>2</th>\n",
       "      <td>total_of_special_requests</td>\n",
       "      <td>0.089423</td>\n",
       "    </tr>\n",
       "    <tr>\n",
       "      <th>3</th>\n",
       "      <td>arrival_date_day_of_month</td>\n",
       "      <td>0.076870</td>\n",
       "    </tr>\n",
       "    <tr>\n",
       "      <th>4</th>\n",
       "      <td>agent</td>\n",
       "      <td>0.067889</td>\n",
       "    </tr>\n",
       "    <tr>\n",
       "      <th>5</th>\n",
       "      <td>arrival_date_week_number</td>\n",
       "      <td>0.058657</td>\n",
       "    </tr>\n",
       "    <tr>\n",
       "      <th>6</th>\n",
       "      <td>stays_in_week_nights</td>\n",
       "      <td>0.049754</td>\n",
       "    </tr>\n",
       "    <tr>\n",
       "      <th>7</th>\n",
       "      <td>previous_cancellations</td>\n",
       "      <td>0.037516</td>\n",
       "    </tr>\n",
       "    <tr>\n",
       "      <th>8</th>\n",
       "      <td>arrival_date_month</td>\n",
       "      <td>0.048279</td>\n",
       "    </tr>\n",
       "    <tr>\n",
       "      <th>9</th>\n",
       "      <td>country</td>\n",
       "      <td>0.191211</td>\n",
       "    </tr>\n",
       "    <tr>\n",
       "      <th>10</th>\n",
       "      <td>market_segment</td>\n",
       "      <td>0.059444</td>\n",
       "    </tr>\n",
       "    <tr>\n",
       "      <th>11</th>\n",
       "      <td>customer_type</td>\n",
       "      <td>0.054310</td>\n",
       "    </tr>\n",
       "  </tbody>\n",
       "</table>\n",
       "</div>"
      ],
      "text/plain": [
       "                      feature    weight\n",
       "0                   lead_time  0.154550\n",
       "1                         adr  0.112099\n",
       "2   total_of_special_requests  0.089423\n",
       "3   arrival_date_day_of_month  0.076870\n",
       "4                       agent  0.067889\n",
       "5    arrival_date_week_number  0.058657\n",
       "6        stays_in_week_nights  0.049754\n",
       "7      previous_cancellations  0.037516\n",
       "8          arrival_date_month  0.048279\n",
       "9                     country  0.191211\n",
       "10             market_segment  0.059444\n",
       "11              customer_type  0.054310"
      ]
     },
     "execution_count": 11,
     "metadata": {},
     "output_type": "execute_result"
    }
   ],
   "source": [
    "#Construimos un primer dataframe con las variables numéricas:\n",
    "search_values = num_features\n",
    "imp_df_num = imp_df_raw[imp_df_raw.feature.str.contains('|'.join(search_values ))].copy()\n",
    "imp_df_num.drop(['std'],axis = 1, inplace = True)\n",
    "\n",
    "#Juntamos todas las categorías de las variables categóricas:\n",
    "\n",
    "\n",
    "\n",
    "arrival_date_month = imp_df_raw[imp_df_raw['feature'].str.contains(\"arrival_date_month\")]\n",
    "\n",
    "country = imp_df_raw[imp_df_raw['feature'].str.contains(\"country\")]\n",
    "market_segment = imp_df_raw[imp_df_raw['feature'].str.contains(\"market_segment\")]\n",
    "\n",
    "\n",
    "customer_type = imp_df_raw[imp_df_raw['feature'].str.contains(\"customer\")]\n",
    "\n",
    "#Creamos un array con las sumas:\n",
    "array = np.zeros(shape=(4,1))\n",
    "\n",
    "array[0] = arrival_date_month.weight.sum()\n",
    "\n",
    "array[1] = country.weight.sum()\n",
    "array[2] = market_segment.weight.sum()\n",
    "\n",
    "\n",
    "array[3] = customer_type.weight.sum()\n",
    "\n",
    "#Construimos un diccionario para crear un dataframe con las variables categóricasfácilmente:\n",
    "dict = {'feature': [\n",
    " 'arrival_date_month',\n",
    "\n",
    " 'country',\n",
    " 'market_segment',\n",
    "\n",
    " 'customer_type']\n",
    "                 , 'weight': array[:,0]}\n",
    "\n",
    "imp_dict = pd.DataFrame(dict)\n",
    "\n",
    "#Unimos los dos dataframes:\n",
    "imp_df_final = imp_df_num.append(imp_dict,ignore_index = True)\n",
    "imp_df_final.head(22)"
   ]
  },
  {
   "cell_type": "code",
   "execution_count": 12,
   "metadata": {},
   "outputs": [
    {
     "data": {
      "text/plain": [
       "<matplotlib.axes._subplots.AxesSubplot at 0x1c874a10dc8>"
      ]
     },
     "execution_count": 12,
     "metadata": {},
     "output_type": "execute_result"
    },
    {
     "data": {
      "image/png": "[encoded data removed]",
      "text/plain": [
       "<Figure size 432x288 with 1 Axes>"
      ]
     },
     "metadata": {
      "needs_background": "light"
     },
     "output_type": "display_data"
    }
   ],
   "source": [
    "imp_df_final.sort_values(by = 'weight', ascending=False).head(22).plot.bar(x = 'feature')"
   ]
  },
  {
   "cell_type": "code",
   "execution_count": null,
   "metadata": {},
   "outputs": [],
   "source": []
  },
  {
   "cell_type": "markdown",
   "metadata": {},
   "source": [
    "Ahora vamos a probar eliminado las mas variables hasta quedarnos con las 4 varibles más importanes"
   ]
  },
  {
   "cell_type": "code",
   "execution_count": 13,
   "metadata": {},
   "outputs": [
    {
     "name": "stdout",
     "output_type": "stream",
     "text": [
      "Random Forest accuracy score: 0.8119 +/- 0.0042 (std) min: 0.8045, max: 0.8213\n",
      "Random Forest balanced accuracy score: 0.8038 +/- 0.0053 (std) min: 0.7942, max: 0.8152\n",
      "Random Forest area under ROC curve score: 0.8922 +/- 0.0047 (std) min: 0.8843, max: 0.9013\n",
      "Random Forest cross validation sensitivity score: 0.743 +/- 0.0116 (std)\n",
      "Random Forest cross validation specificity score: 0.8645 +/- 0.0049 (std)\n",
      "Random Forest cross validation precision score: 0.807 +/- 0.0094 (std)\n",
      "Random Forest cross validation NPV score: 0.8151 +/- 0.0071 (std)\n",
      "Random Forest cross validation FNR score: 0.257 +/- 0.0116 (std)\n",
      "Random Forest cross validation FPR score: 0.1355 +/- 0.0049 (std)\n",
      "Random Forest cross validation F1 score: 0.7736 +/- 0.0081 (std)\n",
      "[[2069.  324.]\n",
      " [ 469. 1357.]]\n"
     ]
    }
   ],
   "source": [
    "#Definimos que variables son númericas y cuales son categóricas:\n",
    "num_features = [\"lead_time\",\"adr\",\"total_of_special_requests\"]\n",
    ",\n",
    "cat_features = [\"country\"]\n",
    "\n",
    "\n",
    "features = num_features + cat_features\n",
    "\n",
    "#Definimos nuestros atributos y nuestra variable respuesta:\n",
    "X = df_final.drop([\"is_canceled\"], axis=1)[features]\n",
    "Y = df_final[\"is_canceled\"]\n",
    "\n",
    "X_train, X_test, y_train, y_test = train_test_split(X, Y, test_size=0.2, random_state=1)\n",
    "X_train, X_val, y_train, y_val = train_test_split(X_train, y_train, test_size=0.25, random_state=1) # 0.25 x 0.8 = 0.2\n",
    "\n",
    "#Prepararamos el preprocesado. Escalaremos las variables numéricas y codificaremos las variables categóricas:\n",
    "num_transformer = StandardScaler()\n",
    "cat_transformer = Pipeline(steps=[(\"onehot\", OneHotEncoder(handle_unknown='ignore'))])\n",
    "\n",
    "preprocessor = ColumnTransformer(transformers=[(\"num\", num_transformer, num_features),\n",
    "                                               (\"cat\", cat_transformer, cat_features)])\n",
    "#Definimos el modelo a usar:\n",
    "rf_model = RandomForestClassifier()\n",
    "\n",
    "#Usaremos 10-fold stratified CV. Al usar pipelines nos aseguramos que los datos se transformen en cada iteración.\n",
    "kfold = KFold(n_splits=10, random_state=100, shuffle = True)\n",
    "\n",
    "model_pipe = Pipeline(steps=[('preprocessor', preprocessor),\n",
    "                              ('model', rf_model)])\n",
    "cv_results = cross_validate(model_pipe, \n",
    "                                 X_train, y_train, \n",
    "                                 cv=kfold,\n",
    "                                 scoring={'accuracy': 'accuracy','balanced_accuracy': 'balanced_accuracy','roc_auc': 'roc_auc','tp': make_scorer(tp), 'tn': make_scorer(tn),\n",
    "'fp': make_scorer(fp), 'fn': make_scorer(fn)},\n",
    "                                 n_jobs=-1)\n",
    "#Mostramos los resultados:\n",
    "model_results_rf4 = np.zeros(shape=(1,7))\n",
    "accuracy_array =  cv_results['test_accuracy']\n",
    "balanced_accuracy_array =  cv_results['test_balanced_accuracy']\n",
    "roc_auc_array = cv_results['test_roc_auc']\n",
    "\n",
    "\n",
    "min_score_acc = round(min(accuracy_array), 4)\n",
    "max_score_acc = round(max(accuracy_array), 4)\n",
    "mean_score_acc = round(np.mean(accuracy_array), 4)\n",
    "std_dev_acc = round(np.std(accuracy_array), 4)\n",
    "\n",
    "min_score_bal_acc = round(min(balanced_accuracy_array), 4)\n",
    "max_score_bal_acc = round(max(balanced_accuracy_array), 4)\n",
    "mean_score_bal_acc = round(np.mean(balanced_accuracy_array), 4)\n",
    "std_dev_bal_acc = round(np.std(balanced_accuracy_array), 4)\n",
    "\n",
    "min_score_roc_auc = round(min(roc_auc_array), 4)\n",
    "max_score_roc_auc = round(max(roc_auc_array), 4)\n",
    "mean_score_roc_auc = round(np.mean(roc_auc_array), 4)\n",
    "std_dev_roc_auc = round(np.std(roc_auc_array), 4)\n",
    "\n",
    "sensitivity = np.zeros(shape=(1,10))\n",
    "specificity = np.zeros(shape=(1,10))\n",
    "precision = np.zeros(shape=(1,10))\n",
    "NPV = np.zeros(shape=(1,10))\n",
    "FNR = np.zeros(shape=(1,10))\n",
    "FPR = np.zeros(shape=(1,10))\n",
    "F1 = np.zeros(shape=(1,10))\n",
    "\n",
    "#Construimos la matriz de confusión:\n",
    "cm_rf4 = np.zeros(shape=(2,2))\n",
    "\n",
    "tp_array = cv_results['test_tp']\n",
    "tn_array = cv_results['test_tn']\n",
    "fp_array = cv_results['test_fp']\n",
    "fn_array = cv_results['test_fn']\n",
    "    \n",
    "tn_mean = (tn_array.mean()).astype(np.int64)\n",
    "fp_mean = (fp_array.mean()).astype(np.int64)\n",
    "fn_mean = (fn_array.mean()).astype(np.int64)\n",
    "tp_mean = (tp_array.mean()).astype(np.int64)\n",
    "\n",
    "cm_rf4[0] = [tn_mean, fp_mean]\n",
    "cm_rf4[1] = [fn_mean, tp_mean]\n",
    "\n",
    "j=0\n",
    "while j < 10:\n",
    "    sensitivity[0,j] = tp_array[j]/(tp_array[j]+fn_array[j])\n",
    "    specificity[0,j] = tn_array[j]/(tn_array[j]+fp_array[j])\n",
    "    precision[0,j] = tp_array[j]/(tp_array[j]+fp_array[j])\n",
    "    NPV[0,j] = tn_array[j]/(tn_array[j]+fn_array[j])\n",
    "    FNR[0,j] = 1-tp_array[j]/(tp_array[j]+fn_array[j])\n",
    "    FPR[0,j] = 1-tn_array[j]/(tn_array[j]+fp_array[j])\n",
    "    F1[0,j] = 2*tp_array[j]/(2*tp_array[j]+fp_array[j]+fn_array[j])\n",
    "    j=j+1\n",
    "    \n",
    "        \n",
    "sd_sensitivity = round(np.std(sensitivity), 4)\n",
    "sd_specificity = round(np.std(specificity), 4)\n",
    "sd_precision = round(np.std(precision), 4)\n",
    "sd_NPV = round(np.std(NPV), 4)\n",
    "sd_FNR = round(np.std(FNR), 4)\n",
    "sd_FPR = round(np.std(FPR), 4)\n",
    "sd_F1 = round(np.std(F1), 4)\n",
    "    \n",
    "sensitivity_mean = round(sensitivity.mean(),4)\n",
    "specificity_mean = round(specificity.mean(),4)\n",
    "precision_mean = round(precision.mean(),4)\n",
    "NPV_mean = round(NPV.mean(),4)\n",
    "FNR_mean = round(FNR.mean(),4)\n",
    "FPR_mean = round(FPR.mean(),4)\n",
    "F1_mean = round(F1.mean(),4)\n",
    "\n",
    "\n",
    "model_results_rf4 = np.array([mean_score_acc,mean_score_bal_acc,mean_score_roc_auc,tn_mean,fp_mean,fn_mean,tp_mean])\n",
    "\n",
    "print(f\"Random Forest accuracy score: {mean_score_acc} +/- {std_dev_acc} (std) min: {min_score_acc}, max: {max_score_acc}\")\n",
    "print(f\"Random Forest balanced accuracy score: {mean_score_bal_acc} +/- {std_dev_bal_acc} (std) min: {min_score_bal_acc}, max: {max_score_bal_acc}\")\n",
    "print(f\"Random Forest area under ROC curve score: {mean_score_roc_auc} +/- {std_dev_roc_auc} (std) min: {min_score_roc_auc}, max: {max_score_roc_auc}\")\n",
    "print(f\"Random Forest cross validation sensitivity score: {sensitivity_mean} +/- {sd_sensitivity} (std)\")\n",
    "print(f\"Random Forest cross validation specificity score: {specificity_mean} +/- {sd_specificity} (std)\")\n",
    "print(f\"Random Forest cross validation precision score: {precision_mean} +/- {sd_precision} (std)\")\n",
    "print(f\"Random Forest cross validation NPV score: {NPV_mean} +/- {sd_NPV} (std)\")\n",
    "print(f\"Random Forest cross validation FNR score: {FNR_mean} +/- {sd_FNR} (std)\")\n",
    "print(f\"Random Forest cross validation FPR score: {FPR_mean} +/- {sd_FPR} (std)\")\n",
    "print(f\"Random Forest cross validation F1 score: {F1_mean} +/- {sd_F1} (std)\")\n",
    "print(cm_rf4)"
   ]
  },
  {
   "cell_type": "markdown",
   "metadata": {},
   "source": [
    "A continuación calcularemos la importancia de cada uno de los atributos usados. En el caso de las variables categóricas su importancia se nos dará desglosada en cada uno de sus posibles valores:"
   ]
  },
  {
   "cell_type": "code",
   "execution_count": 14,
   "metadata": {},
   "outputs": [
    {
     "data": {
      "text/html": [
       "<div>\n",
       "<style scoped>\n",
       "    .dataframe tbody tr th:only-of-type {\n",
       "        vertical-align: middle;\n",
       "    }\n",
       "\n",
       "    .dataframe tbody tr th {\n",
       "        vertical-align: top;\n",
       "    }\n",
       "\n",
       "    .dataframe thead th {\n",
       "        text-align: right;\n",
       "    }\n",
       "</style>\n",
       "<table border=\"1\" class=\"dataframe\">\n",
       "  <thead>\n",
       "    <tr style=\"text-align: right;\">\n",
       "      <th></th>\n",
       "      <th>feature</th>\n",
       "      <th>weight</th>\n",
       "      <th>std</th>\n",
       "    </tr>\n",
       "  </thead>\n",
       "  <tbody>\n",
       "    <tr>\n",
       "      <th>0</th>\n",
       "      <td>lead_time</td>\n",
       "      <td>0.365405</td>\n",
       "      <td>0.016366</td>\n",
       "    </tr>\n",
       "    <tr>\n",
       "      <th>1</th>\n",
       "      <td>adr</td>\n",
       "      <td>0.338434</td>\n",
       "      <td>0.012471</td>\n",
       "    </tr>\n",
       "    <tr>\n",
       "      <th>2</th>\n",
       "      <td>country_PRT</td>\n",
       "      <td>0.095617</td>\n",
       "      <td>0.046261</td>\n",
       "    </tr>\n",
       "    <tr>\n",
       "      <th>3</th>\n",
       "      <td>total_of_special_requests</td>\n",
       "      <td>0.095512</td>\n",
       "      <td>0.028882</td>\n",
       "    </tr>\n",
       "    <tr>\n",
       "      <th>4</th>\n",
       "      <td>country_DEU</td>\n",
       "      <td>0.016561</td>\n",
       "      <td>0.010763</td>\n",
       "    </tr>\n",
       "    <tr>\n",
       "      <th>5</th>\n",
       "      <td>country_FRA</td>\n",
       "      <td>0.015783</td>\n",
       "      <td>0.012574</td>\n",
       "    </tr>\n",
       "    <tr>\n",
       "      <th>6</th>\n",
       "      <td>country_ESP</td>\n",
       "      <td>0.004783</td>\n",
       "      <td>0.004363</td>\n",
       "    </tr>\n",
       "    <tr>\n",
       "      <th>7</th>\n",
       "      <td>country_GBR</td>\n",
       "      <td>0.004232</td>\n",
       "      <td>0.003012</td>\n",
       "    </tr>\n",
       "    <tr>\n",
       "      <th>8</th>\n",
       "      <td>country_AGO</td>\n",
       "      <td>0.003325</td>\n",
       "      <td>0.001043</td>\n",
       "    </tr>\n",
       "    <tr>\n",
       "      <th>9</th>\n",
       "      <td>country_CHN</td>\n",
       "      <td>0.003255</td>\n",
       "      <td>0.001356</td>\n",
       "    </tr>\n",
       "    <tr>\n",
       "      <th>10</th>\n",
       "      <td>country_AUT</td>\n",
       "      <td>0.002989</td>\n",
       "      <td>0.001615</td>\n",
       "    </tr>\n",
       "    <tr>\n",
       "      <th>11</th>\n",
       "      <td>country_BRA</td>\n",
       "      <td>0.002832</td>\n",
       "      <td>0.001183</td>\n",
       "    </tr>\n",
       "    <tr>\n",
       "      <th>12</th>\n",
       "      <td>country_ITA</td>\n",
       "      <td>0.002695</td>\n",
       "      <td>0.001135</td>\n",
       "    </tr>\n",
       "    <tr>\n",
       "      <th>13</th>\n",
       "      <td>country_NLD</td>\n",
       "      <td>0.002646</td>\n",
       "      <td>0.001614</td>\n",
       "    </tr>\n",
       "    <tr>\n",
       "      <th>14</th>\n",
       "      <td>country_BEL</td>\n",
       "      <td>0.002562</td>\n",
       "      <td>0.001530</td>\n",
       "    </tr>\n",
       "    <tr>\n",
       "      <th>15</th>\n",
       "      <td>country_CHE</td>\n",
       "      <td>0.002154</td>\n",
       "      <td>0.001026</td>\n",
       "    </tr>\n",
       "    <tr>\n",
       "      <th>16</th>\n",
       "      <td>country_USA</td>\n",
       "      <td>0.002113</td>\n",
       "      <td>0.001043</td>\n",
       "    </tr>\n",
       "    <tr>\n",
       "      <th>17</th>\n",
       "      <td>country_SWE</td>\n",
       "      <td>0.001738</td>\n",
       "      <td>0.000794</td>\n",
       "    </tr>\n",
       "    <tr>\n",
       "      <th>18</th>\n",
       "      <td>country_IRL</td>\n",
       "      <td>0.001625</td>\n",
       "      <td>0.000639</td>\n",
       "    </tr>\n",
       "    <tr>\n",
       "      <th>19</th>\n",
       "      <td>country_CN</td>\n",
       "      <td>0.001341</td>\n",
       "      <td>0.000504</td>\n",
       "    </tr>\n",
       "    <tr>\n",
       "      <th>20</th>\n",
       "      <td>country_ISR</td>\n",
       "      <td>0.001327</td>\n",
       "      <td>0.000578</td>\n",
       "    </tr>\n",
       "    <tr>\n",
       "      <th>21</th>\n",
       "      <td>country_RUS</td>\n",
       "      <td>0.001170</td>\n",
       "      <td>0.000392</td>\n",
       "    </tr>\n",
       "    <tr>\n",
       "      <th>22</th>\n",
       "      <td>country_POL</td>\n",
       "      <td>0.001155</td>\n",
       "      <td>0.000391</td>\n",
       "    </tr>\n",
       "    <tr>\n",
       "      <th>23</th>\n",
       "      <td>country_AUS</td>\n",
       "      <td>0.001103</td>\n",
       "      <td>0.000468</td>\n",
       "    </tr>\n",
       "    <tr>\n",
       "      <th>24</th>\n",
       "      <td>country_NOR</td>\n",
       "      <td>0.001041</td>\n",
       "      <td>0.000404</td>\n",
       "    </tr>\n",
       "  </tbody>\n",
       "</table>\n",
       "</div>"
      ],
      "text/plain": [
       "                      feature    weight       std\n",
       "0                   lead_time  0.365405  0.016366\n",
       "1                         adr  0.338434  0.012471\n",
       "2                 country_PRT  0.095617  0.046261\n",
       "3   total_of_special_requests  0.095512  0.028882\n",
       "4                 country_DEU  0.016561  0.010763\n",
       "5                 country_FRA  0.015783  0.012574\n",
       "6                 country_ESP  0.004783  0.004363\n",
       "7                 country_GBR  0.004232  0.003012\n",
       "8                 country_AGO  0.003325  0.001043\n",
       "9                 country_CHN  0.003255  0.001356\n",
       "10                country_AUT  0.002989  0.001615\n",
       "11                country_BRA  0.002832  0.001183\n",
       "12                country_ITA  0.002695  0.001135\n",
       "13                country_NLD  0.002646  0.001614\n",
       "14                country_BEL  0.002562  0.001530\n",
       "15                country_CHE  0.002154  0.001026\n",
       "16                country_USA  0.002113  0.001043\n",
       "17                country_SWE  0.001738  0.000794\n",
       "18                country_IRL  0.001625  0.000639\n",
       "19                 country_CN  0.001341  0.000504\n",
       "20                country_ISR  0.001327  0.000578\n",
       "21                country_RUS  0.001170  0.000392\n",
       "22                country_POL  0.001155  0.000391\n",
       "23                country_AUS  0.001103  0.000468\n",
       "24                country_NOR  0.001041  0.000404"
      ]
     },
     "execution_count": 14,
     "metadata": {},
     "output_type": "execute_result"
    }
   ],
   "source": [
    "#Ajustamos el modelo para poder acceder a los valores:\n",
    "model_pipe.fit(X_train,y_train)\n",
    "\n",
    "#Necesitamos los nombres de los atributos codificados. Los obtenemos de One Hot Encoding:\n",
    "onehot_columns = list(model_pipe.named_steps['preprocessor'].\n",
    "                      named_transformers_['cat'].\n",
    "                      named_steps['onehot'].\n",
    "                      get_feature_names(input_features=cat_features))\n",
    "\n",
    "#Añadimos los atributos numéricos para tener la lista de atributos completa\n",
    "feat_imp_list = num_features + onehot_columns\n",
    "\n",
    "#Mostramos el número de atributos más importantes que nos interese:\n",
    "imp_df_raw = eli5.formatters.as_dataframe.explain_weights_df(\n",
    "    model_pipe.named_steps['model'],\n",
    "    feature_names=feat_imp_list)\n",
    "imp_df_raw.head(25)"
   ]
  },
  {
   "cell_type": "markdown",
   "metadata": {},
   "source": [
    "Hemos mostrado el dataframe anterior porque hemos pensado que podría ser interesante ver que categoría de las variables categóricas tenia más peso. No obstante, realmente nos interesa saber el resultado agregado, por lo que lo calcularemos a partir de los datos anteriores:"
   ]
  },
  {
   "cell_type": "code",
   "execution_count": 15,
   "metadata": {},
   "outputs": [
    {
     "data": {
      "text/html": [
       "<div>\n",
       "<style scoped>\n",
       "    .dataframe tbody tr th:only-of-type {\n",
       "        vertical-align: middle;\n",
       "    }\n",
       "\n",
       "    .dataframe tbody tr th {\n",
       "        vertical-align: top;\n",
       "    }\n",
       "\n",
       "    .dataframe thead th {\n",
       "        text-align: right;\n",
       "    }\n",
       "</style>\n",
       "<table border=\"1\" class=\"dataframe\">\n",
       "  <thead>\n",
       "    <tr style=\"text-align: right;\">\n",
       "      <th></th>\n",
       "      <th>feature</th>\n",
       "      <th>weight</th>\n",
       "    </tr>\n",
       "  </thead>\n",
       "  <tbody>\n",
       "    <tr>\n",
       "      <th>0</th>\n",
       "      <td>lead_time</td>\n",
       "      <td>0.365405</td>\n",
       "    </tr>\n",
       "    <tr>\n",
       "      <th>1</th>\n",
       "      <td>adr</td>\n",
       "      <td>0.338434</td>\n",
       "    </tr>\n",
       "    <tr>\n",
       "      <th>2</th>\n",
       "      <td>total_of_special_requests</td>\n",
       "      <td>0.095512</td>\n",
       "    </tr>\n",
       "    <tr>\n",
       "      <th>3</th>\n",
       "      <td>country</td>\n",
       "      <td>0.200649</td>\n",
       "    </tr>\n",
       "  </tbody>\n",
       "</table>\n",
       "</div>"
      ],
      "text/plain": [
       "                     feature    weight\n",
       "0                  lead_time  0.365405\n",
       "1                        adr  0.338434\n",
       "2  total_of_special_requests  0.095512\n",
       "3                    country  0.200649"
      ]
     },
     "execution_count": 15,
     "metadata": {},
     "output_type": "execute_result"
    }
   ],
   "source": [
    "#Construimos un primer dataframe con las variables numéricas:\n",
    "search_values = num_features\n",
    "imp_df_num = imp_df_raw[imp_df_raw.feature.str.contains('|'.join(search_values ))].copy()\n",
    "imp_df_num.drop(['std'],axis = 1, inplace = True)\n",
    "\n",
    "#Juntamos todas las categorías de las variables categóricas:\n",
    "\n",
    "\n",
    "\n",
    "\n",
    "\n",
    "country = imp_df_raw[imp_df_raw['feature'].str.contains(\"country\")]\n",
    "\n",
    "\n",
    "#Creamos un array con las sumas:\n",
    "array = np.zeros(shape=(1,1))\n",
    "\n",
    "\n",
    "array[0] = country.weight.sum()\n",
    "\n",
    "\n",
    "#Construimos un diccionario para crear un dataframe con las variables categóricasfácilmente:\n",
    "dict = {'feature': [ 'country']\n",
    "                 , 'weight': array[:,0]}\n",
    "\n",
    "imp_dict = pd.DataFrame(dict)\n",
    "\n",
    "#Unimos los dos dataframes:\n",
    "imp_df_final = imp_df_num.append(imp_dict,ignore_index = True)\n",
    "imp_df_final.head(22)"
   ]
  },
  {
   "cell_type": "code",
   "execution_count": 16,
   "metadata": {},
   "outputs": [
    {
     "data": {
      "text/plain": [
       "<matplotlib.axes._subplots.AxesSubplot at 0x1c874642d08>"
      ]
     },
     "execution_count": 16,
     "metadata": {},
     "output_type": "execute_result"
    },
    {
     "data": {
      "image/png": "[encoded data removed]",
      "text/plain": [
       "<Figure size 432x288 with 1 Axes>"
      ]
     },
     "metadata": {
      "needs_background": "light"
     },
     "output_type": "display_data"
    }
   ],
   "source": [
    "imp_df_final.sort_values(by = 'weight', ascending=False).head(22).plot.bar(x = 'feature')"
   ]
  },
  {
   "cell_type": "code",
   "execution_count": null,
   "metadata": {},
   "outputs": [],
   "source": []
  },
  {
   "cell_type": "code",
   "execution_count": 17,
   "metadata": {},
   "outputs": [
    {
     "data": {
      "text/html": [
       "<div>\n",
       "<style scoped>\n",
       "    .dataframe tbody tr th:only-of-type {\n",
       "        vertical-align: middle;\n",
       "    }\n",
       "\n",
       "    .dataframe tbody tr th {\n",
       "        vertical-align: top;\n",
       "    }\n",
       "\n",
       "    .dataframe thead th {\n",
       "        text-align: right;\n",
       "    }\n",
       "</style>\n",
       "<table border=\"1\" class=\"dataframe\">\n",
       "  <thead>\n",
       "    <tr style=\"text-align: right;\">\n",
       "      <th></th>\n",
       "      <th>Model</th>\n",
       "      <th>Accuracy</th>\n",
       "      <th>Balanced accuracy</th>\n",
       "      <th>ROC AUC</th>\n",
       "      <th>TN</th>\n",
       "      <th>FP</th>\n",
       "      <th>FN</th>\n",
       "      <th>TP</th>\n",
       "    </tr>\n",
       "  </thead>\n",
       "  <tbody>\n",
       "    <tr>\n",
       "      <th>0</th>\n",
       "      <td>RF 22 var</td>\n",
       "      <td>0.8719</td>\n",
       "      <td>0.8646</td>\n",
       "      <td>0.9466</td>\n",
       "      <td>2198.0</td>\n",
       "      <td>195.0</td>\n",
       "      <td>345.0</td>\n",
       "      <td>1481.0</td>\n",
       "    </tr>\n",
       "    <tr>\n",
       "      <th>1</th>\n",
       "      <td>RF 12 var</td>\n",
       "      <td>0.8688</td>\n",
       "      <td>0.8621</td>\n",
       "      <td>0.9441</td>\n",
       "      <td>2183.0</td>\n",
       "      <td>210.0</td>\n",
       "      <td>343.0</td>\n",
       "      <td>1483.0</td>\n",
       "    </tr>\n",
       "    <tr>\n",
       "      <th>2</th>\n",
       "      <td>RF 4 var</td>\n",
       "      <td>0.8119</td>\n",
       "      <td>0.8038</td>\n",
       "      <td>0.8922</td>\n",
       "      <td>2069.0</td>\n",
       "      <td>324.0</td>\n",
       "      <td>469.0</td>\n",
       "      <td>1357.0</td>\n",
       "    </tr>\n",
       "  </tbody>\n",
       "</table>\n",
       "</div>"
      ],
      "text/plain": [
       "       Model  Accuracy  Balanced accuracy  ROC AUC      TN     FP     FN  \\\n",
       "0  RF 22 var    0.8719             0.8646   0.9466  2198.0  195.0  345.0   \n",
       "1  RF 12 var    0.8688             0.8621   0.9441  2183.0  210.0  343.0   \n",
       "2   RF 4 var    0.8119             0.8038   0.8922  2069.0  324.0  469.0   \n",
       "\n",
       "       TP  \n",
       "0  1481.0  \n",
       "1  1483.0  \n",
       "2  1357.0  "
      ]
     },
     "execution_count": 17,
     "metadata": {},
     "output_type": "execute_result"
    }
   ],
   "source": [
    "#Juntamos los resultados obtenidos con cada modelo:\n",
    "rf_parameters = np.zeros(shape=(3,7))\n",
    "rf_parameters[0] = model_results_rf22\n",
    "rf_parameters[1] = model_results_rf12\n",
    "rf_parameters[2] = model_results_rf4\n",
    "\n",
    "#Creamos un diccionario para pasar los resultados a un dataframe:\n",
    "rf_parameters_dict = {'Model': ['RF 22 var', 'RF 12 var', 'RF 4 var']\n",
    "                 , 'Accuracy': rf_parameters[:,0],'Balanced accuracy': rf_parameters[:,1],'ROC AUC': rf_parameters[:,2],'TN': rf_parameters[:,3],'FP': rf_parameters[:,4],'FN': rf_parameters[:,5],'TP': rf_parameters[:,6]}\n",
    "\n",
    "rf_parameters_df = pd.DataFrame.from_dict(rf_parameters_dict)\n",
    "rf_parameters_df"
   ]
  },
  {
   "cell_type": "code",
   "execution_count": 19,
   "metadata": {},
   "outputs": [
    {
     "data": {
      "text/plain": [
       "Text(0.5, 1.0, 'Area under ROC curve VS # of variables')"
      ]
     },
     "execution_count": 19,
     "metadata": {},
     "output_type": "execute_result"
    },
    {
     "data": {
      "image/png": "[encoded data removed]",
      "text/plain": [
       "<Figure size 1152x432 with 2 Axes>"
      ]
     },
     "metadata": {
      "needs_background": "light"
     },
     "output_type": "display_data"
    }
   ],
   "source": [
    "fig, (ax1, ax2) = plt.subplots(nrows=1, ncols=2,figsize=(16,6))\n",
    "a = rf_parameters_df.plot(kind='line',x='Model',y='Accuracy',ax=ax1, rot = 90, color = 'blue',linestyle ='--', marker='D')\n",
    "rf_parameters_df.plot(kind='line',x='Model',y='Balanced accuracy', color='green', ax=ax1, rot = 90,linestyle ='--', marker='D')\n",
    "a.set_title('Accuracy VS # of variables', fontsize = 16)\n",
    "a.set_xlabel('Model', fontsize = 14)\n",
    "a.set_ylabel('Accuracy', fontsize = 14)\n",
    "\n",
    "b = rf_parameters_df.plot(kind='line',x='Model',y='ROC AUC', rot = 90, color = 'DarkGreen',linestyle ='--', marker='D',ax=ax2)\n",
    "b.set_xlabel('Model', fontsize = 14)\n",
    "b.set_ylabel('AUC', fontsize = 14)\n",
    "plt.title('Area under ROC curve VS # of variables', fontsize = 16)"
   ]
  },
  {
   "cell_type": "markdown",
   "metadata": {},
   "source": [
    "Nos quedamos con el modelo de 12 variables"
   ]
  },
  {
   "cell_type": "code",
   "execution_count": null,
   "metadata": {},
   "outputs": [],
   "source": []
  },
  {
   "cell_type": "markdown",
   "metadata": {},
   "source": [
    "### 8.3 Ajustar hiperparametros"
   ]
  },
  {
   "cell_type": "code",
   "execution_count": 20,
   "metadata": {},
   "outputs": [],
   "source": [
    "#Nos hemos quedado con el modelo de 12 variables\n",
    "num_features = [\"lead_time\",\"arrival_date_week_number\", \"arrival_date_day_of_month\",\"stays_in_week_nights\",\"previous_cancellations\",\"agent\",\"adr\",\"total_of_special_requests\"]\n",
    "\n",
    "cat_features = [\"arrival_date_month\",\"country\",\"market_segment\",\"customer_type\"]\n",
    "\n",
    "\n",
    "features = num_features + cat_features\n",
    "\n",
    "#Definimos nuestros atributos y nuestra variable respuesta:\n",
    "X = df_final.drop([\"is_canceled\"], axis=1)[features]\n",
    "Y = df_final[\"is_canceled\"]\n",
    "\n",
    "\n",
    "#Codificamos las variables categóricas:\n",
    "ct = make_column_transformer(\n",
    "    (OneHotEncoder(),cat_features), remainder = 'passthrough')\n",
    "\n",
    "#Convertimos X en un array:\n",
    "X = ct.fit_transform(X).toarray()\n",
    "\n",
    "X_train, X_test, y_train, y_test = train_test_split(X, Y, test_size=0.2, random_state=1)\n",
    "\n",
    "X_train, X_val, y_train, y_val = train_test_split(X_train, y_train, test_size=0.25, random_state=1) # 0.25 x 0.8 = 0.2"
   ]
  },
  {
   "cell_type": "code",
   "execution_count": 21,
   "metadata": {},
   "outputs": [
    {
     "data": {
      "text/plain": [
       "(42209, 196)"
      ]
     },
     "execution_count": 21,
     "metadata": {},
     "output_type": "execute_result"
    }
   ],
   "source": [
    "X_train.shape"
   ]
  },
  {
   "cell_type": "code",
   "execution_count": null,
   "metadata": {},
   "outputs": [],
   "source": []
  },
  {
   "cell_type": "markdown",
   "metadata": {},
   "source": [
    "#### 8.3.1 n_estimators"
   ]
  },
  {
   "cell_type": "code",
   "execution_count": 22,
   "metadata": {},
   "outputs": [
    {
     "data": {
      "image/png": "[encoded data removed]",
      "text/plain": [
       "<Figure size 432x288 with 1 Axes>"
      ]
     },
     "metadata": {
      "needs_background": "light"
     },
     "output_type": "display_data"
    }
   ],
   "source": [
    "estimadores = [5,10,20,50,75,100,150,200]\n",
    "train_results = []\n",
    "test_results = []\n",
    "for estimador in estimadores:\n",
    "    dt = RandomForestClassifier(n_estimators=estimador)\n",
    "    dt.fit(X_train, y_train)\n",
    "    score=dt.score(X_train, y_train)\n",
    "    # Add auc score to previous train results\n",
    "    train_results.append(score)\n",
    "    scoret = dt.score(X_val, y_val)\n",
    "    # Add auc score to previous test results\n",
    "    test_results.append(scoret)\n",
    "from matplotlib.legend_handler import HandlerLine2D\n",
    "line1, = plt.plot(estimadores, train_results, \"b\", label=\"Train Accuracy\")\n",
    "line2, = plt.plot(estimadores, test_results, \"r\", label=\"Val Accuracy\")\n",
    "plt.legend(handler_map={line1: HandlerLine2D(numpoints=2)})\n",
    "plt.ylabel(\"Accuracy score\")\n",
    "plt.xlabel(\"n_estimators\")\n",
    "plt.show()"
   ]
  },
  {
   "cell_type": "code",
   "execution_count": 23,
   "metadata": {},
   "outputs": [
    {
     "name": "stdout",
     "output_type": "stream",
     "text": [
      "iteracion 5 realizada\n",
      "iteracion 10 realizada\n",
      "iteracion 20 realizada\n",
      "iteracion 50 realizada\n",
      "iteracion 75 realizada\n"
     ]
    },
    {
     "data": {
      "image/png": "[encoded data removed]",
      "text/plain": [
       "<Figure size 432x288 with 1 Axes>"
      ]
     },
     "metadata": {
      "needs_background": "light"
     },
     "output_type": "display_data"
    }
   ],
   "source": [
    "estimadores = [5,10,20,50,75]\n",
    "train_results = []\n",
    "test_results = []\n",
    "for estimador in estimadores:\n",
    "    dt = RandomForestClassifier(n_estimators=estimador)\n",
    "    dt.fit(X_train, y_train)\n",
    "    train_pred = dt.predict(X_train)\n",
    "    false_positive_rate, true_positive_rate, thresholds = roc_curve(y_train, train_pred)\n",
    "    roc_auc = auc(false_positive_rate, true_positive_rate)\n",
    "    # Add auc score to previous train results\n",
    "    train_results.append(roc_auc)\n",
    "    y_pred = dt.predict(X_val)\n",
    "    false_positive_rate, true_positive_rate, thresholds = roc_curve(y_val, y_pred)\n",
    "    roc_auc = auc(false_positive_rate, true_positive_rate)\n",
    "    # Add auc score to previous test results\n",
    "    test_results.append(roc_auc)\n",
    "    print(\"iteracion\", estimador, \"realizada\")\n",
    "from matplotlib.legend_handler import HandlerLine2D\n",
    "line1, = plt.plot(estimadores, train_results, \"b\", label=\"Train AUC\")\n",
    "line2, = plt.plot(estimadores, test_results, \"r\", label=\"Val AUC\")\n",
    "plt.legend(handler_map={line1: HandlerLine2D(numpoints=2)})\n",
    "plt.ylabel(\"AUC score\")\n",
    "plt.xlabel(\"n_estimators\")\n",
    "plt.show()"
   ]
  },
  {
   "cell_type": "markdown",
   "metadata": {},
   "source": [
    "Nos quedamos con el valor el valor n_estimadors=100."
   ]
  },
  {
   "cell_type": "code",
   "execution_count": 24,
   "metadata": {},
   "outputs": [],
   "source": [
    "grid_param = {\n",
    "    'n_estimators': [5,10,20,50,75,100,150,200]}"
   ]
  },
  {
   "cell_type": "code",
   "execution_count": 28,
   "metadata": {},
   "outputs": [],
   "source": [
    "gd_sr = sklearn.model_selection.GridSearchCV(estimator=RandomForestClassifier(),\n",
    "                     param_grid=grid_param,\n",
    "                     scoring='accuracy',\n",
    "                     cv=2,\n",
    "                     n_jobs=-1)"
   ]
  },
  {
   "cell_type": "code",
   "execution_count": 29,
   "metadata": {},
   "outputs": [
    {
     "data": {
      "text/plain": [
       "GridSearchCV(cv=2, error_score=nan,\n",
       "             estimator=RandomForestClassifier(bootstrap=True, ccp_alpha=0.0,\n",
       "                                              class_weight=None,\n",
       "                                              criterion='gini', max_depth=None,\n",
       "                                              max_features='auto',\n",
       "                                              max_leaf_nodes=None,\n",
       "                                              max_samples=None,\n",
       "                                              min_impurity_decrease=0.0,\n",
       "                                              min_impurity_split=None,\n",
       "                                              min_samples_leaf=1,\n",
       "                                              min_samples_split=2,\n",
       "                                              min_weight_fraction_leaf=0.0,\n",
       "                                              n_estimators=100, n_jobs=None,\n",
       "                                              oob_score=False,\n",
       "                                              random_state=None, verbose=0,\n",
       "                                              warm_start=False),\n",
       "             iid='deprecated', n_jobs=-1,\n",
       "             param_grid={'n_estimators': [5, 10, 20, 50, 75, 100, 150, 200]},\n",
       "             pre_dispatch='2*n_jobs', refit=True, return_train_score=False,\n",
       "             scoring='accuracy', verbose=0)"
      ]
     },
     "execution_count": 29,
     "metadata": {},
     "output_type": "execute_result"
    }
   ],
   "source": [
    "gd_sr.fit(X_train, y_train)"
   ]
  },
  {
   "cell_type": "code",
   "execution_count": 30,
   "metadata": {},
   "outputs": [
    {
     "name": "stdout",
     "output_type": "stream",
     "text": [
      "{'n_estimators': 200}\n"
     ]
    }
   ],
   "source": [
    "best_parameters = gd_sr.best_params_\n",
    "print(best_parameters)"
   ]
  },
  {
   "cell_type": "markdown",
   "metadata": {},
   "source": [
    "Nos da como mejor n_estimators 200, pero la diferencia con el valor 100 es infimo y el coste computacional es mucho menor."
   ]
  },
  {
   "cell_type": "markdown",
   "metadata": {},
   "source": [
    "#### 8.3.2 Max_depth"
   ]
  },
  {
   "cell_type": "code",
   "execution_count": 32,
   "metadata": {},
   "outputs": [
    {
     "data": {
      "image/png": "[encoded data removed]",
      "text/plain": [
       "<Figure size 432x288 with 1 Axes>"
      ]
     },
     "metadata": {
      "needs_background": "light"
     },
     "output_type": "display_data"
    }
   ],
   "source": [
    "max_depths = np.linspace(1, 100, 32, endpoint=True)\n",
    "train_results = []\n",
    "test_results = []\n",
    "for max_depth in max_depths:\n",
    "    dt = RandomForestClassifier max_depth=max_depth)\n",
    "    dt.fit(X_train, y_train)\n",
    "    score=dt.score(X_train, y_train)\n",
    "    # Add auc score to previous train results\n",
    "    train_results.append(score)\n",
    "    scoret = dt.score(X_val, y_val)\n",
    "    # Add auc score to previous test results\n",
    "    test_results.append(scoret)\n",
    "from matplotlib.legend_handler import HandlerLine2D\n",
    "line1, = plt.plot(max_depths, train_results, \"b\", label=\"Train Accuracy\")\n",
    "line2, = plt.plot(max_depths, test_results, \"r\", label=\"Val Accuracy\")\n",
    "plt.legend(handler_map={line1: HandlerLine2D(numpoints=2)})\n",
    "plt.ylabel(\"Accuracy score\")\n",
    "plt.xlabel(\"Tree depth\")\n",
    "plt.show()"
   ]
  },
  {
   "cell_type": "code",
   "execution_count": 36,
   "metadata": {},
   "outputs": [
    {
     "data": {
      "image/png": "[encoded data removed]",
      "text/plain": [
       "<Figure size 432x288 with 1 Axes>"
      ]
     },
     "metadata": {
      "needs_background": "light"
     },
     "output_type": "display_data"
    }
   ],
   "source": [
    "max_depths = np.linspace(1, 100, 32, endpoint=True)\n",
    "train_results = []\n",
    "test_results = []\n",
    "for max_depth in max_depths:\n",
    "    dt = RandomForestClassifier(max_depth=max_depth)\n",
    "    dt.fit(X_train, y_train)\n",
    "    train_pred = dt.predict(X_train)\n",
    "    false_positive_rate, true_positive_rate, thresholds = roc_curve(y_train, train_pred)\n",
    "    roc_auc = auc(false_positive_rate, true_positive_rate)\n",
    "    # Add auc score to previous train results\n",
    "    train_results.append(roc_auc)\n",
    "    y_pred = dt.predict(X_val)\n",
    "    false_positive_rate, true_positive_rate, thresholds = roc_curve(y_val, y_pred)\n",
    "    roc_auc = auc(false_positive_rate, true_positive_rate)\n",
    "    # Add auc score to previous test results\n",
    "    test_results.append(roc_auc)\n",
    "from matplotlib.legend_handler import HandlerLine2D\n",
    "line1, = plt.plot(max_depths, train_results, \"b\", label=\"Train AUC\")\n",
    "line2, = plt.plot(max_depths, test_results, \"r\", label=\"Val AUC\")\n",
    "plt.legend(handler_map={line1: HandlerLine2D(numpoints=2)})\n",
    "plt.ylabel(\"AUC score\")\n",
    "plt.xlabel(\"Tree depth\")\n",
    "plt.show()"
   ]
  },
  {
   "cell_type": "code",
   "execution_count": null,
   "metadata": {},
   "outputs": [],
   "source": []
  },
  {
   "cell_type": "code",
   "execution_count": 35,
   "metadata": {},
   "outputs": [
    {
     "name": "stdout",
     "output_type": "stream",
     "text": [
      "{'max_depth': 200}\n"
     ]
    }
   ],
   "source": [
    "grid_param = {\n",
    "    'max_depth': [5,10,20,50,75,100,150,200]}\n",
    "gd_sr = sklearn.model_selection.GridSearchCV(estimator=RandomForestClassifier(),\n",
    "                     param_grid=grid_param,\n",
    "                     scoring='accuracy',\n",
    "                     cv=2,\n",
    "                     n_jobs=-1)\n",
    "gd_sr.fit(X_train, y_train)\n",
    "best_parameters = gd_sr.best_params_\n",
    "print(best_parameters)"
   ]
  },
  {
   "cell_type": "markdown",
   "metadata": {},
   "source": [
    "Nos quedamos con el valor max_depth=100. Es el valor que estaba por defecto"
   ]
  },
  {
   "cell_type": "code",
   "execution_count": null,
   "metadata": {},
   "outputs": [],
   "source": []
  },
  {
   "cell_type": "markdown",
   "metadata": {},
   "source": [
    "#### 8.3.3 max_features"
   ]
  },
  {
   "cell_type": "code",
   "execution_count": 39,
   "metadata": {},
   "outputs": [
    {
     "name": "stdout",
     "output_type": "stream",
     "text": [
      "iteration 0.1 hecha\n",
      "iteration 0.2 hecha\n",
      "iteration 0.3 hecha\n",
      "iteration 0.4 hecha\n",
      "iteration 0.5 hecha\n",
      "iteration 0.6 hecha\n",
      "iteration 0.7 hecha\n",
      "iteration 0.8 hecha\n",
      "iteration 0.9 hecha\n",
      "iteration 1.0 hecha\n"
     ]
    },
    {
     "data": {
      "image/png": "[encoded data removed]",
      "text/plain": [
       "<Figure size 432x288 with 1 Axes>"
      ]
     },
     "metadata": {
      "needs_background": "light"
     },
     "output_type": "display_data"
    }
   ],
   "source": [
    "max_features = [0.1, 0.2, 0.3,0.4,0.5, 0.6, 0.7, 0.8, 0.9, 1.0]\n",
    "train_results = []\n",
    "test_results = []\n",
    "for max_feature in max_features:\n",
    "    dt = RandomForestClassifier(max_depth=100, max_features= max_feature)\n",
    "    dt.fit(X_train, y_train)\n",
    "    score=dt.score(X_train, y_train)\n",
    "    # Add auc score to previous train results\n",
    "    train_results.append(score)\n",
    "    scoret = dt.score(X_val, y_val)\n",
    "    # Add auc score to previous test results\n",
    "    test_results.append(scoret)\n",
    "    print(\"iteration\", max_feature, \"hecha\")\n",
    "from matplotlib.legend_handler import HandlerLine2D\n",
    "line1, = plt.plot(max_features, train_results, \"b\", label=\"Train Accuracy\")\n",
    "line2, = plt.plot(max_features, test_results, \"r\", label=\"Val Accuracy\")\n",
    "plt.legend(handler_map={line1: HandlerLine2D(numpoints=2)})\n",
    "plt.ylabel(\"Accuracy score\")\n",
    "plt.xlabel(\"max_samples\")\n",
    "plt.show()"
   ]
  },
  {
   "cell_type": "code",
   "execution_count": 41,
   "metadata": {},
   "outputs": [
    {
     "name": "stdout",
     "output_type": "stream",
     "text": [
      "iteracion 0.1 realizada\n",
      "iteracion 0.2 realizada\n",
      "iteracion 0.3 realizada\n",
      "iteracion 0.4 realizada\n",
      "iteracion 0.5 realizada\n",
      "iteracion 0.6 realizada\n",
      "iteracion 0.7 realizada\n",
      "iteracion 0.8 realizada\n",
      "iteracion 0.9 realizada\n",
      "iteracion 1.0 realizada\n"
     ]
    },
    {
     "data": {
      "image/png": "[encoded data removed]",
      "text/plain": [
       "<Figure size 432x288 with 1 Axes>"
      ]
     },
     "metadata": {
      "needs_background": "light"
     },
     "output_type": "display_data"
    }
   ],
   "source": [
    "max_features = [0.1, 0.2, 0.3,0.4,0.5, 0.6, 0.7, 0.8, 0.9, 1.0]\n",
    "train_results = []\n",
    "test_results = []\n",
    "for max_feature in max_features:\n",
    "    dt = RandomForestClassifier(max_depth=100, max_features= max_feature)\n",
    "    dt.fit(X_train, y_train)\n",
    "    train_pred = dt.predict(X_train)\n",
    "    false_positive_rate, true_positive_rate, thresholds = roc_curve(y_train, train_pred)\n",
    "    roc_auc = auc(false_positive_rate, true_positive_rate)\n",
    "    # Add auc score to previous train results\n",
    "    train_results.append(roc_auc)\n",
    "    y_pred = dt.predict(X_val)\n",
    "    false_positive_rate, true_positive_rate, thresholds = roc_curve(y_val, y_pred)\n",
    "    roc_auc = auc(false_positive_rate, true_positive_rate)\n",
    "    # Add auc score to previous test results\n",
    "    test_results.append(roc_auc)\n",
    "    print(\"iteracion\", max_feature, \"realizada\")\n",
    "from matplotlib.legend_handler import HandlerLine2D\n",
    "line1, = plt.plot(max_features, train_results, \"b\", label=\"Train AUC\")\n",
    "line2, = plt.plot(max_features, test_results, \"r\", label=\"Val AUC\")\n",
    "plt.legend(handler_map={line1: HandlerLine2D(numpoints=2)})\n",
    "plt.ylabel(\"AUC score\")\n",
    "plt.xlabel(\"max_samples\")\n",
    "plt.show()"
   ]
  },
  {
   "cell_type": "code",
   "execution_count": 42,
   "metadata": {},
   "outputs": [
    {
     "name": "stdout",
     "output_type": "stream",
     "text": [
      "{'max_features': 0.2}\n"
     ]
    }
   ],
   "source": [
    "grid_param = {\n",
    "    'max_features': [0.1, 0.2, 0.3,0.4,0.5, 0.6, 0.7, 0.8, 0.9, 1.0]}\n",
    "gd_sr = sklearn.model_selection.GridSearchCV(estimator=RandomForestClassifier(),\n",
    "                     param_grid=grid_param,\n",
    "                     scoring='accuracy',\n",
    "                     cv=2,\n",
    "                     n_jobs=-1)\n",
    "gd_sr.fit(X_train, y_train)\n",
    "best_parameters = gd_sr.best_params_\n",
    "print(best_parameters)"
   ]
  },
  {
   "cell_type": "code",
   "execution_count": null,
   "metadata": {},
   "outputs": [],
   "source": []
  },
  {
   "cell_type": "markdown",
   "metadata": {},
   "source": [
    "Nos quedamos con el valor que de max_features de 0,2."
   ]
  },
  {
   "cell_type": "code",
   "execution_count": null,
   "metadata": {},
   "outputs": [],
   "source": []
  },
  {
   "cell_type": "markdown",
   "metadata": {},
   "source": [
    "#### 8.3.4 max_samples"
   ]
  },
  {
   "cell_type": "code",
   "execution_count": 45,
   "metadata": {},
   "outputs": [
    {
     "name": "stdout",
     "output_type": "stream",
     "text": [
      "iteration 0.1 hecha\n",
      "iteration 0.2 hecha\n",
      "iteration 0.3 hecha\n",
      "iteration 0.4 hecha\n",
      "iteration 0.5 hecha\n",
      "iteration 0.6 hecha\n",
      "iteration 0.7 hecha\n",
      "iteration 0.8 hecha\n",
      "iteration 0.9 hecha\n",
      "iteration 0.99 hecha\n"
     ]
    },
    {
     "data": {
      "image/png": "[encoded data removed]",
      "text/plain": [
       "<Figure size 432x288 with 1 Axes>"
      ]
     },
     "metadata": {
      "needs_background": "light"
     },
     "output_type": "display_data"
    }
   ],
   "source": [
    "max_samples = [0.1, 0.2, 0.3,0.4,0.5, 0.6, 0.7, 0.8, 0.9, 0.99]\n",
    "train_results = []\n",
    "test_results = []\n",
    "for max_sample in max_samples:\n",
    "    dt = RandomForestClassifier(max_depth=100, max_features=0.2 , max_samples= max_sample)\n",
    "    dt.fit(X_train, y_train)\n",
    "    score=dt.score(X_train, y_train)\n",
    "    # Add auc score to previous train results\n",
    "    train_results.append(score)\n",
    "    scoret = dt.score(X_val, y_val)\n",
    "    # Add auc score to previous test results\n",
    "    test_results.append(scoret)\n",
    "    print(\"iteration\", max_sample, \"hecha\")\n",
    "from matplotlib.legend_handler import HandlerLine2D\n",
    "line1, = plt.plot(max_samples, train_results, \"b\", label=\"Train Accuracy\")\n",
    "line2, = plt.plot(max_samples, test_results, \"r\", label=\"Val Accuracy\")\n",
    "plt.legend(handler_map={line1: HandlerLine2D(numpoints=2)})\n",
    "plt.ylabel(\"Accuracy score\")\n",
    "plt.xlabel(\"max_samples\")\n",
    "plt.show()"
   ]
  },
  {
   "cell_type": "code",
   "execution_count": 46,
   "metadata": {},
   "outputs": [
    {
     "name": "stdout",
     "output_type": "stream",
     "text": [
      "iteracion 0.1 realizada\n",
      "iteracion 0.2 realizada\n",
      "iteracion 0.3 realizada\n",
      "iteracion 0.4 realizada\n",
      "iteracion 0.5 realizada\n",
      "iteracion 0.6 realizada\n",
      "iteracion 0.7 realizada\n",
      "iteracion 0.8 realizada\n",
      "iteracion 0.9 realizada\n",
      "iteracion 0.99 realizada\n"
     ]
    },
    {
     "data": {
      "image/png": "[encoded data removed]",
      "text/plain": [
       "<Figure size 432x288 with 1 Axes>"
      ]
     },
     "metadata": {
      "needs_background": "light"
     },
     "output_type": "display_data"
    }
   ],
   "source": [
    "max_samples = [0.1, 0.2, 0.3,0.4,0.5, 0.6, 0.7, 0.8, 0.9, 0.99]\n",
    "train_results = []\n",
    "test_results = []\n",
    "for max_sample in max_samples:\n",
    "    dt = RandomForestClassifier(max_depth=100, max_features=0.2 , max_samples= max_sample)\n",
    "    dt.fit(X_train, y_train)\n",
    "    train_pred = dt.predict(X_train)\n",
    "    false_positive_rate, true_positive_rate, thresholds = roc_curve(y_train, train_pred)\n",
    "    roc_auc = auc(false_positive_rate, true_positive_rate)\n",
    "    # Add auc score to previous train results\n",
    "    train_results.append(roc_auc)\n",
    "    y_pred = dt.predict(X_val)\n",
    "    false_positive_rate, true_positive_rate, thresholds = roc_curve(y_val, y_pred)\n",
    "    roc_auc = auc(false_positive_rate, true_positive_rate)\n",
    "    # Add auc score to previous test results\n",
    "    test_results.append(roc_auc)\n",
    "    print(\"iteracion\", max_sample, \"realizada\")\n",
    "from matplotlib.legend_handler import HandlerLine2D\n",
    "line1, = plt.plot(max_samples, train_results, \"b\", label=\"Train AUC\")\n",
    "line2, = plt.plot(max_samples, test_results, \"r\", label=\"Val AUC\")\n",
    "plt.legend(handler_map={line1: HandlerLine2D(numpoints=2)})\n",
    "plt.ylabel(\"AUC score\")\n",
    "plt.xlabel(\"max_samples\")\n",
    "plt.show()"
   ]
  },
  {
   "cell_type": "code",
   "execution_count": 48,
   "metadata": {},
   "outputs": [
    {
     "name": "stdout",
     "output_type": "stream",
     "text": [
      "{'max_samples': 0.7}\n"
     ]
    }
   ],
   "source": [
    "grid_param = {\n",
    "    'max_samples': [0.1, 0.2, 0.3,0.4,0.5, 0.6, 0.7, 0.8, 0.9, 0.99]}\n",
    "gd_sr = sklearn.model_selection.GridSearchCV(estimator=RandomForestClassifier(),\n",
    "                     param_grid=grid_param,\n",
    "                     scoring='accuracy',\n",
    "                     cv=2,\n",
    "                     n_jobs=-1)\n",
    "gd_sr.fit(X_train, y_train)\n",
    "best_parameters = gd_sr.best_params_\n",
    "print(best_parameters)"
   ]
  },
  {
   "cell_type": "markdown",
   "metadata": {},
   "source": [
    "Se tomara el valor por defecto \"none\", ya que este hace referencia al valor=1. Es decir, cada bolsa tiene el mismo tamaño que los datos iniciales."
   ]
  },
  {
   "cell_type": "code",
   "execution_count": null,
   "metadata": {},
   "outputs": [],
   "source": []
  },
  {
   "cell_type": "markdown",
   "metadata": {},
   "source": [
    "### 8.4 Modelo final"
   ]
  },
  {
   "cell_type": "code",
   "execution_count": 49,
   "metadata": {},
   "outputs": [
    {
     "data": {
      "text/plain": [
       "RandomForestClassifier(bootstrap=True, ccp_alpha=0.0, class_weight=None,\n",
       "                       criterion='gini', max_depth=100, max_features=0.2,\n",
       "                       max_leaf_nodes=None, max_samples=None,\n",
       "                       min_impurity_decrease=0.0, min_impurity_split=None,\n",
       "                       min_samples_leaf=1, min_samples_split=2,\n",
       "                       min_weight_fraction_leaf=0.0, n_estimators=100,\n",
       "                       n_jobs=None, oob_score=False, random_state=None,\n",
       "                       verbose=0, warm_start=False)"
      ]
     },
     "execution_count": 49,
     "metadata": {},
     "output_type": "execute_result"
    }
   ],
   "source": [
    "rf_final_model = RandomForestClassifier(max_depth=100, max_features=0.2)\n",
    "rf_final_model"
   ]
  },
  {
   "cell_type": "code",
   "execution_count": 26,
   "metadata": {},
   "outputs": [],
   "source": [
    "X_train, X_test, y_train, y_test = train_test_split(X, Y, test_size=0.2, random_state=1)\n",
    "\n",
    "X_train, X_val, y_train, y_val = train_test_split(X_train, y_train, test_size=0.25, random_state=1) # 0.25 x 0.8 = 0.2"
   ]
  },
  {
   "cell_type": "code",
   "execution_count": 50,
   "metadata": {},
   "outputs": [
    {
     "data": {
      "text/plain": [
       "RandomForestClassifier(bootstrap=True, ccp_alpha=0.0, class_weight=None,\n",
       "                       criterion='gini', max_depth=100, max_features=0.2,\n",
       "                       max_leaf_nodes=None, max_samples=None,\n",
       "                       min_impurity_decrease=0.0, min_impurity_split=None,\n",
       "                       min_samples_leaf=1, min_samples_split=2,\n",
       "                       min_weight_fraction_leaf=0.0, n_estimators=100,\n",
       "                       n_jobs=None, oob_score=False, random_state=None,\n",
       "                       verbose=0, warm_start=False)"
      ]
     },
     "execution_count": 50,
     "metadata": {},
     "output_type": "execute_result"
    }
   ],
   "source": [
    "rf_final_model.fit(X_train, y_train)"
   ]
  },
  {
   "cell_type": "code",
   "execution_count": 51,
   "metadata": {},
   "outputs": [],
   "source": [
    "#Calculamos los valores que obtenemos de nuestros datos de test\n",
    "y_pred=rf_final_model.predict(X_test)"
   ]
  },
  {
   "cell_type": "code",
   "execution_count": 52,
   "metadata": {},
   "outputs": [
    {
     "data": {
      "image/png": "[encoded data removed]",
      "text/plain": [
       "<Figure size 432x288 with 2 Axes>"
      ]
     },
     "metadata": {
      "needs_background": "light"
     },
     "output_type": "display_data"
    }
   ],
   "source": [
    "sklearn.metrics.plot_confusion_matrix(rf_final_model, X_test, y_test, values_format=\"d\", cmap=plt.cm.Blues)  # doctest: +SKIP\n",
    "plt.show()"
   ]
  },
  {
   "cell_type": "code",
   "execution_count": 61,
   "metadata": {},
   "outputs": [],
   "source": [
    "accuracy= sklearn.metrics.accuracy_score(y_test, y_pred)\n",
    "accuracy_balanced= sklearn.metrics.balanced_accuracy_score(y_test, y_pred)\n",
    "roc= metrics.auc(fpr, tpr)\n",
    "f1= sklearn.metrics.f1_score(y_test, y_pred)"
   ]
  },
  {
   "cell_type": "code",
   "execution_count": 62,
   "metadata": {},
   "outputs": [
    {
     "data": {
      "text/html": [
       "<div>\n",
       "<style scoped>\n",
       "    .dataframe tbody tr th:only-of-type {\n",
       "        vertical-align: middle;\n",
       "    }\n",
       "\n",
       "    .dataframe tbody tr th {\n",
       "        vertical-align: top;\n",
       "    }\n",
       "\n",
       "    .dataframe thead th {\n",
       "        text-align: right;\n",
       "    }\n",
       "</style>\n",
       "<table border=\"1\" class=\"dataframe\">\n",
       "  <thead>\n",
       "    <tr style=\"text-align: right;\">\n",
       "      <th></th>\n",
       "      <th>Model</th>\n",
       "      <th>Accuracy</th>\n",
       "      <th>Balanced accuracy</th>\n",
       "      <th>ROC AUC</th>\n",
       "      <th>F1 Score</th>\n",
       "    </tr>\n",
       "  </thead>\n",
       "  <tbody>\n",
       "    <tr>\n",
       "      <th>0</th>\n",
       "      <td>Random Forest</td>\n",
       "      <td>0.867804</td>\n",
       "      <td>0.86199</td>\n",
       "      <td>0.945698</td>\n",
       "      <td>0.841729</td>\n",
       "    </tr>\n",
       "  </tbody>\n",
       "</table>\n",
       "</div>"
      ],
      "text/plain": [
       "           Model  Accuracy  Balanced accuracy   ROC AUC  F1 Score\n",
       "0  Random Forest  0.867804            0.86199  0.945698  0.841729"
      ]
     },
     "execution_count": 62,
     "metadata": {},
     "output_type": "execute_result"
    }
   ],
   "source": [
    "results_dict = {'Model': ['Random Forest']\n",
    "                 , 'Accuracy': accuracy,'Balanced accuracy': accuracy_balanced,'ROC AUC': roc, 'F1 Score': f1}\n",
    "\n",
    "model_results_df = pd.DataFrame.from_dict(results_dict)\n",
    "model_results_df"
   ]
  },
  {
   "cell_type": "code",
   "execution_count": 63,
   "metadata": {},
   "outputs": [],
   "source": [
    "model_results_df.to_csv('df_randomForest_final.csv', index=False)"
   ]
  },
  {
   "cell_type": "code",
   "execution_count": 64,
   "metadata": {},
   "outputs": [
    {
     "data": {
      "image/png": "[encoded data removed]",
      "text/plain": [
       "<Figure size 432x288 with 1 Axes>"
      ]
     },
     "metadata": {
      "needs_background": "light"
     },
     "output_type": "display_data"
    }
   ],
   "source": [
    "import sklearn.metrics as metrics\n",
    "probs = rf_final_model.predict_proba(X_test)\n",
    "preds = probs[:,1]\n",
    "fpr, tpr, threshold = metrics.roc_curve(y_test, preds)\n",
    "roc= metrics.auc(fpr, tpr)\n",
    "\n",
    "# method I: plt\n",
    "import matplotlib.pyplot as plt\n",
    "plt.title('Receiver Operating Characteristic')\n",
    "plt.plot(fpr, tpr, 'b', label = 'AUC = %0.2f' % roc)\n",
    "plt.legend(loc = 'lower right')\n",
    "plt.plot([0, 1], [0, 1],'r--')\n",
    "plt.xlim([0, 1])\n",
    "plt.ylim([0, 1])\n",
    "plt.ylabel('True Positive Rate')\n",
    "plt.xlabel('False Positive Rate')\n",
    "plt.show()"
   ]
  },
  {
   "cell_type": "code",
   "execution_count": 59,
   "metadata": {},
   "outputs": [
    {
     "data": {
      "text/plain": [
       "0.9456980605592331"
      ]
     },
     "execution_count": 59,
     "metadata": {},
     "output_type": "execute_result"
    }
   ],
   "source": [
    "metrics.auc(fpr, tpr)"
   ]
  },
  {
   "cell_type": "code",
   "execution_count": 68,
   "metadata": {},
   "outputs": [
    {
     "data": {
      "image/png": "[encoded data removed]",
      "text/plain": [
       "<Figure size 432x288 with 1 Axes>"
      ]
     },
     "metadata": {
      "needs_background": "light"
     },
     "output_type": "display_data"
    }
   ],
   "source": [
    "estimadores = [5,10,20,50,75,100,150,200]\n",
    "train_results = []\n",
    "test_results = []\n",
    "for estimador in estimadores:\n",
    "    dt = RandomForestClassifier(n_estimators=estimador, max_samples=0.1, max_depth=20)\n",
    "    dt.fit(X_train, y_train)\n",
    "    score=dt.score(X_train, y_train)\n",
    "    # Add auc score to previous train results\n",
    "    train_results.append(score)\n",
    "    scoret = dt.score(X_val, y_val)\n",
    "    # Add auc score to previous test results\n",
    "    test_results.append(scoret)\n",
    "from matplotlib.legend_handler import HandlerLine2D\n",
    "line1, = plt.plot(estimadores, train_results, \"b\", label=\"Train Accuracy\")\n",
    "line2, = plt.plot(estimadores, test_results, \"r\", label=\"Val Accuracy\")\n",
    "plt.legend(handler_map={line1: HandlerLine2D(numpoints=2)})\n",
    "plt.ylabel(\"Accuracy score\")\n",
    "plt.xlabel(\"n_estimators\")\n",
    "plt.show()"
   ]
  },
  {
   "cell_type": "code",
   "execution_count": 69,
   "metadata": {},
   "outputs": [],
   "source": [
    "from sklearn.metrics import classification_report\n",
    "h=classification_report(y_test, y_pred)"
   ]
  },
  {
   "cell_type": "code",
   "execution_count": 70,
   "metadata": {},
   "outputs": [
    {
     "name": "stdout",
     "output_type": "stream",
     "text": [
      "              precision    recall  f1-score   support\n",
      "\n",
      "           0       0.87      0.90      0.89      8051\n",
      "           1       0.86      0.82      0.84      6019\n",
      "\n",
      "    accuracy                           0.87     14070\n",
      "   macro avg       0.87      0.86      0.86     14070\n",
      "weighted avg       0.87      0.87      0.87     14070\n",
      "\n"
     ]
    }
   ],
   "source": [
    "print(h)"
   ]
  },
  {
   "cell_type": "code",
   "execution_count": 71,
   "metadata": {},
   "outputs": [
    {
     "data": {
      "text/html": [
       "<div>\n",
       "<style scoped>\n",
       "    .dataframe tbody tr th:only-of-type {\n",
       "        vertical-align: middle;\n",
       "    }\n",
       "\n",
       "    .dataframe tbody tr th {\n",
       "        vertical-align: top;\n",
       "    }\n",
       "\n",
       "    .dataframe thead th {\n",
       "        text-align: right;\n",
       "    }\n",
       "</style>\n",
       "<table border=\"1\" class=\"dataframe\">\n",
       "  <thead>\n",
       "    <tr style=\"text-align: right;\">\n",
       "      <th></th>\n",
       "      <th>Model</th>\n",
       "      <th>Accuracy</th>\n",
       "      <th>Balanced accuracy</th>\n",
       "      <th>ROC AUC</th>\n",
       "      <th>F1 Score</th>\n",
       "      <th>sensitivity</th>\n",
       "      <th>specificity</th>\n",
       "    </tr>\n",
       "  </thead>\n",
       "  <tbody>\n",
       "    <tr>\n",
       "      <th>0</th>\n",
       "      <td>Random Forest</td>\n",
       "      <td>0.867804</td>\n",
       "      <td>0.86199</td>\n",
       "      <td>0.945698</td>\n",
       "      <td>0.841729</td>\n",
       "      <td>0.82</td>\n",
       "      <td>0.9</td>\n",
       "    </tr>\n",
       "  </tbody>\n",
       "</table>\n",
       "</div>"
      ],
      "text/plain": [
       "           Model  Accuracy  Balanced accuracy   ROC AUC  F1 Score  \\\n",
       "0  Random Forest  0.867804            0.86199  0.945698  0.841729   \n",
       "\n",
       "   sensitivity  specificity  \n",
       "0         0.82          0.9  "
      ]
     },
     "execution_count": 71,
     "metadata": {},
     "output_type": "execute_result"
    }
   ],
   "source": [
    "results_dict = {'Model': ['Random Forest']\n",
    "                 , 'Accuracy': accuracy,'Balanced accuracy': accuracy_balanced,'ROC AUC': roc, 'F1 Score': f1, 'sensitivity':0.82, 'specificity':0.9}\n",
    "\n",
    "model_results_df = pd.DataFrame.from_dict(results_dict)\n",
    "model_results_df"
   ]
  },
  {
   "cell_type": "code",
   "execution_count": 72,
   "metadata": {},
   "outputs": [],
   "source": [
    "model_results_df.to_csv('df_randomForest_final.csv', index=False)"
   ]
  },
  {
   "cell_type": "code",
   "execution_count": null,
   "metadata": {},
   "outputs": [],
   "source": []
  }
 ],
 "metadata": {
  "kernelspec": {
   "display_name": "Python 3",
   "language": "python",
   "name": "python3"
  },
  "language_info": {
   "codemirror_mode": {
    "name": "ipython",
    "version": 3
   },
   "file_extension": ".py",
   "mimetype": "text/x-python",
   "name": "python",
   "nbconvert_exporter": "python",
   "pygments_lexer": "ipython3",
   "version": "3.7.4"
  }
 },
 "nbformat": 4,
 "nbformat_minor": 2
}
